{
  "nbformat": 4,
  "nbformat_minor": 0,
  "metadata": {
    "colab": {
      "name": "Feature Selection - Random Forest",
      "provenance": [],
      "collapsed_sections": [
        "g92HZWZ_A7OP",
        "dBiu7Oq1BBRA"
      ]
    },
    "kernelspec": {
      "name": "python3",
      "display_name": "Python 3"
    },
    "language_info": {
      "name": "python"
    }
  },
  "cells": [
    {
      "cell_type": "code",
      "execution_count": null,
      "metadata": {
        "id": "iNswzj6RO4FM"
      },
      "outputs": [],
      "source": [
        ""
      ]
    },
    {
      "cell_type": "markdown",
      "source": [
        "### 데이터 불러오기"
      ],
      "metadata": {
        "id": "g92HZWZ_A7OP"
      }
    },
    {
      "cell_type": "code",
      "source": [
        "from google.colab import drive\n",
        "drive.mount('/content/drive')"
      ],
      "metadata": {
        "colab": {
          "base_uri": "https://localhost:8080/"
        },
        "id": "_mLg0BsqAFlR",
        "outputId": "779d185a-9c1f-4241-acb5-cb13601ebf2f"
      },
      "execution_count": null,
      "outputs": [
        {
          "output_type": "stream",
          "name": "stdout",
          "text": [
            "Mounted at /content/drive\n"
          ]
        }
      ]
    },
    {
      "cell_type": "code",
      "execution_count": null,
      "metadata": {
        "id": "KMicvsiZACBN"
      },
      "outputs": [],
      "source": [
        "import pandas as pd\n",
        "\n",
        "dataset = pd.read_csv('/content/drive/MyDrive/Aiffel Hackathon/colab_dataset/final_featured_dataset_preprocessed2')"
      ]
    },
    {
      "cell_type": "code",
      "source": [
        "dataset.info()"
      ],
      "metadata": {
        "colab": {
          "base_uri": "https://localhost:8080/"
        },
        "id": "N3yj8TnfAyVD",
        "outputId": "25886d72-0720-4a36-96d8-ef7d0fd98e45"
      },
      "execution_count": null,
      "outputs": [
        {
          "output_type": "stream",
          "name": "stdout",
          "text": [
            "<class 'pandas.core.frame.DataFrame'>\n",
            "RangeIndex: 523101 entries, 0 to 523100\n",
            "Data columns (total 54 columns):\n",
            " #   Column           Non-Null Count   Dtype  \n",
            "---  ------           --------------   -----  \n",
            " 0   Unnamed: 0       523101 non-null  int64  \n",
            " 1   Close            523101 non-null  int64  \n",
            " 2   signal           523101 non-null  float64\n",
            " 3   EMA10            523101 non-null  float64\n",
            " 4   EMA30            523101 non-null  float64\n",
            " 5   EMA180           523101 non-null  float64\n",
            " 6   ROC10            523101 non-null  float64\n",
            " 7   ROC30            523101 non-null  float64\n",
            " 8   MOM10            523101 non-null  float64\n",
            " 9   MOM30            523101 non-null  float64\n",
            " 10  %K10             523101 non-null  float64\n",
            " 11  %D10             523101 non-null  float64\n",
            " 12  %K30             523101 non-null  float64\n",
            " 13  %D30             523101 non-null  float64\n",
            " 14  %K180            523101 non-null  float64\n",
            " 15  %D180            523101 non-null  float64\n",
            " 16  RSI10            523101 non-null  float64\n",
            " 17  RSI30            523101 non-null  float64\n",
            " 18  RSI180           523101 non-null  float64\n",
            " 19  MA10             523101 non-null  float64\n",
            " 20  MA30             523101 non-null  float64\n",
            " 21  MA180            523101 non-null  float64\n",
            " 22  EMAFast          523101 non-null  float64\n",
            " 23  EMASlow          523101 non-null  float64\n",
            " 24  MACD             523101 non-null  float64\n",
            " 25  MACDSignal       523101 non-null  float64\n",
            " 26  MACDDiff         523101 non-null  float64\n",
            " 27  MBB(MA20)        523101 non-null  float64\n",
            " 28  HBB              523101 non-null  float64\n",
            " 29  LBB              523101 non-null  float64\n",
            " 30  PDI              523101 non-null  float64\n",
            " 31  MDI              523101 non-null  float64\n",
            " 32  ADX              523101 non-null  float64\n",
            " 33  OLCR             523101 non-null  float64\n",
            " 34  HCR              523101 non-null  float64\n",
            " 35  LCR              523101 non-null  float64\n",
            " 36  CLCR             523101 non-null  float64\n",
            " 37  VLVR             523101 non-null  float64\n",
            " 38  VMA5R            523101 non-null  float64\n",
            " 39  VMA10R           523101 non-null  float64\n",
            " 40  VMA20R           523101 non-null  float64\n",
            " 41  VMA60R           523101 non-null  float64\n",
            " 42  VMA120R          523101 non-null  float64\n",
            " 43  BTC_close        523101 non-null  float64\n",
            " 44  DXY              523101 non-null  float64\n",
            " 45  BTCD             523101 non-null  float64\n",
            " 46  Kimchi_premium   523101 non-null  float64\n",
            " 47  S&P500           523101 non-null  float64\n",
            " 48  Ethereum DeFi    523101 non-null  float64\n",
            " 49  News_freq        523101 non-null  float64\n",
            " 50  NaverTrend       523101 non-null  float64\n",
            " 51  Kyle_lambda      523101 non-null  float64\n",
            " 52  Amihud_lambda    523101 non-null  float64\n",
            " 53  Hasbrouck_labda  523101 non-null  float64\n",
            "dtypes: float64(52), int64(2)\n",
            "memory usage: 215.5 MB\n"
          ]
        }
      ]
    },
    {
      "cell_type": "code",
      "source": [
        "dataset"
      ],
      "metadata": {
        "colab": {
          "base_uri": "https://localhost:8080/",
          "height": 505
        },
        "id": "U2_CsrM0A0Wt",
        "outputId": "89cfc237-2b75-4f1f-81dc-ddb15942020e"
      },
      "execution_count": null,
      "outputs": [
        {
          "output_type": "execute_result",
          "data": {
            "text/plain": [
              "        Unnamed: 0    Close  signal         EMA10         EMA30        EMA180  \\\n",
              "0                0  2018000     0.0  2.015755e+06  2.013690e+06  2.022620e+06   \n",
              "1                1  2019000     0.0  2.016163e+06  2.013968e+06  2.022569e+06   \n",
              "2                2  2019000     0.0  2.016679e+06  2.014293e+06  2.022530e+06   \n",
              "3                3  2019000     0.0  2.017101e+06  2.014596e+06  2.022491e+06   \n",
              "4                4  2016000     0.0  2.017446e+06  2.014880e+06  2.022452e+06   \n",
              "...            ...      ...     ...           ...           ...           ...   \n",
              "523096      523096  3665000     0.0  3.665095e+06  3.659772e+06  3.634378e+06   \n",
              "523097      523097  3668000     0.0  3.665078e+06  3.660109e+06  3.634716e+06   \n",
              "523098      523098  3669000     0.0  3.665609e+06  3.660618e+06  3.635084e+06   \n",
              "523099      523099  3663000     0.0  3.666226e+06  3.661159e+06  3.635459e+06   \n",
              "523100      523100  3662000     0.0  3.665639e+06  3.661278e+06  3.635763e+06   \n",
              "\n",
              "           ROC10     ROC30   MOM10    MOM30  ...     DXY       BTCD  \\\n",
              "0       0.347913  0.347913  7000.0   7000.0  ...  92.350  61.201411   \n",
              "1       0.298211  0.348086  6000.0   6000.0  ...  92.350  61.201411   \n",
              "2       0.347913  0.298063  7000.0   8000.0  ...  92.350  61.201411   \n",
              "3       0.298063  0.447761  7000.0   6000.0  ...  92.350  61.201411   \n",
              "4       0.198511  0.447761  6000.0   9000.0  ...  92.350  61.201411   \n",
              "...          ...       ...     ...      ...  ...     ...        ...   \n",
              "523096  0.109230  0.603732  4000.0  21000.0  ...  98.793  42.584513   \n",
              "523097  0.027293  0.603898  3000.0  21000.0  ...  98.793  42.584513   \n",
              "523098  0.054555  0.713893  4000.0  25000.0  ...  98.793  42.584513   \n",
              "523099  0.109141  0.713698  3000.0  27000.0  ...  98.793  42.584513   \n",
              "523100 -0.027293  0.466264 -2000.0  20000.0  ...  98.793  42.584513   \n",
              "\n",
              "        Kimchi_premium   S&P500  Ethereum DeFi  News_freq  NaverTrend  \\\n",
              "0            10.897713  3910.51   4.492662e+10      142.0    25.36670   \n",
              "1            10.897713  3910.51   4.492662e+10      142.0    25.36670   \n",
              "2            10.897713  3910.51   4.492662e+10      142.0    25.36670   \n",
              "3            10.897713  3910.51   4.492662e+10      142.0    25.36670   \n",
              "4            10.897713  3910.51   4.492662e+10      142.0    25.36670   \n",
              "...                ...      ...            ...        ...         ...   \n",
              "523096       15.249800  4488.22   1.159212e+11       57.0     4.68624   \n",
              "523097       15.249800  4488.22   1.159212e+11       57.0     4.68624   \n",
              "523098       15.249800  4488.22   1.159212e+11       57.0     4.68624   \n",
              "523099       15.249800  4488.22   1.159212e+11       57.0     4.68624   \n",
              "523100       15.249800  4488.22   1.159212e+11       57.0     4.68624   \n",
              "\n",
              "        Kyle_lambda  Amihud_lambda  Hasbrouck_labda  \n",
              "0         41.508146       0.000021         0.000078  \n",
              "1         35.517186       0.000018         0.000072  \n",
              "2         34.517538       0.000017         0.000071  \n",
              "3         30.777662       0.000015         0.000064  \n",
              "4         28.991902       0.000014         0.000059  \n",
              "...             ...            ...              ...  \n",
              "523096    48.670278       0.000013         0.000093  \n",
              "523097    48.124403       0.000013         0.000091  \n",
              "523098    49.368770       0.000013         0.000094  \n",
              "523099    49.889389       0.000014         0.000096  \n",
              "523100    45.408803       0.000012         0.000095  \n",
              "\n",
              "[523101 rows x 54 columns]"
            ],
            "text/html": [
              "\n",
              "  <div id=\"df-73cfa208-9906-46e2-bc8e-5b36bab5f4c3\">\n",
              "    <div class=\"colab-df-container\">\n",
              "      <div>\n",
              "<style scoped>\n",
              "    .dataframe tbody tr th:only-of-type {\n",
              "        vertical-align: middle;\n",
              "    }\n",
              "\n",
              "    .dataframe tbody tr th {\n",
              "        vertical-align: top;\n",
              "    }\n",
              "\n",
              "    .dataframe thead th {\n",
              "        text-align: right;\n",
              "    }\n",
              "</style>\n",
              "<table border=\"1\" class=\"dataframe\">\n",
              "  <thead>\n",
              "    <tr style=\"text-align: right;\">\n",
              "      <th></th>\n",
              "      <th>Unnamed: 0</th>\n",
              "      <th>Close</th>\n",
              "      <th>signal</th>\n",
              "      <th>EMA10</th>\n",
              "      <th>EMA30</th>\n",
              "      <th>EMA180</th>\n",
              "      <th>ROC10</th>\n",
              "      <th>ROC30</th>\n",
              "      <th>MOM10</th>\n",
              "      <th>MOM30</th>\n",
              "      <th>...</th>\n",
              "      <th>DXY</th>\n",
              "      <th>BTCD</th>\n",
              "      <th>Kimchi_premium</th>\n",
              "      <th>S&amp;P500</th>\n",
              "      <th>Ethereum DeFi</th>\n",
              "      <th>News_freq</th>\n",
              "      <th>NaverTrend</th>\n",
              "      <th>Kyle_lambda</th>\n",
              "      <th>Amihud_lambda</th>\n",
              "      <th>Hasbrouck_labda</th>\n",
              "    </tr>\n",
              "  </thead>\n",
              "  <tbody>\n",
              "    <tr>\n",
              "      <th>0</th>\n",
              "      <td>0</td>\n",
              "      <td>2018000</td>\n",
              "      <td>0.0</td>\n",
              "      <td>2.015755e+06</td>\n",
              "      <td>2.013690e+06</td>\n",
              "      <td>2.022620e+06</td>\n",
              "      <td>0.347913</td>\n",
              "      <td>0.347913</td>\n",
              "      <td>7000.0</td>\n",
              "      <td>7000.0</td>\n",
              "      <td>...</td>\n",
              "      <td>92.350</td>\n",
              "      <td>61.201411</td>\n",
              "      <td>10.897713</td>\n",
              "      <td>3910.51</td>\n",
              "      <td>4.492662e+10</td>\n",
              "      <td>142.0</td>\n",
              "      <td>25.36670</td>\n",
              "      <td>41.508146</td>\n",
              "      <td>0.000021</td>\n",
              "      <td>0.000078</td>\n",
              "    </tr>\n",
              "    <tr>\n",
              "      <th>1</th>\n",
              "      <td>1</td>\n",
              "      <td>2019000</td>\n",
              "      <td>0.0</td>\n",
              "      <td>2.016163e+06</td>\n",
              "      <td>2.013968e+06</td>\n",
              "      <td>2.022569e+06</td>\n",
              "      <td>0.298211</td>\n",
              "      <td>0.348086</td>\n",
              "      <td>6000.0</td>\n",
              "      <td>6000.0</td>\n",
              "      <td>...</td>\n",
              "      <td>92.350</td>\n",
              "      <td>61.201411</td>\n",
              "      <td>10.897713</td>\n",
              "      <td>3910.51</td>\n",
              "      <td>4.492662e+10</td>\n",
              "      <td>142.0</td>\n",
              "      <td>25.36670</td>\n",
              "      <td>35.517186</td>\n",
              "      <td>0.000018</td>\n",
              "      <td>0.000072</td>\n",
              "    </tr>\n",
              "    <tr>\n",
              "      <th>2</th>\n",
              "      <td>2</td>\n",
              "      <td>2019000</td>\n",
              "      <td>0.0</td>\n",
              "      <td>2.016679e+06</td>\n",
              "      <td>2.014293e+06</td>\n",
              "      <td>2.022530e+06</td>\n",
              "      <td>0.347913</td>\n",
              "      <td>0.298063</td>\n",
              "      <td>7000.0</td>\n",
              "      <td>8000.0</td>\n",
              "      <td>...</td>\n",
              "      <td>92.350</td>\n",
              "      <td>61.201411</td>\n",
              "      <td>10.897713</td>\n",
              "      <td>3910.51</td>\n",
              "      <td>4.492662e+10</td>\n",
              "      <td>142.0</td>\n",
              "      <td>25.36670</td>\n",
              "      <td>34.517538</td>\n",
              "      <td>0.000017</td>\n",
              "      <td>0.000071</td>\n",
              "    </tr>\n",
              "    <tr>\n",
              "      <th>3</th>\n",
              "      <td>3</td>\n",
              "      <td>2019000</td>\n",
              "      <td>0.0</td>\n",
              "      <td>2.017101e+06</td>\n",
              "      <td>2.014596e+06</td>\n",
              "      <td>2.022491e+06</td>\n",
              "      <td>0.298063</td>\n",
              "      <td>0.447761</td>\n",
              "      <td>7000.0</td>\n",
              "      <td>6000.0</td>\n",
              "      <td>...</td>\n",
              "      <td>92.350</td>\n",
              "      <td>61.201411</td>\n",
              "      <td>10.897713</td>\n",
              "      <td>3910.51</td>\n",
              "      <td>4.492662e+10</td>\n",
              "      <td>142.0</td>\n",
              "      <td>25.36670</td>\n",
              "      <td>30.777662</td>\n",
              "      <td>0.000015</td>\n",
              "      <td>0.000064</td>\n",
              "    </tr>\n",
              "    <tr>\n",
              "      <th>4</th>\n",
              "      <td>4</td>\n",
              "      <td>2016000</td>\n",
              "      <td>0.0</td>\n",
              "      <td>2.017446e+06</td>\n",
              "      <td>2.014880e+06</td>\n",
              "      <td>2.022452e+06</td>\n",
              "      <td>0.198511</td>\n",
              "      <td>0.447761</td>\n",
              "      <td>6000.0</td>\n",
              "      <td>9000.0</td>\n",
              "      <td>...</td>\n",
              "      <td>92.350</td>\n",
              "      <td>61.201411</td>\n",
              "      <td>10.897713</td>\n",
              "      <td>3910.51</td>\n",
              "      <td>4.492662e+10</td>\n",
              "      <td>142.0</td>\n",
              "      <td>25.36670</td>\n",
              "      <td>28.991902</td>\n",
              "      <td>0.000014</td>\n",
              "      <td>0.000059</td>\n",
              "    </tr>\n",
              "    <tr>\n",
              "      <th>...</th>\n",
              "      <td>...</td>\n",
              "      <td>...</td>\n",
              "      <td>...</td>\n",
              "      <td>...</td>\n",
              "      <td>...</td>\n",
              "      <td>...</td>\n",
              "      <td>...</td>\n",
              "      <td>...</td>\n",
              "      <td>...</td>\n",
              "      <td>...</td>\n",
              "      <td>...</td>\n",
              "      <td>...</td>\n",
              "      <td>...</td>\n",
              "      <td>...</td>\n",
              "      <td>...</td>\n",
              "      <td>...</td>\n",
              "      <td>...</td>\n",
              "      <td>...</td>\n",
              "      <td>...</td>\n",
              "      <td>...</td>\n",
              "      <td>...</td>\n",
              "    </tr>\n",
              "    <tr>\n",
              "      <th>523096</th>\n",
              "      <td>523096</td>\n",
              "      <td>3665000</td>\n",
              "      <td>0.0</td>\n",
              "      <td>3.665095e+06</td>\n",
              "      <td>3.659772e+06</td>\n",
              "      <td>3.634378e+06</td>\n",
              "      <td>0.109230</td>\n",
              "      <td>0.603732</td>\n",
              "      <td>4000.0</td>\n",
              "      <td>21000.0</td>\n",
              "      <td>...</td>\n",
              "      <td>98.793</td>\n",
              "      <td>42.584513</td>\n",
              "      <td>15.249800</td>\n",
              "      <td>4488.22</td>\n",
              "      <td>1.159212e+11</td>\n",
              "      <td>57.0</td>\n",
              "      <td>4.68624</td>\n",
              "      <td>48.670278</td>\n",
              "      <td>0.000013</td>\n",
              "      <td>0.000093</td>\n",
              "    </tr>\n",
              "    <tr>\n",
              "      <th>523097</th>\n",
              "      <td>523097</td>\n",
              "      <td>3668000</td>\n",
              "      <td>0.0</td>\n",
              "      <td>3.665078e+06</td>\n",
              "      <td>3.660109e+06</td>\n",
              "      <td>3.634716e+06</td>\n",
              "      <td>0.027293</td>\n",
              "      <td>0.603898</td>\n",
              "      <td>3000.0</td>\n",
              "      <td>21000.0</td>\n",
              "      <td>...</td>\n",
              "      <td>98.793</td>\n",
              "      <td>42.584513</td>\n",
              "      <td>15.249800</td>\n",
              "      <td>4488.22</td>\n",
              "      <td>1.159212e+11</td>\n",
              "      <td>57.0</td>\n",
              "      <td>4.68624</td>\n",
              "      <td>48.124403</td>\n",
              "      <td>0.000013</td>\n",
              "      <td>0.000091</td>\n",
              "    </tr>\n",
              "    <tr>\n",
              "      <th>523098</th>\n",
              "      <td>523098</td>\n",
              "      <td>3669000</td>\n",
              "      <td>0.0</td>\n",
              "      <td>3.665609e+06</td>\n",
              "      <td>3.660618e+06</td>\n",
              "      <td>3.635084e+06</td>\n",
              "      <td>0.054555</td>\n",
              "      <td>0.713893</td>\n",
              "      <td>4000.0</td>\n",
              "      <td>25000.0</td>\n",
              "      <td>...</td>\n",
              "      <td>98.793</td>\n",
              "      <td>42.584513</td>\n",
              "      <td>15.249800</td>\n",
              "      <td>4488.22</td>\n",
              "      <td>1.159212e+11</td>\n",
              "      <td>57.0</td>\n",
              "      <td>4.68624</td>\n",
              "      <td>49.368770</td>\n",
              "      <td>0.000013</td>\n",
              "      <td>0.000094</td>\n",
              "    </tr>\n",
              "    <tr>\n",
              "      <th>523099</th>\n",
              "      <td>523099</td>\n",
              "      <td>3663000</td>\n",
              "      <td>0.0</td>\n",
              "      <td>3.666226e+06</td>\n",
              "      <td>3.661159e+06</td>\n",
              "      <td>3.635459e+06</td>\n",
              "      <td>0.109141</td>\n",
              "      <td>0.713698</td>\n",
              "      <td>3000.0</td>\n",
              "      <td>27000.0</td>\n",
              "      <td>...</td>\n",
              "      <td>98.793</td>\n",
              "      <td>42.584513</td>\n",
              "      <td>15.249800</td>\n",
              "      <td>4488.22</td>\n",
              "      <td>1.159212e+11</td>\n",
              "      <td>57.0</td>\n",
              "      <td>4.68624</td>\n",
              "      <td>49.889389</td>\n",
              "      <td>0.000014</td>\n",
              "      <td>0.000096</td>\n",
              "    </tr>\n",
              "    <tr>\n",
              "      <th>523100</th>\n",
              "      <td>523100</td>\n",
              "      <td>3662000</td>\n",
              "      <td>0.0</td>\n",
              "      <td>3.665639e+06</td>\n",
              "      <td>3.661278e+06</td>\n",
              "      <td>3.635763e+06</td>\n",
              "      <td>-0.027293</td>\n",
              "      <td>0.466264</td>\n",
              "      <td>-2000.0</td>\n",
              "      <td>20000.0</td>\n",
              "      <td>...</td>\n",
              "      <td>98.793</td>\n",
              "      <td>42.584513</td>\n",
              "      <td>15.249800</td>\n",
              "      <td>4488.22</td>\n",
              "      <td>1.159212e+11</td>\n",
              "      <td>57.0</td>\n",
              "      <td>4.68624</td>\n",
              "      <td>45.408803</td>\n",
              "      <td>0.000012</td>\n",
              "      <td>0.000095</td>\n",
              "    </tr>\n",
              "  </tbody>\n",
              "</table>\n",
              "<p>523101 rows × 54 columns</p>\n",
              "</div>\n",
              "      <button class=\"colab-df-convert\" onclick=\"convertToInteractive('df-73cfa208-9906-46e2-bc8e-5b36bab5f4c3')\"\n",
              "              title=\"Convert this dataframe to an interactive table.\"\n",
              "              style=\"display:none;\">\n",
              "        \n",
              "  <svg xmlns=\"http://www.w3.org/2000/svg\" height=\"24px\"viewBox=\"0 0 24 24\"\n",
              "       width=\"24px\">\n",
              "    <path d=\"M0 0h24v24H0V0z\" fill=\"none\"/>\n",
              "    <path d=\"M18.56 5.44l.94 2.06.94-2.06 2.06-.94-2.06-.94-.94-2.06-.94 2.06-2.06.94zm-11 1L8.5 8.5l.94-2.06 2.06-.94-2.06-.94L8.5 2.5l-.94 2.06-2.06.94zm10 10l.94 2.06.94-2.06 2.06-.94-2.06-.94-.94-2.06-.94 2.06-2.06.94z\"/><path d=\"M17.41 7.96l-1.37-1.37c-.4-.4-.92-.59-1.43-.59-.52 0-1.04.2-1.43.59L10.3 9.45l-7.72 7.72c-.78.78-.78 2.05 0 2.83L4 21.41c.39.39.9.59 1.41.59.51 0 1.02-.2 1.41-.59l7.78-7.78 2.81-2.81c.8-.78.8-2.07 0-2.86zM5.41 20L4 18.59l7.72-7.72 1.47 1.35L5.41 20z\"/>\n",
              "  </svg>\n",
              "      </button>\n",
              "      \n",
              "  <style>\n",
              "    .colab-df-container {\n",
              "      display:flex;\n",
              "      flex-wrap:wrap;\n",
              "      gap: 12px;\n",
              "    }\n",
              "\n",
              "    .colab-df-convert {\n",
              "      background-color: #E8F0FE;\n",
              "      border: none;\n",
              "      border-radius: 50%;\n",
              "      cursor: pointer;\n",
              "      display: none;\n",
              "      fill: #1967D2;\n",
              "      height: 32px;\n",
              "      padding: 0 0 0 0;\n",
              "      width: 32px;\n",
              "    }\n",
              "\n",
              "    .colab-df-convert:hover {\n",
              "      background-color: #E2EBFA;\n",
              "      box-shadow: 0px 1px 2px rgba(60, 64, 67, 0.3), 0px 1px 3px 1px rgba(60, 64, 67, 0.15);\n",
              "      fill: #174EA6;\n",
              "    }\n",
              "\n",
              "    [theme=dark] .colab-df-convert {\n",
              "      background-color: #3B4455;\n",
              "      fill: #D2E3FC;\n",
              "    }\n",
              "\n",
              "    [theme=dark] .colab-df-convert:hover {\n",
              "      background-color: #434B5C;\n",
              "      box-shadow: 0px 1px 3px 1px rgba(0, 0, 0, 0.15);\n",
              "      filter: drop-shadow(0px 1px 2px rgba(0, 0, 0, 0.3));\n",
              "      fill: #FFFFFF;\n",
              "    }\n",
              "  </style>\n",
              "\n",
              "      <script>\n",
              "        const buttonEl =\n",
              "          document.querySelector('#df-73cfa208-9906-46e2-bc8e-5b36bab5f4c3 button.colab-df-convert');\n",
              "        buttonEl.style.display =\n",
              "          google.colab.kernel.accessAllowed ? 'block' : 'none';\n",
              "\n",
              "        async function convertToInteractive(key) {\n",
              "          const element = document.querySelector('#df-73cfa208-9906-46e2-bc8e-5b36bab5f4c3');\n",
              "          const dataTable =\n",
              "            await google.colab.kernel.invokeFunction('convertToInteractive',\n",
              "                                                     [key], {});\n",
              "          if (!dataTable) return;\n",
              "\n",
              "          const docLinkHtml = 'Like what you see? Visit the ' +\n",
              "            '<a target=\"_blank\" href=https://colab.research.google.com/notebooks/data_table.ipynb>data table notebook</a>'\n",
              "            + ' to learn more about interactive tables.';\n",
              "          element.innerHTML = '';\n",
              "          dataTable['output_type'] = 'display_data';\n",
              "          await google.colab.output.renderOutput(dataTable, element);\n",
              "          const docLink = document.createElement('div');\n",
              "          docLink.innerHTML = docLinkHtml;\n",
              "          element.appendChild(docLink);\n",
              "        }\n",
              "      </script>\n",
              "    </div>\n",
              "  </div>\n",
              "  "
            ]
          },
          "metadata": {},
          "execution_count": 4
        }
      ]
    },
    {
      "cell_type": "markdown",
      "source": [
        "### 전처리"
      ],
      "metadata": {
        "id": "dBiu7Oq1BBRA"
      }
    },
    {
      "cell_type": "code",
      "source": [
        "#  필요없는 columns 삭제\n",
        "\n",
        "dataset=dataset.drop(['Unnamed: 0','Close'], axis=1)\n",
        "dataset.head()"
      ],
      "metadata": {
        "colab": {
          "base_uri": "https://localhost:8080/",
          "height": 317
        },
        "id": "udUiS7LbA1sq",
        "outputId": "8c699940-a033-4fce-9405-918dcec3653c"
      },
      "execution_count": null,
      "outputs": [
        {
          "output_type": "execute_result",
          "data": {
            "text/plain": [
              "   signal         EMA10         EMA30        EMA180     ROC10     ROC30  \\\n",
              "0     0.0  2.015755e+06  2.013690e+06  2.022620e+06  0.347913  0.347913   \n",
              "1     0.0  2.016163e+06  2.013968e+06  2.022569e+06  0.298211  0.348086   \n",
              "2     0.0  2.016679e+06  2.014293e+06  2.022530e+06  0.347913  0.298063   \n",
              "3     0.0  2.017101e+06  2.014596e+06  2.022491e+06  0.298063  0.447761   \n",
              "4     0.0  2.017446e+06  2.014880e+06  2.022452e+06  0.198511  0.447761   \n",
              "\n",
              "    MOM10   MOM30       %K10       %D10  ...    DXY       BTCD  \\\n",
              "0  7000.0  7000.0  80.000000  80.833333  ...  92.35  61.201411   \n",
              "1  6000.0  6000.0  70.000000  79.166667  ...  92.35  61.201411   \n",
              "2  7000.0  8000.0  80.000000  76.666667  ...  92.35  61.201411   \n",
              "3  7000.0  6000.0  77.777778  75.925926  ...  92.35  61.201411   \n",
              "4  6000.0  9000.0  75.000000  77.592593  ...  92.35  61.201411   \n",
              "\n",
              "   Kimchi_premium   S&P500  Ethereum DeFi  News_freq  NaverTrend  Kyle_lambda  \\\n",
              "0       10.897713  3910.51   4.492662e+10      142.0     25.3667    41.508146   \n",
              "1       10.897713  3910.51   4.492662e+10      142.0     25.3667    35.517186   \n",
              "2       10.897713  3910.51   4.492662e+10      142.0     25.3667    34.517538   \n",
              "3       10.897713  3910.51   4.492662e+10      142.0     25.3667    30.777662   \n",
              "4       10.897713  3910.51   4.492662e+10      142.0     25.3667    28.991902   \n",
              "\n",
              "   Amihud_lambda  Hasbrouck_labda  \n",
              "0       0.000021         0.000078  \n",
              "1       0.000018         0.000072  \n",
              "2       0.000017         0.000071  \n",
              "3       0.000015         0.000064  \n",
              "4       0.000014         0.000059  \n",
              "\n",
              "[5 rows x 52 columns]"
            ],
            "text/html": [
              "\n",
              "  <div id=\"df-8c8641dc-b69f-445c-8bb7-b199e641d58b\">\n",
              "    <div class=\"colab-df-container\">\n",
              "      <div>\n",
              "<style scoped>\n",
              "    .dataframe tbody tr th:only-of-type {\n",
              "        vertical-align: middle;\n",
              "    }\n",
              "\n",
              "    .dataframe tbody tr th {\n",
              "        vertical-align: top;\n",
              "    }\n",
              "\n",
              "    .dataframe thead th {\n",
              "        text-align: right;\n",
              "    }\n",
              "</style>\n",
              "<table border=\"1\" class=\"dataframe\">\n",
              "  <thead>\n",
              "    <tr style=\"text-align: right;\">\n",
              "      <th></th>\n",
              "      <th>signal</th>\n",
              "      <th>EMA10</th>\n",
              "      <th>EMA30</th>\n",
              "      <th>EMA180</th>\n",
              "      <th>ROC10</th>\n",
              "      <th>ROC30</th>\n",
              "      <th>MOM10</th>\n",
              "      <th>MOM30</th>\n",
              "      <th>%K10</th>\n",
              "      <th>%D10</th>\n",
              "      <th>...</th>\n",
              "      <th>DXY</th>\n",
              "      <th>BTCD</th>\n",
              "      <th>Kimchi_premium</th>\n",
              "      <th>S&amp;P500</th>\n",
              "      <th>Ethereum DeFi</th>\n",
              "      <th>News_freq</th>\n",
              "      <th>NaverTrend</th>\n",
              "      <th>Kyle_lambda</th>\n",
              "      <th>Amihud_lambda</th>\n",
              "      <th>Hasbrouck_labda</th>\n",
              "    </tr>\n",
              "  </thead>\n",
              "  <tbody>\n",
              "    <tr>\n",
              "      <th>0</th>\n",
              "      <td>0.0</td>\n",
              "      <td>2.015755e+06</td>\n",
              "      <td>2.013690e+06</td>\n",
              "      <td>2.022620e+06</td>\n",
              "      <td>0.347913</td>\n",
              "      <td>0.347913</td>\n",
              "      <td>7000.0</td>\n",
              "      <td>7000.0</td>\n",
              "      <td>80.000000</td>\n",
              "      <td>80.833333</td>\n",
              "      <td>...</td>\n",
              "      <td>92.35</td>\n",
              "      <td>61.201411</td>\n",
              "      <td>10.897713</td>\n",
              "      <td>3910.51</td>\n",
              "      <td>4.492662e+10</td>\n",
              "      <td>142.0</td>\n",
              "      <td>25.3667</td>\n",
              "      <td>41.508146</td>\n",
              "      <td>0.000021</td>\n",
              "      <td>0.000078</td>\n",
              "    </tr>\n",
              "    <tr>\n",
              "      <th>1</th>\n",
              "      <td>0.0</td>\n",
              "      <td>2.016163e+06</td>\n",
              "      <td>2.013968e+06</td>\n",
              "      <td>2.022569e+06</td>\n",
              "      <td>0.298211</td>\n",
              "      <td>0.348086</td>\n",
              "      <td>6000.0</td>\n",
              "      <td>6000.0</td>\n",
              "      <td>70.000000</td>\n",
              "      <td>79.166667</td>\n",
              "      <td>...</td>\n",
              "      <td>92.35</td>\n",
              "      <td>61.201411</td>\n",
              "      <td>10.897713</td>\n",
              "      <td>3910.51</td>\n",
              "      <td>4.492662e+10</td>\n",
              "      <td>142.0</td>\n",
              "      <td>25.3667</td>\n",
              "      <td>35.517186</td>\n",
              "      <td>0.000018</td>\n",
              "      <td>0.000072</td>\n",
              "    </tr>\n",
              "    <tr>\n",
              "      <th>2</th>\n",
              "      <td>0.0</td>\n",
              "      <td>2.016679e+06</td>\n",
              "      <td>2.014293e+06</td>\n",
              "      <td>2.022530e+06</td>\n",
              "      <td>0.347913</td>\n",
              "      <td>0.298063</td>\n",
              "      <td>7000.0</td>\n",
              "      <td>8000.0</td>\n",
              "      <td>80.000000</td>\n",
              "      <td>76.666667</td>\n",
              "      <td>...</td>\n",
              "      <td>92.35</td>\n",
              "      <td>61.201411</td>\n",
              "      <td>10.897713</td>\n",
              "      <td>3910.51</td>\n",
              "      <td>4.492662e+10</td>\n",
              "      <td>142.0</td>\n",
              "      <td>25.3667</td>\n",
              "      <td>34.517538</td>\n",
              "      <td>0.000017</td>\n",
              "      <td>0.000071</td>\n",
              "    </tr>\n",
              "    <tr>\n",
              "      <th>3</th>\n",
              "      <td>0.0</td>\n",
              "      <td>2.017101e+06</td>\n",
              "      <td>2.014596e+06</td>\n",
              "      <td>2.022491e+06</td>\n",
              "      <td>0.298063</td>\n",
              "      <td>0.447761</td>\n",
              "      <td>7000.0</td>\n",
              "      <td>6000.0</td>\n",
              "      <td>77.777778</td>\n",
              "      <td>75.925926</td>\n",
              "      <td>...</td>\n",
              "      <td>92.35</td>\n",
              "      <td>61.201411</td>\n",
              "      <td>10.897713</td>\n",
              "      <td>3910.51</td>\n",
              "      <td>4.492662e+10</td>\n",
              "      <td>142.0</td>\n",
              "      <td>25.3667</td>\n",
              "      <td>30.777662</td>\n",
              "      <td>0.000015</td>\n",
              "      <td>0.000064</td>\n",
              "    </tr>\n",
              "    <tr>\n",
              "      <th>4</th>\n",
              "      <td>0.0</td>\n",
              "      <td>2.017446e+06</td>\n",
              "      <td>2.014880e+06</td>\n",
              "      <td>2.022452e+06</td>\n",
              "      <td>0.198511</td>\n",
              "      <td>0.447761</td>\n",
              "      <td>6000.0</td>\n",
              "      <td>9000.0</td>\n",
              "      <td>75.000000</td>\n",
              "      <td>77.592593</td>\n",
              "      <td>...</td>\n",
              "      <td>92.35</td>\n",
              "      <td>61.201411</td>\n",
              "      <td>10.897713</td>\n",
              "      <td>3910.51</td>\n",
              "      <td>4.492662e+10</td>\n",
              "      <td>142.0</td>\n",
              "      <td>25.3667</td>\n",
              "      <td>28.991902</td>\n",
              "      <td>0.000014</td>\n",
              "      <td>0.000059</td>\n",
              "    </tr>\n",
              "  </tbody>\n",
              "</table>\n",
              "<p>5 rows × 52 columns</p>\n",
              "</div>\n",
              "      <button class=\"colab-df-convert\" onclick=\"convertToInteractive('df-8c8641dc-b69f-445c-8bb7-b199e641d58b')\"\n",
              "              title=\"Convert this dataframe to an interactive table.\"\n",
              "              style=\"display:none;\">\n",
              "        \n",
              "  <svg xmlns=\"http://www.w3.org/2000/svg\" height=\"24px\"viewBox=\"0 0 24 24\"\n",
              "       width=\"24px\">\n",
              "    <path d=\"M0 0h24v24H0V0z\" fill=\"none\"/>\n",
              "    <path d=\"M18.56 5.44l.94 2.06.94-2.06 2.06-.94-2.06-.94-.94-2.06-.94 2.06-2.06.94zm-11 1L8.5 8.5l.94-2.06 2.06-.94-2.06-.94L8.5 2.5l-.94 2.06-2.06.94zm10 10l.94 2.06.94-2.06 2.06-.94-2.06-.94-.94-2.06-.94 2.06-2.06.94z\"/><path d=\"M17.41 7.96l-1.37-1.37c-.4-.4-.92-.59-1.43-.59-.52 0-1.04.2-1.43.59L10.3 9.45l-7.72 7.72c-.78.78-.78 2.05 0 2.83L4 21.41c.39.39.9.59 1.41.59.51 0 1.02-.2 1.41-.59l7.78-7.78 2.81-2.81c.8-.78.8-2.07 0-2.86zM5.41 20L4 18.59l7.72-7.72 1.47 1.35L5.41 20z\"/>\n",
              "  </svg>\n",
              "      </button>\n",
              "      \n",
              "  <style>\n",
              "    .colab-df-container {\n",
              "      display:flex;\n",
              "      flex-wrap:wrap;\n",
              "      gap: 12px;\n",
              "    }\n",
              "\n",
              "    .colab-df-convert {\n",
              "      background-color: #E8F0FE;\n",
              "      border: none;\n",
              "      border-radius: 50%;\n",
              "      cursor: pointer;\n",
              "      display: none;\n",
              "      fill: #1967D2;\n",
              "      height: 32px;\n",
              "      padding: 0 0 0 0;\n",
              "      width: 32px;\n",
              "    }\n",
              "\n",
              "    .colab-df-convert:hover {\n",
              "      background-color: #E2EBFA;\n",
              "      box-shadow: 0px 1px 2px rgba(60, 64, 67, 0.3), 0px 1px 3px 1px rgba(60, 64, 67, 0.15);\n",
              "      fill: #174EA6;\n",
              "    }\n",
              "\n",
              "    [theme=dark] .colab-df-convert {\n",
              "      background-color: #3B4455;\n",
              "      fill: #D2E3FC;\n",
              "    }\n",
              "\n",
              "    [theme=dark] .colab-df-convert:hover {\n",
              "      background-color: #434B5C;\n",
              "      box-shadow: 0px 1px 3px 1px rgba(0, 0, 0, 0.15);\n",
              "      filter: drop-shadow(0px 1px 2px rgba(0, 0, 0, 0.3));\n",
              "      fill: #FFFFFF;\n",
              "    }\n",
              "  </style>\n",
              "\n",
              "      <script>\n",
              "        const buttonEl =\n",
              "          document.querySelector('#df-8c8641dc-b69f-445c-8bb7-b199e641d58b button.colab-df-convert');\n",
              "        buttonEl.style.display =\n",
              "          google.colab.kernel.accessAllowed ? 'block' : 'none';\n",
              "\n",
              "        async function convertToInteractive(key) {\n",
              "          const element = document.querySelector('#df-8c8641dc-b69f-445c-8bb7-b199e641d58b');\n",
              "          const dataTable =\n",
              "            await google.colab.kernel.invokeFunction('convertToInteractive',\n",
              "                                                     [key], {});\n",
              "          if (!dataTable) return;\n",
              "\n",
              "          const docLinkHtml = 'Like what you see? Visit the ' +\n",
              "            '<a target=\"_blank\" href=https://colab.research.google.com/notebooks/data_table.ipynb>data table notebook</a>'\n",
              "            + ' to learn more about interactive tables.';\n",
              "          element.innerHTML = '';\n",
              "          dataTable['output_type'] = 'display_data';\n",
              "          await google.colab.output.renderOutput(dataTable, element);\n",
              "          const docLink = document.createElement('div');\n",
              "          docLink.innerHTML = docLinkHtml;\n",
              "          element.appendChild(docLink);\n",
              "        }\n",
              "      </script>\n",
              "    </div>\n",
              "  </div>\n",
              "  "
            ]
          },
          "metadata": {},
          "execution_count": 5
        }
      ]
    },
    {
      "cell_type": "markdown",
      "source": [
        "### Feature selection"
      ],
      "metadata": {
        "id": "qS-1CbVbFhoM"
      }
    },
    {
      "cell_type": "markdown",
      "source": [
        "#### 분산 0인 데이터 제거\n",
        "- 분산이 0인 데이터를 제거하는 이유?\n",
        "  - 어떤 피처의 분산이 0이라는 것은 그 피처의 데이터가 모든 행에 대해 거의 변하지 않은 것을 의미함\n",
        "  - 어떤 경우에도 같은 값을 내는 컬럼이 불량률에 영향을 주고 있다고 보기 어려움\n",
        "- 수행 방법\n",
        "  - 방법1 : var() 사용"
      ],
      "metadata": {
        "id": "Qm7E7_3bFo5u"
      }
    },
    {
      "cell_type": "code",
      "source": [
        "# 분산 0인 columns 삭제 \n",
        "df_var = dataset.var()    # 시리즈\n",
        "# 확인\n",
        "print(df_var.describe())\n",
        "\n",
        "# 분산이 0에 수렴하는 컬럼 확인\n",
        "## 10e-10 이하면 0에 수렴하는 값으로 간주함\n",
        "print(df_var[df_var.values <= 10e-10])\n",
        "\n",
        "# 삭제\n",
        "dataset.drop(df_var[df_var.values <= 10e-10].index, axis=1, inplace=True)\n",
        "\n",
        "# 컬럼 수 확인\n",
        "print(len(dataset.columns))"
      ],
      "metadata": {
        "colab": {
          "base_uri": "https://localhost:8080/"
        },
        "id": "FkY50fPwEwLZ",
        "outputId": "e5c853c1-9ae9-417a-9241-07ff82dcc1b2"
      },
      "execution_count": null,
      "outputs": [
        {
          "output_type": "stream",
          "name": "stdout",
          "text": [
            "count    5.200000e+01\n",
            "mean     1.638232e+19\n",
            "std      1.181346e+20\n",
            "min      6.299848e-09\n",
            "25%      6.576788e-01\n",
            "50%      8.178556e+02\n",
            "75%      2.370195e+11\n",
            "max      8.518807e+20\n",
            "dtype: float64\n",
            "Series([], dtype: float64)\n",
            "52\n"
          ]
        }
      ]
    },
    {
      "cell_type": "markdown",
      "source": [
        "#### 상관계수 0.9이상인 컬럼 1개 남기고 제거"
      ],
      "metadata": {
        "id": "Nb536zgkR-9B"
      }
    },
    {
      "cell_type": "code",
      "source": [
        "import numpy as np\n",
        "\n",
        "# 모든 컬럼에 대해 상관계수를 구하고 상관계수가 0.9 이상인 컬럼 중 1개만 남기고 모두 제거\n",
        "\n",
        "# 모든 컬럼에 대해 상관계수의 절대값 구하기\n",
        "corr_arr = abs(dataset.corr())\n",
        "\n",
        "# 상관계수가 0.9 이상인 컬럼 중 1개만 남기고 모두 제거\n",
        "del_list = []\n",
        "for i, col in enumerate(corr_arr.columns):\n",
        "    for j in range(len(corr_arr.index)):\n",
        "        if i == j:\n",
        "            continue\n",
        "        elif corr_arr.index[i] in del_list:           \n",
        "            break\n",
        "        # print(i, j, corr_arr.index[j], np.abs(corr_arr.iloc[j,i]))\n",
        "        if np.abs(corr_arr.iloc[j,i]) >= 0.9:\n",
        "            del_list.append(corr_arr.index[j])\n",
        "            # print(corr_arr.index[j], '-->', corr_arr.index[i])\n",
        "# 확인\n",
        "len(del_list)"
      ],
      "metadata": {
        "colab": {
          "base_uri": "https://localhost:8080/"
        },
        "id": "soFeG9j1FxUb",
        "outputId": "5020a63c-5c7e-4743-84b8-d3525daa7844"
      },
      "execution_count": null,
      "outputs": [
        {
          "output_type": "execute_result",
          "data": {
            "text/plain": [
              "19"
            ]
          },
          "metadata": {},
          "execution_count": 8
        }
      ]
    },
    {
      "cell_type": "code",
      "source": [
        "del_list"
      ],
      "metadata": {
        "colab": {
          "base_uri": "https://localhost:8080/"
        },
        "id": "ldhlmvz8GA6X",
        "outputId": "3f8cbb44-7ec9-434d-a478-3e2dfebb5fb9"
      },
      "execution_count": null,
      "outputs": [
        {
          "output_type": "execute_result",
          "data": {
            "text/plain": [
              "['EMA30',\n",
              " 'EMA180',\n",
              " 'MA10',\n",
              " 'MA30',\n",
              " 'MA180',\n",
              " 'EMAFast',\n",
              " 'EMASlow',\n",
              " 'MBB(MA20)',\n",
              " 'HBB',\n",
              " 'LBB',\n",
              " 'MOM10',\n",
              " 'MOM30',\n",
              " '%D30',\n",
              " '%D180',\n",
              " 'MOM30',\n",
              " 'MACDSignal',\n",
              " 'VMA20R',\n",
              " 'VMA120R',\n",
              " 'Amihud_lambda']"
            ]
          },
          "metadata": {},
          "execution_count": 9
        }
      ]
    },
    {
      "cell_type": "code",
      "source": [
        "# del_list에 있는 컬럼은 제외\n",
        "total_col = dataset.columns.tolist()\n",
        "col_remain = []\n",
        "for c in total_col:\n",
        "    if c not in del_list:\n",
        "        col_remain.append(c)\n",
        "len(col_remain)"
      ],
      "metadata": {
        "colab": {
          "base_uri": "https://localhost:8080/"
        },
        "id": "_3phKfEYGs5z",
        "outputId": "a4bda70e-da49-4a15-ff6a-88cbead62b86"
      },
      "execution_count": null,
      "outputs": [
        {
          "output_type": "execute_result",
          "data": {
            "text/plain": [
              "34"
            ]
          },
          "metadata": {},
          "execution_count": 10
        }
      ]
    },
    {
      "cell_type": "code",
      "source": [
        "col_remain"
      ],
      "metadata": {
        "colab": {
          "base_uri": "https://localhost:8080/"
        },
        "id": "1-34WIYgG4vg",
        "outputId": "d71bd90b-3c62-4a04-e42e-675bb36176d9"
      },
      "execution_count": null,
      "outputs": [
        {
          "output_type": "execute_result",
          "data": {
            "text/plain": [
              "['signal',\n",
              " 'EMA10',\n",
              " 'ROC10',\n",
              " 'ROC30',\n",
              " '%K10',\n",
              " '%D10',\n",
              " '%K30',\n",
              " '%K180',\n",
              " 'RSI10',\n",
              " 'RSI30',\n",
              " 'RSI180',\n",
              " 'MACD',\n",
              " 'MACDDiff',\n",
              " 'PDI',\n",
              " 'MDI',\n",
              " 'ADX',\n",
              " 'OLCR',\n",
              " 'HCR',\n",
              " 'LCR',\n",
              " 'CLCR',\n",
              " 'VLVR',\n",
              " 'VMA5R',\n",
              " 'VMA10R',\n",
              " 'VMA60R',\n",
              " 'BTC_close',\n",
              " 'DXY',\n",
              " 'BTCD',\n",
              " 'Kimchi_premium',\n",
              " 'S&P500',\n",
              " 'Ethereum DeFi',\n",
              " 'News_freq',\n",
              " 'NaverTrend',\n",
              " 'Kyle_lambda',\n",
              " 'Hasbrouck_labda']"
            ]
          },
          "metadata": {},
          "execution_count": 11
        }
      ]
    },
    {
      "cell_type": "code",
      "source": [
        "# 저장\n",
        "dataset = dataset[col_remain]\n",
        "dataset.info()"
      ],
      "metadata": {
        "colab": {
          "base_uri": "https://localhost:8080/"
        },
        "id": "PRJjJnmsG792",
        "outputId": "4c9921b3-8f1f-4783-c83b-4bfdb578c4af"
      },
      "execution_count": null,
      "outputs": [
        {
          "output_type": "stream",
          "name": "stdout",
          "text": [
            "<class 'pandas.core.frame.DataFrame'>\n",
            "RangeIndex: 523101 entries, 0 to 523100\n",
            "Data columns (total 34 columns):\n",
            " #   Column           Non-Null Count   Dtype  \n",
            "---  ------           --------------   -----  \n",
            " 0   signal           523101 non-null  float64\n",
            " 1   EMA10            523101 non-null  float64\n",
            " 2   ROC10            523101 non-null  float64\n",
            " 3   ROC30            523101 non-null  float64\n",
            " 4   %K10             523101 non-null  float64\n",
            " 5   %D10             523101 non-null  float64\n",
            " 6   %K30             523101 non-null  float64\n",
            " 7   %K180            523101 non-null  float64\n",
            " 8   RSI10            523101 non-null  float64\n",
            " 9   RSI30            523101 non-null  float64\n",
            " 10  RSI180           523101 non-null  float64\n",
            " 11  MACD             523101 non-null  float64\n",
            " 12  MACDDiff         523101 non-null  float64\n",
            " 13  PDI              523101 non-null  float64\n",
            " 14  MDI              523101 non-null  float64\n",
            " 15  ADX              523101 non-null  float64\n",
            " 16  OLCR             523101 non-null  float64\n",
            " 17  HCR              523101 non-null  float64\n",
            " 18  LCR              523101 non-null  float64\n",
            " 19  CLCR             523101 non-null  float64\n",
            " 20  VLVR             523101 non-null  float64\n",
            " 21  VMA5R            523101 non-null  float64\n",
            " 22  VMA10R           523101 non-null  float64\n",
            " 23  VMA60R           523101 non-null  float64\n",
            " 24  BTC_close        523101 non-null  float64\n",
            " 25  DXY              523101 non-null  float64\n",
            " 26  BTCD             523101 non-null  float64\n",
            " 27  Kimchi_premium   523101 non-null  float64\n",
            " 28  S&P500           523101 non-null  float64\n",
            " 29  Ethereum DeFi    523101 non-null  float64\n",
            " 30  News_freq        523101 non-null  float64\n",
            " 31  NaverTrend       523101 non-null  float64\n",
            " 32  Kyle_lambda      523101 non-null  float64\n",
            " 33  Hasbrouck_labda  523101 non-null  float64\n",
            "dtypes: float64(34)\n",
            "memory usage: 135.7 MB\n"
          ]
        }
      ]
    },
    {
      "cell_type": "markdown",
      "source": [
        "#### Train Test split"
      ],
      "metadata": {
        "id": "1TXBSfQRHFBb"
      }
    },
    {
      "cell_type": "code",
      "source": [
        "# 훈련 및 테스트 데이터셋 분리\n",
        "\n",
        "  # 연산 속도 문제로 전체 데이터셋의 20%만 사용\n",
        "\n",
        "Y= dataset[\"signal\"]\n",
        "X = dataset.loc[:, dataset.columns != 'signal']\n",
        "\n",
        "X_train = X.loc[:80000, :]\n",
        "X_train = X_train.sample(frac = 0.1, random_state=1)\n",
        "X_validation = X.loc[80360:100360, :]\n",
        "Y_train = Y.loc[:80000]\n",
        "Y_train = Y_train.sample(frac = 0.1, random_state=1)\n",
        "Y_validation = Y.loc[80360:100360]"
      ],
      "metadata": {
        "id": "XpmzSMO0HH_P"
      },
      "execution_count": null,
      "outputs": []
    },
    {
      "cell_type": "code",
      "source": [
        "print(X_train.shape)\n",
        "print(X_validation.shape)"
      ],
      "metadata": {
        "colab": {
          "base_uri": "https://localhost:8080/"
        },
        "id": "kwi5t0rIHNDo",
        "outputId": "17359ffa-dcd5-4564-8a2a-a9e34a5104c4"
      },
      "execution_count": null,
      "outputs": [
        {
          "output_type": "stream",
          "name": "stdout",
          "text": [
            "(8000, 33)\n",
            "(20001, 33)\n"
          ]
        }
      ]
    },
    {
      "cell_type": "code",
      "source": [
        "# 스케일링 진행 standardScaler\n",
        "from sklearn.preprocessing import StandardScaler\n",
        "\n",
        "scaler = StandardScaler().fit(X_train)\n",
        "rescaledX = scaler.transform(X_train)"
      ],
      "metadata": {
        "id": "YU8RVO7qHQvR"
      },
      "execution_count": null,
      "outputs": []
    },
    {
      "cell_type": "markdown",
      "source": [
        "#### PCA 수행하여 주성분 몇 개가 적절한지 조사\n",
        "- 적당한 n_components 개수 정하기\n",
        "- 방법1\n",
        "  - 설명변수가 급감하는 때의 주성분 인덱스를 찾음\n",
        "  - 이 경우 최소한의 주성분 개수로 전체 데이터의 경향을 설명할 수 있음\n",
        "- 방법2\n",
        "  - 설명변수 비율의 누적합이 0.95일 때의 주성분 개수로 선택할 수 있음\n",
        "  - 이 경우 전체 데이터의 95%를 설명하기 위한 주성분 개수를 구하는 것과 같음"
      ],
      "metadata": {
        "id": "hUd67TqJHbPJ"
      }
    },
    {
      "cell_type": "code",
      "source": [
        "\n",
        "# PCA 수행\n",
        "\n",
        "from sklearn.decomposition import PCA\n",
        "\n",
        "# 피처개수 24만큼 주성분을 뽑아보자\n",
        "pca = PCA(n_components=len(X_train.columns))\n",
        "\n",
        "# 스케일링한 값을 넣고 fit() 과 transform()을 호출해 PCA 변환 데이터 리턴\n",
        "pca.fit(rescaledX)\n",
        "rescaledX_pca = pca.transform(rescaledX)\n",
        "\n",
        "# PCA 수행 후 데이터 확인\n",
        "print(\"데이터 구조\", rescaledX_pca.shape)\n",
        "\n",
        "# 설명변수\n",
        "## 각 주성분이 전체 데이터 집합을 얼마나 잘 설명하는지 나타내는 값\n",
        "print(\"- 각 주성분의 설명변수 :\", pca.explained_variance_[:4])\n",
        "# 설명변수 비율\n",
        "## 전체 주성분의 설명변수 비율 합은 1(100%)\n",
        "print(\"- 각 주성분의 설명변수 비율 :\", pca.explained_variance_ratio_[:4])\n",
        "# 주성분 행렬\n",
        "print('- singular value :', pca.singular_values_[:4])\n"
      ],
      "metadata": {
        "id": "bf3rfUo-HXTk"
      },
      "execution_count": null,
      "outputs": []
    },
    {
      "cell_type": "code",
      "source": [
        "# PCA 수행 결과를 데이터프레임으로 만들어서 확인\n",
        "\n",
        "# 컬럼이름 붙이기\n",
        "pca_columns_name = [f\"pca{num+1}\" for num in range(X_train.shape[1])]\n",
        "# 데이터프레임 만들기\n",
        "pca_df = pd.DataFrame(rescaledX_pca, columns = pca_columns_name, index=X_train.index)\n",
        "pca_df.info()\n",
        "pca_df.head()\n"
      ],
      "metadata": {
        "id": "d5psKdfrHieC"
      },
      "execution_count": null,
      "outputs": []
    },
    {
      "cell_type": "code",
      "source": [
        "\n",
        "import matplotlib.pyplot as plt\n",
        "\n",
        "# Scree Plot 그리기\n",
        "# x축 : n_components 수\n",
        "# y축 : 설명변수\n",
        "plt.figure(figsize=(16, 6))\n",
        "plt.plot(pca.explained_variance_, marker='o', c='blue')\n",
        "plt.xlabel(\"n_components\", fontsize=20)\n",
        "plt.ylabel(\"explained_variance_\", fontsize=20)\n",
        "# Elbow(그래프가 급격히 꺾이는 지점) 확인\n",
        "# n_components = 7, 즉 주성분 7개로 전체 데이터를 설명할 수 있을 것으로 보임\n"
      ],
      "metadata": {
        "id": "TM-aG0GDHlKB"
      },
      "execution_count": null,
      "outputs": []
    },
    {
      "cell_type": "code",
      "source": [
        "\n",
        "# n_components 개수 정하기 : elbow 이용\n",
        "\n",
        "explain_cumsum = 0\n",
        "for feature_num in range(pca.n_components):\n",
        "    if explain_cumsum <= 0.9:\n",
        "        explain_cumsum += pca.explained_variance_ratio_[feature_num]\n",
        "    else:\n",
        "        break\n",
        "print(\"주성분 {}개로 전체 데이터의 {}%를 설명함\".format(feature_num, (explain_cumsum*100).round(3)))\n"
      ],
      "metadata": {
        "id": "RnFWXgCsHywb"
      },
      "execution_count": null,
      "outputs": []
    },
    {
      "cell_type": "code",
      "source": [
        "\n",
        "# 데이터프레임으로 보기\n",
        "result = pd.DataFrame({'설명가능한 분산 비율(고윳값)':pca.explained_variance_, '기여율':pca.explained_variance_ratio_},\n",
        "                      index=pca_columns_name)\n",
        "result[:10]\n"
      ],
      "metadata": {
        "id": "RwaUYw8FH2O_"
      },
      "execution_count": null,
      "outputs": []
    },
    {
      "cell_type": "markdown",
      "source": [
        "#### RFE"
      ],
      "metadata": {
        "id": "w_9Lvs83H96-"
      }
    },
    {
      "cell_type": "code",
      "source": [
        "from sklearn.feature_selection import RFE\n",
        "from sklearn.tree import DecisionTreeClassifier\n",
        "from sklearn.svm import SVR\n",
        "from lightgbm import LGBMClassifier\n",
        "from sklearn.ensemble import RandomForestClassifier\n",
        "\n",
        "# feature_num = PCA 주성분 분석으로 90퍼 이상 표현된 개수\n",
        "# XGB나 다른 모델로 변경가능.\n",
        "#estimator = SVR(kernel=\"linear\")\n",
        "\n",
        "rfe = RFE(estimator=RandomForestClassifier(), n_features_to_select=25) #n_features_to_select 개수 설정가능\n",
        "rfe.fit(rescaledX,Y_train)\n",
        "\n",
        "for i in range(rescaledX.shape[1]):\n",
        "  print('Column:%d, Selected %s, Rank: %.3f' % (i, rfe.support_[i], rfe.ranking_[i]))"
      ],
      "metadata": {
        "colab": {
          "base_uri": "https://localhost:8080/"
        },
        "id": "YaPHi4GhH7RB",
        "outputId": "d5d45198-0108-4b9d-bb41-c0c8c361679b"
      },
      "execution_count": null,
      "outputs": [
        {
          "output_type": "stream",
          "name": "stdout",
          "text": [
            "Column:0, Selected True, Rank: 1.000\n",
            "Column:1, Selected True, Rank: 1.000\n",
            "Column:2, Selected True, Rank: 1.000\n",
            "Column:3, Selected False, Rank: 8.000\n",
            "Column:4, Selected True, Rank: 1.000\n",
            "Column:5, Selected True, Rank: 1.000\n",
            "Column:6, Selected True, Rank: 1.000\n",
            "Column:7, Selected False, Rank: 3.000\n",
            "Column:8, Selected True, Rank: 1.000\n",
            "Column:9, Selected True, Rank: 1.000\n",
            "Column:10, Selected True, Rank: 1.000\n",
            "Column:11, Selected True, Rank: 1.000\n",
            "Column:12, Selected True, Rank: 1.000\n",
            "Column:13, Selected True, Rank: 1.000\n",
            "Column:14, Selected True, Rank: 1.000\n",
            "Column:15, Selected False, Rank: 9.000\n",
            "Column:16, Selected False, Rank: 6.000\n",
            "Column:17, Selected False, Rank: 4.000\n",
            "Column:18, Selected True, Rank: 1.000\n",
            "Column:19, Selected False, Rank: 2.000\n",
            "Column:20, Selected False, Rank: 7.000\n",
            "Column:21, Selected False, Rank: 5.000\n",
            "Column:22, Selected True, Rank: 1.000\n",
            "Column:23, Selected True, Rank: 1.000\n",
            "Column:24, Selected True, Rank: 1.000\n",
            "Column:25, Selected True, Rank: 1.000\n",
            "Column:26, Selected True, Rank: 1.000\n",
            "Column:27, Selected True, Rank: 1.000\n",
            "Column:28, Selected True, Rank: 1.000\n",
            "Column:29, Selected True, Rank: 1.000\n",
            "Column:30, Selected True, Rank: 1.000\n",
            "Column:31, Selected True, Rank: 1.000\n",
            "Column:32, Selected True, Rank: 1.000\n"
          ]
        }
      ]
    },
    {
      "cell_type": "code",
      "source": [
        "X.info()"
      ],
      "metadata": {
        "id": "FzFvI6XrksfU",
        "colab": {
          "base_uri": "https://localhost:8080/"
        },
        "outputId": "7b8ad065-9ce4-4e23-cdad-46f7b16c3e3b"
      },
      "execution_count": null,
      "outputs": [
        {
          "output_type": "stream",
          "name": "stdout",
          "text": [
            "<class 'pandas.core.frame.DataFrame'>\n",
            "RangeIndex: 523101 entries, 0 to 523100\n",
            "Data columns (total 33 columns):\n",
            " #   Column           Non-Null Count   Dtype  \n",
            "---  ------           --------------   -----  \n",
            " 0   EMA10            523101 non-null  float64\n",
            " 1   ROC10            523101 non-null  float64\n",
            " 2   ROC30            523101 non-null  float64\n",
            " 3   %K10             523101 non-null  float64\n",
            " 4   %D10             523101 non-null  float64\n",
            " 5   %K30             523101 non-null  float64\n",
            " 6   %K180            523101 non-null  float64\n",
            " 7   RSI10            523101 non-null  float64\n",
            " 8   RSI30            523101 non-null  float64\n",
            " 9   RSI180           523101 non-null  float64\n",
            " 10  MACD             523101 non-null  float64\n",
            " 11  MACDDiff         523101 non-null  float64\n",
            " 12  PDI              523101 non-null  float64\n",
            " 13  MDI              523101 non-null  float64\n",
            " 14  ADX              523101 non-null  float64\n",
            " 15  OLCR             523101 non-null  float64\n",
            " 16  HCR              523101 non-null  float64\n",
            " 17  LCR              523101 non-null  float64\n",
            " 18  CLCR             523101 non-null  float64\n",
            " 19  VLVR             523101 non-null  float64\n",
            " 20  VMA5R            523101 non-null  float64\n",
            " 21  VMA10R           523101 non-null  float64\n",
            " 22  VMA60R           523101 non-null  float64\n",
            " 23  BTC_close        523101 non-null  float64\n",
            " 24  DXY              523101 non-null  float64\n",
            " 25  BTCD             523101 non-null  float64\n",
            " 26  Kimchi_premium   523101 non-null  float64\n",
            " 27  S&P500           523101 non-null  float64\n",
            " 28  Ethereum DeFi    523101 non-null  float64\n",
            " 29  News_freq        523101 non-null  float64\n",
            " 30  NaverTrend       523101 non-null  float64\n",
            " 31  Kyle_lambda      523101 non-null  float64\n",
            " 32  Hasbrouck_labda  523101 non-null  float64\n",
            "dtypes: float64(33)\n",
            "memory usage: 131.7 MB\n"
          ]
        }
      ]
    },
    {
      "cell_type": "code",
      "source": [
        "#rfe 객체에서 파라미터 조사\n",
        "\n",
        "#모델객체\n",
        "print(rfe.estimator_)\n",
        "\n",
        "# 피처 개수\n",
        "print(rfe.n_features_)\n",
        "\n",
        "\n",
        "# 피처 중요도 랭킹\n",
        "print('ranking_')\n",
        "print(rfe.ranking_)\n",
        "print(rfe.ranking_.shape)\n",
        "\n",
        "# 원래 피처에서 지운 데이터는 False, 남긴 데이터는 True\n",
        "print('support_')\n",
        "print(rfe.support_)\n",
        "print(rfe.support_.shape)"
      ],
      "metadata": {
        "id": "WIoOxi3oY1hk",
        "colab": {
          "base_uri": "https://localhost:8080/"
        },
        "outputId": "8d0a2591-f914-4cf7-9a4b-4af89318f18f"
      },
      "execution_count": null,
      "outputs": [
        {
          "output_type": "stream",
          "name": "stdout",
          "text": [
            "RandomForestClassifier()\n",
            "25\n",
            "ranking_\n",
            "[1 1 1 8 1 1 1 3 1 1 1 1 1 1 1 9 6 4 1 2 7 5 1 1 1 1 1 1 1 1 1 1 1]\n",
            "(33,)\n",
            "support_\n",
            "[ True  True  True False  True  True  True False  True  True  True  True\n",
            "  True  True  True False False False  True False False False  True  True\n",
            "  True  True  True  True  True  True  True  True  True]\n",
            "(33,)\n"
          ]
        }
      ]
    },
    {
      "cell_type": "markdown",
      "source": [
        ""
      ],
      "metadata": {
        "id": "0ZtVrf8WlZ6v"
      }
    },
    {
      "cell_type": "markdown",
      "source": [
        "#### RFECV"
      ],
      "metadata": {
        "id": "IrJgBaHzIFX9"
      }
    },
    {
      "cell_type": "code",
      "source": [
        "from sklearn.feature_selection import RFECV\n",
        "from sklearn.model_selection import RepeatedStratifiedKFold\n",
        "from sklearn.tree import DecisionTreeClassifier\n",
        "\n",
        "\n",
        "# n_repeats : 교차검증기를 반복해야하는 횟수 \n",
        "#오래걸림. 40분정도 \n",
        "\n",
        "\n",
        "cv = RepeatedStratifiedKFold(n_splits=5, n_repeats=10, random_state=1)\n",
        "rfecv = RFECV(estimator=RandomForestClassifier(), cv=cv)\n",
        "rfecv.fit(rescaledX,Y_train)\n",
        "\n",
        "for i in range(rescaledX.shape[1]):\n",
        "  print('Column: %d, Selected %s, Rank: %.3f' % (i, rfecv.support_[i], rfecv.ranking_[i]))"
      ],
      "metadata": {
        "id": "8A3--aJxIG0f",
        "colab": {
          "base_uri": "https://localhost:8080/"
        },
        "outputId": "c6f1e3d4-0c56-47bf-bbaf-fb64717c2565"
      },
      "execution_count": null,
      "outputs": [
        {
          "output_type": "stream",
          "name": "stdout",
          "text": [
            "Column: 0, Selected True, Rank: 1.000\n",
            "Column: 1, Selected False, Rank: 17.000\n",
            "Column: 2, Selected False, Rank: 11.000\n",
            "Column: 3, Selected False, Rank: 28.000\n",
            "Column: 4, Selected False, Rank: 18.000\n",
            "Column: 5, Selected False, Rank: 21.000\n",
            "Column: 6, Selected False, Rank: 2.000\n",
            "Column: 7, Selected False, Rank: 20.000\n",
            "Column: 8, Selected False, Rank: 9.000\n",
            "Column: 9, Selected True, Rank: 1.000\n",
            "Column: 10, Selected False, Rank: 7.000\n",
            "Column: 11, Selected False, Rank: 13.000\n",
            "Column: 12, Selected False, Rank: 16.000\n",
            "Column: 13, Selected False, Rank: 15.000\n",
            "Column: 14, Selected False, Rank: 14.000\n",
            "Column: 15, Selected False, Rank: 29.000\n",
            "Column: 16, Selected False, Rank: 27.000\n",
            "Column: 17, Selected False, Rank: 24.000\n",
            "Column: 18, Selected False, Rank: 22.000\n",
            "Column: 19, Selected False, Rank: 23.000\n",
            "Column: 20, Selected False, Rank: 26.000\n",
            "Column: 21, Selected False, Rank: 25.000\n",
            "Column: 22, Selected False, Rank: 19.000\n",
            "Column: 23, Selected True, Rank: 1.000\n",
            "Column: 24, Selected True, Rank: 1.000\n",
            "Column: 25, Selected True, Rank: 1.000\n",
            "Column: 26, Selected False, Rank: 3.000\n",
            "Column: 27, Selected False, Rank: 10.000\n",
            "Column: 28, Selected False, Rank: 8.000\n",
            "Column: 29, Selected False, Rank: 6.000\n",
            "Column: 30, Selected False, Rank: 12.000\n",
            "Column: 31, Selected False, Rank: 4.000\n",
            "Column: 32, Selected False, Rank: 5.000\n"
          ]
        }
      ]
    },
    {
      "cell_type": "code",
      "source": [
        "#rfe 객체에서 파라미터 조사\n",
        "\n",
        "#모델객체\n",
        "print(rfecv.estimator_)\n",
        "\n",
        "# 피처 개수\n",
        "print(rfecv.n_features_)\n",
        "\n",
        "\n",
        "# 피처 중요도 랭킹\n",
        "print('ranking_')\n",
        "print(rfecv.ranking_)\n",
        "print(rfecv.ranking_.shape)\n",
        "\n",
        "# 원래 피처에서 지운 데이터는 False, 남긴 데이터는 True\n",
        "print('support_')\n",
        "print(rfecv.support_)\n",
        "print(rfecv.support_.shape)"
      ],
      "metadata": {
        "id": "6_VspxVhS0vW",
        "colab": {
          "base_uri": "https://localhost:8080/"
        },
        "outputId": "9f753ab2-5a6a-4ac1-acf2-01fbec7af3c3"
      },
      "execution_count": null,
      "outputs": [
        {
          "output_type": "stream",
          "name": "stdout",
          "text": [
            "RandomForestClassifier()\n",
            "5\n",
            "ranking_\n",
            "[ 1 17 11 28 18 21  2 20  9  1  7 13 16 15 14 29 27 24 22 23 26 25 19  1\n",
            "  1  1  3 10  8  6 12  4  5]\n",
            "(33,)\n",
            "support_\n",
            "[ True False False False False False False False False  True False False\n",
            " False False False False False False False False False False False  True\n",
            "  True  True False False False False False False False]\n",
            "(33,)\n"
          ]
        }
      ]
    },
    {
      "cell_type": "markdown",
      "source": [
        "#### SFS"
      ],
      "metadata": {
        "id": "gp-i7zw_YunB"
      }
    },
    {
      "cell_type": "code",
      "source": [
        "# 1시간 30분걸림\n",
        "\n",
        "from sklearn.feature_selection import SequentialFeatureSelector\n",
        "from sklearn.tree import DecisionTreeClassifier\n",
        "from time import time\n",
        "from sklearn.svm import SVR\n",
        "import numpy as pd\n",
        "\n",
        "SFS = RandomForestClassifier(n_estimators=50, random_state=2).fit(rescaledX,Y_train)\n",
        "feature_names = np.array(X.columns)\n",
        "\n",
        "#SFS\n",
        "tic_fwd = time()\n",
        "sfs_forward = SequentialFeatureSelector(SFS, n_features_to_select=25, # n_features_to_select 개수변경가능\n",
        "                                        direction='forward').fit(rescaledX,Y_train)\n",
        "toc_fwd = time()\n",
        "#SBS\n",
        "tic_bwd = time()\n",
        "sfs_backward = SequentialFeatureSelector(SFS, n_features_to_select=25, # n_features_to_select 개수변경가능\n",
        "                                         direction='backward').fit(rescaledX,Y_train)\n",
        "toc_bwd = time()\n",
        "\n",
        "print(\"Features selected by forward sequential selection: \"\n",
        "      f\"{feature_names[sfs_forward.get_support()]}\")\n",
        "print(f\"Done in {toc_fwd - tic_fwd:.3f}s\")\n",
        "print(\"Features selected by backward sequential selection: \"\n",
        "      f\"{feature_names[sfs_backward.get_support()]}\")\n",
        "print(f\"Done in {toc_bwd - tic_bwd:.3f}s\")"
      ],
      "metadata": {
        "id": "aK_BA6diU9yW",
        "colab": {
          "base_uri": "https://localhost:8080/"
        },
        "outputId": "9a9c15dc-0123-4941-bc2d-def8be1fd87c"
      },
      "execution_count": null,
      "outputs": [
        {
          "output_type": "stream",
          "name": "stdout",
          "text": [
            "Features selected by forward sequential selection: ['EMA10' '%D10' 'RSI180' 'MACDDiff' 'PDI' 'MDI' 'ADX' 'OLCR' 'HCR' 'LCR'\n",
            " 'CLCR' 'VLVR' 'VMA5R' 'VMA10R' 'VMA60R' 'BTC_close' 'DXY' 'BTCD'\n",
            " 'Kimchi_premium' 'S&P500' 'Ethereum DeFi' 'News_freq' 'NaverTrend'\n",
            " 'Kyle_lambda' 'Hasbrouck_labda']\n",
            "Done in 2039.803s\n",
            "Features selected by backward sequential selection: ['EMA10' '%D10' '%K180' 'RSI180' 'MACDDiff' 'PDI' 'MDI' 'ADX' 'OLCR' 'HCR'\n",
            " 'LCR' 'VLVR' 'VMA5R' 'VMA10R' 'VMA60R' 'BTC_close' 'DXY' 'BTCD'\n",
            " 'Kimchi_premium' 'S&P500' 'Ethereum DeFi' 'News_freq' 'NaverTrend'\n",
            " 'Kyle_lambda' 'Hasbrouck_labda']\n",
            "Done in 1791.677s\n"
          ]
        }
      ]
    },
    {
      "cell_type": "code",
      "source": [
        ""
      ],
      "metadata": {
        "id": "-flt8zS79cZE"
      },
      "execution_count": null,
      "outputs": []
    }
  ]
}