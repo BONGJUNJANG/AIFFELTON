{
  "nbformat": 4,
  "nbformat_minor": 0,
  "metadata": {
    "colab": {
      "name": "Labeling",
      "private_outputs": true,
      "provenance": []
    },
    "kernelspec": {
      "name": "python3",
      "display_name": "Python 3"
    },
    "language_info": {
      "name": "python"
    }
  },
  "cells": [
    {
      "cell_type": "markdown",
      "metadata": {
        "id": "qbiYxv3_OYXx"
      },
      "source": [
        "# 2.데이터 로드 및 패키지 임포트(Loading the data and python packages)"
      ]
    },
    {
      "cell_type": "markdown",
      "metadata": {
        "id": "REIq7EFWQiK1"
      },
      "source": [
        "## 2.1. 라이브러리 임포트"
      ]
    },
    {
      "cell_type": "code",
      "execution_count": null,
      "metadata": {
        "id": "RqEvqhs6OhfW"
      },
      "outputs": [],
      "source": [
        "# 라이브러리 임포트 \n",
        "\n",
        "import numpy as np\n",
        "import pandas as pd\n",
        "import matplotlib.pyplot as plt\n",
        "from matplotlib.pylab import rcParams\n",
        "import seaborn as sns\n",
        "from sklearn.preprocessing import StandardScaler\n",
        "from sklearn.model_selection import train_test_split, KFold, cross_val_score, GridSearchCV\n",
        "from sklearn.linear_model import LogisticRegression\n",
        "from sklearn.tree import DecisionTreeClassifier\n",
        "from sklearn.neighbors import KNeighborsClassifier\n",
        "from sklearn.discriminant_analysis import LinearDiscriminantAnalysis\n",
        "from sklearn.naive_bayes import GaussianNB\n",
        "from sklearn.svm import SVC\n",
        "from sklearn.neural_network import MLPClassifier\n",
        "from sklearn.pipeline import Pipeline\n",
        "from sklearn.ensemble import AdaBoostClassifier, GradientBoostingClassifier, RandomForestClassifier, ExtraTreesClassifier\n",
        "from sklearn.metrics import classification_report, confusion_matrix, accuracy_score\n",
        "import statsmodels.api as sm1\n",
        "from sklearn.model_selection import TimeSeriesSplit\n",
        "\n"
      ]
    },
    {
      "cell_type": "markdown",
      "metadata": {
        "id": "oaucvpxVPNQh"
      },
      "source": [
        "## 2.2. 데이터 로드\n",
        "- ‘업비트’에서 거래된 ‘이더리움’(1분봉) 1년치 거래 데이터\n",
        "  - 날짜(Date) : 2021년 3월 22일 12시 00분 ~ 2022년 3월 24일 00시 18분 (UTC 기준)\n",
        "  - 시가(Open) : 처음 거래된 가격\n",
        "  - 고가(High)  : 가장 높은 금액으로 거래된 가격\n",
        "  - 저가(Low) : 가장 낮은 금액으로 거래된 가격\n",
        "  - 종가(Close) : 맨 마지막으로 거래된 가격\n",
        "  - 거래량(Volume) :  매도자 및 매수자 거래를 체결할 때 발생 하는 거래의 양\n",
        "\n"
      ]
    },
    {
      "cell_type": "code",
      "execution_count": null,
      "metadata": {
        "id": "YA2xarIuQu4u"
      },
      "outputs": [],
      "source": [
        "# data path 설정\n",
        "\n",
        "data_path = '/content/drive/MyDrive/Aiffel Hackathon/colab_dataset/1. upbit_ETH(raw data).csv'\n"
      ]
    },
    {
      "cell_type": "code",
      "execution_count": null,
      "metadata": {
        "id": "3pyxvQ2AQ6Fs"
      },
      "outputs": [],
      "source": [
        "# 데이터셋 로드\n",
        "\n",
        "dataset = pd.read_csv(data_path)\n",
        "\n",
        "dataset.head()\n",
        "\n",
        "df = dataset"
      ]
    },
    {
      "cell_type": "code",
      "execution_count": null,
      "metadata": {
        "id": "_5QbD1QeR2-H"
      },
      "outputs": [],
      "source": [
        "# 경고 메세지 사용 안하기\n",
        "\n",
        "import warnings\n",
        "warnings.filterwarnings\n"
      ]
    },
    {
      "cell_type": "markdown",
      "metadata": {
        "id": "_916A6fqVl-2"
      },
      "source": [
        "##4.1. Data Cleaning\n",
        "\n",
        "- 결측치 전처리 - raw data에서 직접 전처리\n",
        "  - (결측치) 업비트 거래소 점검에 따라 약 30시간의 거래 기록(OHLCV) 결측치 발생\n",
        "  - (전처리) 다른 국내 거래소(빗썸, 코빗) 거래 기록 중 업비트와 가장 유사한 내역으로 대체\n",
        "    - 가상화폐는 주식 시장과 달리 민간 거래소(대표 4곳)에서 거래가 체결됨\n",
        "    - 동일한 가상화폐도 거래소마다 가격이 상이하지만, 차익거래로 인해 비슷한 가격대로 수렴하는 경향을 보임\n"
      ]
    },
    {
      "cell_type": "code",
      "execution_count": null,
      "metadata": {
        "id": "hhlXclYVVsO0"
      },
      "outputs": [],
      "source": [
        "# 결측치 확인\n",
        "\n",
        "print('Null Values =', dataset.isnull().values.any())  \n"
      ]
    },
    {
      "cell_type": "markdown",
      "metadata": {
        "id": "PyfEzVObwp0m"
      },
      "source": [
        "## 4.2. 데이터 라벨링 - 트랜드 스캐닝\n",
        "1. 라벨링의 특수성\n",
        "  - 개와 고양이를 분류하는 모델의 경우, 라벨링 기준이 비교적 명확함\n",
        "가격 추이를 라벨링하는 경우, 그 기준이 사람마다 상이할 수 있음\n",
        "  - 동일 시점의 가격도 투자자의 패턴에 따라 상승 및 하락 여부 판단이 다름\n",
        "      - ex) 매수 후 6시간이 지난 시점에 가격이 10% 상승했다고 가정할 경우, 단기 투자자는 매도 시점으로 판단 할 수 있지만 장기 투자자는 보유 신호로 해석할 수 있음\n",
        "\n",
        "2. 데이터 스무싱\n",
        "  - 분(minute) 단위로 가격이 변하는 데이터 특성상 노이즈가 심함\n",
        "  - 중앙 이동평균값(Centered Moving Average)을 활용하여 종가 보정\n",
        "\n",
        "3. 라벨링 - 트랜드 스캐닝(Trend-Scanning)\n",
        "  - (t-value 계산) 한 시점에서 60분 간격(step)으로 360분까지 t-value 값 계산\n",
        "    - t-value > 0: 양의 상관관계 - >  상승\n",
        "    - t-value < 0 : 음의상관 관계 - > 하락\n",
        "  - (트랜드 스캐닝) \n",
        "    - 라벨링 결과\n",
        "      - 라벨링 비율\n",
        "        - (상승) 36%\n",
        "        - (하락) 33%\n",
        "        - (보합) 31%\n",
        "    - 추세 반전( 상승 -> 하락 or 하락 -> 상승)\n",
        "      - 하루 1회 이상 추세 반전 확인\n",
        "\n"
      ]
    },
    {
      "cell_type": "code",
      "execution_count": null,
      "metadata": {
        "id": "aM1y17dcmT3P"
      },
      "outputs": [],
      "source": [
        "# Centered MA 함수 생성\n",
        "\n",
        "def CMA(df_close, n):\n",
        "    CMA = df_close.rolling(window=n, center=True).mean()\n",
        "    return CMA\n",
        "\n",
        "\n",
        "# 10분/30분/60분/120분/180분/240분/360분/420분/480분/540분/600분/720분  CMA 생성\n",
        "dataset['CMA_10'] = CMA(dataset['Close'], 10)\n",
        "dataset['CMA_30'] = CMA(dataset['Close'], 30)\n",
        "dataset['CMA_60'] = CMA(dataset['Close'], 60)\n",
        "dataset['CMA_120'] = CMA(dataset['Close'], 120)\n",
        "dataset['CMA_180'] = CMA(dataset['Close'], 360)\n",
        "dataset['CMA_240'] = CMA(dataset['Close'], 240)\n",
        "dataset['CMA_360'] = CMA(dataset['Close'], 360)\n",
        "dataset['CMA_420'] = CMA(dataset['Close'], 420)\n",
        "dataset['CMA_480'] = CMA(dataset['Close'], 480)\n",
        "dataset['CMA_540'] = CMA(dataset['Close'], 540)\n",
        "dataset['CMA_600'] = CMA(dataset['Close'], 600)\n",
        "dataset['CMA_720'] = CMA(dataset['Close'], 720)\n",
        "dataset.head(100)\n",
        "\n",
        "\n",
        "\n"
      ]
    },
    {
      "cell_type": "code",
      "execution_count": null,
      "metadata": {
        "id": "IQTx-JqnssaH"
      },
      "outputs": [],
      "source": [
        "# 종가 및 CMA_360 시각화\n",
        "\n",
        "\n",
        "\n",
        "fig = plt.figure(figsize=(15, 7))\n",
        "\n",
        "plt.plot(dataset['Close'], linewidth=5)\n",
        "\n",
        "plt.plot(dataset['CMA_360'], linewidth=3)\n",
        "\n",
        "plt.show()\n",
        "\n"
      ]
    },
    {
      "cell_type": "code",
      "execution_count": null,
      "metadata": {
        "id": "yyZN03UMy7TP"
      },
      "outputs": [],
      "source": [
        "# 1일치 주가 및 CMA_360 시각화\n",
        "\n",
        "\n",
        "plt.plot(dataset['Close'][:1440], label='Close')\n",
        "plt.plot(dataset['CMA_360'][:1440], label='CMA_360')\n",
        "plt.grid()\n",
        "plt.rcParams['figure.figsize'] = (80, 60)\n",
        "plt.show()\n",
        "\n"
      ]
    },
    {
      "cell_type": "code",
      "execution_count": null,
      "metadata": {
        "id": "p0GaOXubzkc0"
      },
      "outputs": [],
      "source": [
        "# 라벨링에 맞게 데이터셋(dataset) 변형\n",
        "\n",
        "\n",
        "pd.to_datetime(dataset['Date'])\n",
        "\n",
        "dataset.set_index('Date', inplace=True)\n",
        "\n",
        "dataset.head()\n"
      ]
    },
    {
      "cell_type": "code",
      "execution_count": null,
      "metadata": {
        "id": "he7PndFLz9TX"
      },
      "outputs": [],
      "source": [
        "# t-Value 생성 함수\n",
        "\n",
        "def tValLinR(close):\n",
        "    \"\"\"tValue from a linear trend via SNIPPET 5.1 T-VALUE OF A LINEAR TREND\n",
        "    Args:\n",
        "        close (Series): close prices to search through\n",
        "    Returns:\n",
        "        float: t-value\n",
        "    Example:\n",
        "        >>> lookforward = 5\n",
        "        >>> start = 0\n",
        "        >>> stop = stop + lookforward\n",
        "        >>> df1 = close.iloc[start:stop]\n",
        "        >>> tValLinR(df1.values)\n",
        "    \"\"\"\n",
        "    x = np.ones((close.shape[0], 2))\n",
        "    x[:, 1] = np.arange(close.shape[0])\n",
        "    ols = sm1.OLS(close, x).fit()\n",
        "    return ols.tvalues[1]\n"
      ]
    },
    {
      "cell_type": "code",
      "execution_count": null,
      "metadata": {
        "id": "_LE3dkmj0Ex_"
      },
      "outputs": [],
      "source": [
        "# Trend Scanning 함수 생성\n",
        "\n",
        "def getBinsFromTrend(molecule, close, span):\n",
        "    \"\"\"Derive labels from the sign of t-value of linear trend via SNIPPET 5.2\n",
        "    IMPLEMENTATION OF THE TREND-SCANNING METHOD\n",
        "    Args:\n",
        "        molecule (DatetimeIndex): start times of the event\n",
        "        close (Series): close prices of your large df\n",
        "        span (args for range): list: [start, stop, step]\n",
        "    Returns:\n",
        "        pd.DataFrame: trends\n",
        "            - t1: End time for the identified trend\n",
        "            - tVal: t-value associated with the estimated trend coefficient\n",
        "            - bin: Sign of the trend\n",
        "    Example:\n",
        "        >>> df[\"mavg\"] = df.close.rolling(10).mean()\n",
        "        >>> df[\"entry\"] = df[(df.close.shift(1) < df.mavg) & (df.close > df.mavg)].close\n",
        "        >>> getBinsFromTrend(molecule=df[\"entry\"].dropna().index, close=df.close, span=[5, 20, 5])\n",
        "    \"\"\"\n",
        "\n",
        "    out = pd.DataFrame(index=molecule, columns=[\"t1\", \"tVal\", \"bin\",\"max_day\"])\n",
        "    hrzns = range(*span)\n",
        "\n",
        "    for dt0 in molecule:\n",
        "        df0 = pd.Series()\n",
        "        iloc0 = close.index.get_loc(dt0)\n",
        "        if iloc0 + max(hrzns) >= close.shape[0]:            \n",
        "            continue\n",
        "\n",
        "        for hrzn in hrzns:\n",
        "            # dt1 -> dt1(dt0+hrzn)의 인덱스\n",
        "            dt1 = close.index[iloc0 + hrzn ] #코드 수정: iloc0 + hrzn -1 에서 -1삭제 , 위 if문의 부등호를 조절함\n",
        "            df1 = close.loc[dt0:dt1]    # dt0 ~ dt1(dt0+hrzn) 행 조회\n",
        "            df0.loc[dt1] = tValLinR(df1.values) #df0데이터 프레임의 dt1 column에 tval값이 들어감\n",
        "            \n",
        "            \n",
        "            \n",
        "\n",
        "        dt1 = df0.replace([-np.inf, np.inf, np.nan], 0).abs().idxmax() #최대값의 인덱스를 dt1에 저장함\n",
        "        out.loc[dt0, [\"t1\", \"tVal\", \"bin\",\"max_day\"]] = (\n",
        "            df0.index[-1],#회귀선을 그은 마지막 시간\n",
        "            df0[dt1],#df0 테이블에는 tval값이 각 분마다 저장되어있고, dt1에는 최댓값의 인덱스 > 따라서 df0[dt1]에는 최댓값이 들어감\n",
        "            np.sign(df0[dt1]),\n",
        "            dt1\n",
        "        )  # prevent leakage\n",
        "\n",
        "    out[\"t1\"] = pd.to_datetime(out[\"t1\"])\n",
        "    out[\"bin\"] = pd.to_numeric(out[\"bin\"], downcast=\"signed\")\n",
        "\n",
        "    return out.dropna(subset=[\"bin\"])\n",
        "  \n",
        "  "
      ]
    },
    {
      "cell_type": "code",
      "execution_count": null,
      "metadata": {
        "id": "wFPztAwf02w6"
      },
      "outputs": [],
      "source": [
        "# Trand Scanning 함수 실행\n",
        "\n",
        "\n",
        "trend = getBinsFromTrend(\n",
        "    molecule = dataset[\"CMA_360\"].dropna().index, \n",
        "    close = dataset[\"CMA_360\"].dropna(), \n",
        "    span=[60,361,60],\n",
        ")\n",
        "trend\n",
        "\n"
      ]
    },
    {
      "cell_type": "code",
      "execution_count": null,
      "metadata": {
        "id": "9Siz24S21aeF"
      },
      "outputs": [],
      "source": [
        "2# t-value의 평균 및 표준편차 \n",
        "\n",
        "\n",
        "tval_mean = abs(trend['tVal']).mean()\n",
        "tval_std = abs(trend['tVal']).std()\n",
        "\n",
        "\n",
        "\n",
        "print(f\"tval_mean:{tval_mean},tval_std:{tval_std},tval_max:{abs(trend['tVal']).max()}\")\n",
        "\n"
      ]
    },
    {
      "cell_type": "code",
      "execution_count": null,
      "metadata": {
        "id": "o9sZohXP3Q-r"
      },
      "outputs": [],
      "source": [
        "# t-value < 80 행 추출 및 보합(0)으로 라벨링\n",
        "\n",
        "trend.loc[abs(trend['tVal']) < 80]\n",
        "\n",
        "trend.loc[abs(trend['tVal']) < 80, 'bin'] = 0\n"
      ]
    },
    {
      "cell_type": "code",
      "execution_count": null,
      "metadata": {
        "id": "chl71dAf3mgC"
      },
      "outputs": [],
      "source": [
        "# 라벨값(상승,하락,보합) 별 컬럼 추가\n",
        "\n",
        "trend['up'] = (trend['bin'] == 1)\n",
        "trend['down'] = (trend['bin'] == -1)\n",
        "trend['hold'] = (trend['bin']==0)\n"
      ]
    },
    {
      "cell_type": "code",
      "execution_count": null,
      "metadata": {
        "id": "NoP1U9iN3ybD"
      },
      "outputs": [],
      "source": [
        "# 라벨링 리스트 생성 \n",
        "\n",
        "  # 상승\n",
        "up_list = []\n",
        "prev_val = False\n",
        "\n",
        "for inx, val in trend['up'].iteritems():\n",
        "    if prev_val != val:\n",
        "        if val:\n",
        "            start = inx\n",
        "        else:\n",
        "            up_list.append((start, inx))\n",
        "\n",
        "    prev_inx = inx\n",
        "    prev_val = val\n",
        "\n",
        "\n",
        "  # 하락\n",
        "down_list = []\n",
        "prev_val = False\n",
        "\n",
        "for inx, val in trend['down'].iteritems():\n",
        "    if prev_val != val:\n",
        "        if val:\n",
        "            start = inx\n",
        "        else:\n",
        "            down_list.append((start, inx))\n",
        "\n",
        "    prev_inx = inx\n",
        "    prev_val = val\n",
        "\n",
        "\n",
        "  # 보합\n",
        "hold_list = []\n",
        "prev_val = False\n",
        "\n",
        "for inx, val in trend['hold'].iteritems():\n",
        "    if prev_val != val:\n",
        "        if val:\n",
        "            start = inx\n",
        "        else:\n",
        "            hold_list.append((start, inx))\n",
        "\n",
        "    prev_inx = inx\n",
        "    prev_val = val\n",
        "\n",
        "\n",
        "\n",
        "    \n"
      ]
    },
    {
      "cell_type": "code",
      "execution_count": null,
      "metadata": {
        "id": "1FEol5ju9Qro"
      },
      "outputs": [],
      "source": [
        "# 라벨링 데이터 시각화\n",
        "\n",
        "\n",
        "plt.plot(dataset['CMA_360'][:10000],linewidth = 10)\n",
        "plt.plot(dataset['Close'][:10000],linewidth = 5)\n",
        "for (up_start, up_end) in up_list:\n",
        "    plt.axvspan(up_start, up_end, color='red', alpha=0.3)\n",
        "for (down_start, down_end) in down_list:\n",
        "    plt.axvspan(down_start, down_end, color='blue', alpha=0.3)\n",
        "for (hold_start, hold_end) in hold_list:\n",
        "    plt.axvspan(hold_start, hold_end, color='green', alpha=0.3)\n",
        "\n"
      ]
    },
    {
      "cell_type": "code",
      "execution_count": null,
      "metadata": {
        "id": "YyB9fxzarWlx"
      },
      "outputs": [],
      "source": [
        "# 타겟 컬럼 값의 개수 출력\n",
        "\n",
        "\n",
        "trend['bin'].value_counts()\n"
      ]
    },
    {
      "cell_type": "code",
      "execution_count": null,
      "metadata": {
        "id": "k7eQclcILtQy"
      },
      "outputs": [],
      "source": [
        "# 데이터프레임에 타겟('signal') 컬럼 결합\n",
        "\n",
        "dataset['signal'] = trend['bin']\n",
        "\n",
        "dataset.tail(1000)\n"
      ]
    },
    {
      "cell_type": "code",
      "source": [
        "# centered MA 컬럼 제거\n",
        "\n",
        "dataset=dataset.drop(['CMA_10', 'CMA_30', \n",
        "                      'CMA_60', 'CMA_120', 'CMA_180', 'CMA_240', 'CMA_360', 'CMA_420', \n",
        "                      'CMA_480', 'CMA_540', 'CMA_600', 'CMA_720'], axis=1)\n"
      ],
      "metadata": {
        "id": "zUXYs7R3RaD3"
      },
      "execution_count": null,
      "outputs": []
    },
    {
      "cell_type": "code",
      "execution_count": null,
      "metadata": {
        "id": "7H8sW9NQ72hZ"
      },
      "outputs": [],
      "source": [
        "# 데이터프레임 인덱스 리셋\n",
        "\n",
        "\n",
        "dataset.reset_index(drop=False, inplace=True)\n",
        "\n",
        "dataset.head(1000)\n"
      ]
    }
  ]
}