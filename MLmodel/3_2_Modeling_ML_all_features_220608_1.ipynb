{
 "cells": [
  {
   "cell_type": "markdown",
   "metadata": {
    "id": "2-0GjMvikmO4"
   },
   "source": [
    "# 준비작업"
   ]
  },
  {
   "cell_type": "code",
   "execution_count": 1,
   "metadata": {
    "id": "hBOdPj9Qkl-H"
   },
   "outputs": [],
   "source": [
    "# 라이브러리 임포트 \n",
    "\n",
    "import datetime\n",
    "import time\n",
    "import missingno as msno\n",
    "\n",
    "import warnings\n",
    "warnings.filterwarnings('ignore')\n",
    "\n",
    "from warnings import simplefilter\n",
    "\n",
    "import os\n",
    "import numpy as np\n",
    "import pandas as pd\n",
    "import matplotlib.pyplot as plt\n",
    "%matplotlib inline\n",
    "plt.rcParams['axes.unicode_minus']=False\n",
    "from matplotlib.patches import Patch\n",
    "import seaborn as sns\n",
    "import statsmodels.api as sm1\n",
    "\n",
    "from sklearn import metrics\n",
    "from sklearn.impute import SimpleImputer\n",
    "from sklearn.preprocessing import PolynomialFeatures, StandardScaler\n",
    "from sklearn.linear_model import LogisticRegression\n",
    "from sklearn.tree import DecisionTreeClassifier\n",
    "from sklearn.neighbors import KNeighborsClassifier\n",
    "from sklearn.discriminant_analysis import LinearDiscriminantAnalysis\n",
    "from sklearn.naive_bayes import GaussianNB\n",
    "\n",
    "from sklearn.linear_model import LogisticRegression\n",
    "from sklearn.neural_network import MLPClassifier\n",
    "from sklearn.pipeline import Pipeline\n",
    "\n",
    "from sklearn.svm import LinearSVC\n",
    "from sklearn.svm import SVC\n",
    "from sklearn.svm import SVC as svc\n",
    "\n",
    "from sklearn.ensemble import AdaBoostClassifier \n",
    "from sklearn.ensemble import VotingClassifier\n",
    "from sklearn.ensemble import RandomForestClassifier\n",
    "from sklearn.ensemble import ExtraTreesClassifier \n",
    "from sklearn.ensemble import AdaBoostClassifier \n",
    "from sklearn.ensemble import GradientBoostingClassifier\n",
    "from sklearn.ensemble import StackingClassifier\n",
    "\n",
    "from sklearn.metrics import classification_report, confusion_matrix, plot_confusion_matrix\n",
    "from sklearn.metrics import roc_curve, plot_roc_curve\n",
    "from sklearn.metrics import accuracy_score, recall_score, precision_score, f1_score, roc_auc_score\n",
    "from sklearn.metrics import mean_squared_error\n",
    "from sklearn.metrics import make_scorer \n",
    "\n",
    "from sklearn.model_selection import train_test_split, KFold, cross_val_score, GridSearchCV\n",
    "from sklearn.model_selection import TimeSeriesSplit\n",
    "from sklearn.model_selection import RandomizedSearchCV\n",
    "\n",
    "from sklearn.neural_network import MLPClassifier\n",
    "from sklearn.linear_model import ElasticNet\n",
    "from sklearn.multioutput import MultiOutputRegressor\n",
    "\n",
    "from sklearn.pipeline import make_pipeline\n",
    "\n",
    "from matplotlib.colors import ListedColormap\n",
    "\n",
    "from matplotlib.ticker import MaxNLocator\n",
    "\n",
    "from scipy import stats\n",
    "from scipy.stats import randint, uniform\n",
    "\n",
    "#from category_encoders import OrdinalEncoder\n",
    "# pip install --upgrade category_encoders\n",
    "\n",
    "import xgboost as xgb\n",
    "from xgboost import XGBClassifier\n",
    "from xgboost import plot_importance\n",
    "\n",
    "import lightgbm as lgb"
   ]
  },
  {
   "cell_type": "code",
   "execution_count": 2,
   "metadata": {
    "id": "Sf0JJXf-kYn9"
   },
   "outputs": [
    {
     "data": {
      "text/html": [
       "<div>\n",
       "<style scoped>\n",
       "    .dataframe tbody tr th:only-of-type {\n",
       "        vertical-align: middle;\n",
       "    }\n",
       "\n",
       "    .dataframe tbody tr th {\n",
       "        vertical-align: top;\n",
       "    }\n",
       "\n",
       "    .dataframe thead th {\n",
       "        text-align: right;\n",
       "    }\n",
       "</style>\n",
       "<table border=\"1\" class=\"dataframe\">\n",
       "  <thead>\n",
       "    <tr style=\"text-align: right;\">\n",
       "      <th></th>\n",
       "      <th>Unnamed: 0</th>\n",
       "      <th>Date</th>\n",
       "      <th>Open</th>\n",
       "      <th>High</th>\n",
       "      <th>Low</th>\n",
       "      <th>Close</th>\n",
       "      <th>Volume</th>\n",
       "      <th>signal</th>\n",
       "      <th>EMA10</th>\n",
       "      <th>EMA30</th>\n",
       "      <th>...</th>\n",
       "      <th>NaverTrend</th>\n",
       "      <th>Kyle_lambda</th>\n",
       "      <th>Amihud_lambda</th>\n",
       "      <th>Hasbrouck_labda</th>\n",
       "      <th>Close_bf_1mim</th>\n",
       "      <th>Close_bf_2mim</th>\n",
       "      <th>Close_bf_3mim</th>\n",
       "      <th>Volume_bf_1mim</th>\n",
       "      <th>Volume_bf_2mim</th>\n",
       "      <th>Volume_bf_3mim</th>\n",
       "    </tr>\n",
       "  </thead>\n",
       "  <tbody>\n",
       "    <tr>\n",
       "      <th>0</th>\n",
       "      <td>0</td>\n",
       "      <td>21-03-23 22:12</td>\n",
       "      <td>2020000</td>\n",
       "      <td>2020000</td>\n",
       "      <td>2019000</td>\n",
       "      <td>2019000</td>\n",
       "      <td>36.582210</td>\n",
       "      <td>0</td>\n",
       "      <td>2017100.864</td>\n",
       "      <td>2014596.329</td>\n",
       "      <td>...</td>\n",
       "      <td>25.36670</td>\n",
       "      <td>30.777662</td>\n",
       "      <td>0.000015</td>\n",
       "      <td>0.000064</td>\n",
       "      <td>2019000.0</td>\n",
       "      <td>2019000.0</td>\n",
       "      <td>2018000.0</td>\n",
       "      <td>17.313993</td>\n",
       "      <td>20.106467</td>\n",
       "      <td>101.666675</td>\n",
       "    </tr>\n",
       "    <tr>\n",
       "      <th>1</th>\n",
       "      <td>1</td>\n",
       "      <td>21-03-23 22:13</td>\n",
       "      <td>2020000</td>\n",
       "      <td>2020000</td>\n",
       "      <td>2016000</td>\n",
       "      <td>2016000</td>\n",
       "      <td>63.727452</td>\n",
       "      <td>0</td>\n",
       "      <td>2017446.162</td>\n",
       "      <td>2014880.437</td>\n",
       "      <td>...</td>\n",
       "      <td>25.36670</td>\n",
       "      <td>28.991902</td>\n",
       "      <td>0.000014</td>\n",
       "      <td>0.000059</td>\n",
       "      <td>2019000.0</td>\n",
       "      <td>2019000.0</td>\n",
       "      <td>2019000.0</td>\n",
       "      <td>36.582210</td>\n",
       "      <td>17.313993</td>\n",
       "      <td>20.106467</td>\n",
       "    </tr>\n",
       "    <tr>\n",
       "      <th>2</th>\n",
       "      <td>2</td>\n",
       "      <td>21-03-23 22:14</td>\n",
       "      <td>2018000</td>\n",
       "      <td>2020000</td>\n",
       "      <td>2016000</td>\n",
       "      <td>2019000</td>\n",
       "      <td>17.019108</td>\n",
       "      <td>0</td>\n",
       "      <td>2017183.223</td>\n",
       "      <td>2014952.667</td>\n",
       "      <td>...</td>\n",
       "      <td>25.36670</td>\n",
       "      <td>25.666219</td>\n",
       "      <td>0.000013</td>\n",
       "      <td>0.000060</td>\n",
       "      <td>2016000.0</td>\n",
       "      <td>2019000.0</td>\n",
       "      <td>2019000.0</td>\n",
       "      <td>63.727452</td>\n",
       "      <td>36.582210</td>\n",
       "      <td>17.313993</td>\n",
       "    </tr>\n",
       "    <tr>\n",
       "      <th>3</th>\n",
       "      <td>3</td>\n",
       "      <td>21-03-23 22:15</td>\n",
       "      <td>2019000</td>\n",
       "      <td>2019000</td>\n",
       "      <td>2018000</td>\n",
       "      <td>2019000</td>\n",
       "      <td>35.570307</td>\n",
       "      <td>0</td>\n",
       "      <td>2017513.546</td>\n",
       "      <td>2015213.785</td>\n",
       "      <td>...</td>\n",
       "      <td>25.36670</td>\n",
       "      <td>34.479842</td>\n",
       "      <td>0.000017</td>\n",
       "      <td>0.000078</td>\n",
       "      <td>2019000.0</td>\n",
       "      <td>2016000.0</td>\n",
       "      <td>2019000.0</td>\n",
       "      <td>17.019108</td>\n",
       "      <td>63.727452</td>\n",
       "      <td>36.582210</td>\n",
       "    </tr>\n",
       "    <tr>\n",
       "      <th>4</th>\n",
       "      <td>4</td>\n",
       "      <td>21-03-23 22:16</td>\n",
       "      <td>2019000</td>\n",
       "      <td>2020000</td>\n",
       "      <td>2017000</td>\n",
       "      <td>2018000</td>\n",
       "      <td>45.582501</td>\n",
       "      <td>0</td>\n",
       "      <td>2017783.811</td>\n",
       "      <td>2015458.057</td>\n",
       "      <td>...</td>\n",
       "      <td>25.36670</td>\n",
       "      <td>34.479842</td>\n",
       "      <td>0.000017</td>\n",
       "      <td>0.000078</td>\n",
       "      <td>2019000.0</td>\n",
       "      <td>2019000.0</td>\n",
       "      <td>2016000.0</td>\n",
       "      <td>35.570307</td>\n",
       "      <td>17.019108</td>\n",
       "      <td>63.727452</td>\n",
       "    </tr>\n",
       "    <tr>\n",
       "      <th>...</th>\n",
       "      <td>...</td>\n",
       "      <td>...</td>\n",
       "      <td>...</td>\n",
       "      <td>...</td>\n",
       "      <td>...</td>\n",
       "      <td>...</td>\n",
       "      <td>...</td>\n",
       "      <td>...</td>\n",
       "      <td>...</td>\n",
       "      <td>...</td>\n",
       "      <td>...</td>\n",
       "      <td>...</td>\n",
       "      <td>...</td>\n",
       "      <td>...</td>\n",
       "      <td>...</td>\n",
       "      <td>...</td>\n",
       "      <td>...</td>\n",
       "      <td>...</td>\n",
       "      <td>...</td>\n",
       "      <td>...</td>\n",
       "      <td>...</td>\n",
       "    </tr>\n",
       "    <tr>\n",
       "      <th>523093</th>\n",
       "      <td>523093</td>\n",
       "      <td>22-03-23 15:15</td>\n",
       "      <td>3666000</td>\n",
       "      <td>3667000</td>\n",
       "      <td>3665000</td>\n",
       "      <td>3665000</td>\n",
       "      <td>39.688187</td>\n",
       "      <td>0</td>\n",
       "      <td>3665095.394</td>\n",
       "      <td>3659771.930</td>\n",
       "      <td>...</td>\n",
       "      <td>4.68624</td>\n",
       "      <td>48.670278</td>\n",
       "      <td>0.000013</td>\n",
       "      <td>0.000093</td>\n",
       "      <td>3666000.0</td>\n",
       "      <td>3666000.0</td>\n",
       "      <td>3668000.0</td>\n",
       "      <td>8.164602</td>\n",
       "      <td>25.110129</td>\n",
       "      <td>68.150391</td>\n",
       "    </tr>\n",
       "    <tr>\n",
       "      <th>523094</th>\n",
       "      <td>523094</td>\n",
       "      <td>22-03-23 15:16</td>\n",
       "      <td>3666000</td>\n",
       "      <td>3669000</td>\n",
       "      <td>3665000</td>\n",
       "      <td>3668000</td>\n",
       "      <td>76.731647</td>\n",
       "      <td>0</td>\n",
       "      <td>3665078.050</td>\n",
       "      <td>3660109.225</td>\n",
       "      <td>...</td>\n",
       "      <td>4.68624</td>\n",
       "      <td>48.124403</td>\n",
       "      <td>0.000013</td>\n",
       "      <td>0.000091</td>\n",
       "      <td>3665000.0</td>\n",
       "      <td>3666000.0</td>\n",
       "      <td>3666000.0</td>\n",
       "      <td>39.688187</td>\n",
       "      <td>8.164602</td>\n",
       "      <td>25.110129</td>\n",
       "    </tr>\n",
       "    <tr>\n",
       "      <th>523095</th>\n",
       "      <td>523095</td>\n",
       "      <td>22-03-23 15:17</td>\n",
       "      <td>3668000</td>\n",
       "      <td>3671000</td>\n",
       "      <td>3667000</td>\n",
       "      <td>3669000</td>\n",
       "      <td>96.039465</td>\n",
       "      <td>0</td>\n",
       "      <td>3665609.313</td>\n",
       "      <td>3660618.307</td>\n",
       "      <td>...</td>\n",
       "      <td>4.68624</td>\n",
       "      <td>49.368770</td>\n",
       "      <td>0.000013</td>\n",
       "      <td>0.000094</td>\n",
       "      <td>3668000.0</td>\n",
       "      <td>3665000.0</td>\n",
       "      <td>3666000.0</td>\n",
       "      <td>76.731647</td>\n",
       "      <td>39.688187</td>\n",
       "      <td>8.164602</td>\n",
       "    </tr>\n",
       "    <tr>\n",
       "      <th>523096</th>\n",
       "      <td>523096</td>\n",
       "      <td>22-03-23 15:18</td>\n",
       "      <td>3667000</td>\n",
       "      <td>3674000</td>\n",
       "      <td>3663000</td>\n",
       "      <td>3663000</td>\n",
       "      <td>91.949217</td>\n",
       "      <td>0</td>\n",
       "      <td>3666225.802</td>\n",
       "      <td>3661159.062</td>\n",
       "      <td>...</td>\n",
       "      <td>4.68624</td>\n",
       "      <td>49.889389</td>\n",
       "      <td>0.000014</td>\n",
       "      <td>0.000096</td>\n",
       "      <td>3669000.0</td>\n",
       "      <td>3668000.0</td>\n",
       "      <td>3665000.0</td>\n",
       "      <td>96.039465</td>\n",
       "      <td>76.731647</td>\n",
       "      <td>39.688187</td>\n",
       "    </tr>\n",
       "    <tr>\n",
       "      <th>523097</th>\n",
       "      <td>523097</td>\n",
       "      <td>22-03-23 15:19</td>\n",
       "      <td>3663000</td>\n",
       "      <td>3663000</td>\n",
       "      <td>3660000</td>\n",
       "      <td>3662000</td>\n",
       "      <td>29.505754</td>\n",
       "      <td>0</td>\n",
       "      <td>3665639.292</td>\n",
       "      <td>3661277.832</td>\n",
       "      <td>...</td>\n",
       "      <td>4.68624</td>\n",
       "      <td>45.408803</td>\n",
       "      <td>0.000012</td>\n",
       "      <td>0.000095</td>\n",
       "      <td>3663000.0</td>\n",
       "      <td>3669000.0</td>\n",
       "      <td>3668000.0</td>\n",
       "      <td>91.949217</td>\n",
       "      <td>96.039465</td>\n",
       "      <td>76.731647</td>\n",
       "    </tr>\n",
       "  </tbody>\n",
       "</table>\n",
       "<p>523098 rows × 65 columns</p>\n",
       "</div>"
      ],
      "text/plain": [
       "        Unnamed: 0            Date     Open     High      Low    Close  \\\n",
       "0                0  21-03-23 22:12  2020000  2020000  2019000  2019000   \n",
       "1                1  21-03-23 22:13  2020000  2020000  2016000  2016000   \n",
       "2                2  21-03-23 22:14  2018000  2020000  2016000  2019000   \n",
       "3                3  21-03-23 22:15  2019000  2019000  2018000  2019000   \n",
       "4                4  21-03-23 22:16  2019000  2020000  2017000  2018000   \n",
       "...            ...             ...      ...      ...      ...      ...   \n",
       "523093      523093  22-03-23 15:15  3666000  3667000  3665000  3665000   \n",
       "523094      523094  22-03-23 15:16  3666000  3669000  3665000  3668000   \n",
       "523095      523095  22-03-23 15:17  3668000  3671000  3667000  3669000   \n",
       "523096      523096  22-03-23 15:18  3667000  3674000  3663000  3663000   \n",
       "523097      523097  22-03-23 15:19  3663000  3663000  3660000  3662000   \n",
       "\n",
       "           Volume  signal        EMA10        EMA30  ...  NaverTrend  \\\n",
       "0       36.582210       0  2017100.864  2014596.329  ...    25.36670   \n",
       "1       63.727452       0  2017446.162  2014880.437  ...    25.36670   \n",
       "2       17.019108       0  2017183.223  2014952.667  ...    25.36670   \n",
       "3       35.570307       0  2017513.546  2015213.785  ...    25.36670   \n",
       "4       45.582501       0  2017783.811  2015458.057  ...    25.36670   \n",
       "...           ...     ...          ...          ...  ...         ...   \n",
       "523093  39.688187       0  3665095.394  3659771.930  ...     4.68624   \n",
       "523094  76.731647       0  3665078.050  3660109.225  ...     4.68624   \n",
       "523095  96.039465       0  3665609.313  3660618.307  ...     4.68624   \n",
       "523096  91.949217       0  3666225.802  3661159.062  ...     4.68624   \n",
       "523097  29.505754       0  3665639.292  3661277.832  ...     4.68624   \n",
       "\n",
       "        Kyle_lambda  Amihud_lambda  Hasbrouck_labda  Close_bf_1mim  \\\n",
       "0         30.777662       0.000015         0.000064      2019000.0   \n",
       "1         28.991902       0.000014         0.000059      2019000.0   \n",
       "2         25.666219       0.000013         0.000060      2016000.0   \n",
       "3         34.479842       0.000017         0.000078      2019000.0   \n",
       "4         34.479842       0.000017         0.000078      2019000.0   \n",
       "...             ...            ...              ...            ...   \n",
       "523093    48.670278       0.000013         0.000093      3666000.0   \n",
       "523094    48.124403       0.000013         0.000091      3665000.0   \n",
       "523095    49.368770       0.000013         0.000094      3668000.0   \n",
       "523096    49.889389       0.000014         0.000096      3669000.0   \n",
       "523097    45.408803       0.000012         0.000095      3663000.0   \n",
       "\n",
       "        Close_bf_2mim  Close_bf_3mim  Volume_bf_1mim  Volume_bf_2mim  \\\n",
       "0           2019000.0      2018000.0       17.313993       20.106467   \n",
       "1           2019000.0      2019000.0       36.582210       17.313993   \n",
       "2           2019000.0      2019000.0       63.727452       36.582210   \n",
       "3           2016000.0      2019000.0       17.019108       63.727452   \n",
       "4           2019000.0      2016000.0       35.570307       17.019108   \n",
       "...               ...            ...             ...             ...   \n",
       "523093      3666000.0      3668000.0        8.164602       25.110129   \n",
       "523094      3666000.0      3666000.0       39.688187        8.164602   \n",
       "523095      3665000.0      3666000.0       76.731647       39.688187   \n",
       "523096      3668000.0      3665000.0       96.039465       76.731647   \n",
       "523097      3669000.0      3668000.0       91.949217       96.039465   \n",
       "\n",
       "        Volume_bf_3mim  \n",
       "0           101.666675  \n",
       "1            20.106467  \n",
       "2            17.313993  \n",
       "3            36.582210  \n",
       "4            63.727452  \n",
       "...                ...  \n",
       "523093       68.150391  \n",
       "523094       25.110129  \n",
       "523095        8.164602  \n",
       "523096       39.688187  \n",
       "523097       76.731647  \n",
       "\n",
       "[523098 rows x 65 columns]"
      ]
     },
     "execution_count": 2,
     "metadata": {},
     "output_type": "execute_result"
    }
   ],
   "source": [
    "# Feature engineering 작업이 완료된 csv파일\n",
    "\n",
    "#dataset = pd.read_csv('/content/gdrive/MyDrive/project/final_featured_dataset_preprocessed_kdy_220606_3.csv')\n",
    "\n",
    "dataset_filepath = os.getenv('HOME') + '/aiffel/final_featured_dataset_preprocessed_kdy_220606_3.csv'\n",
    "\n",
    "dataset = pd.read_csv(dataset_filepath)\n",
    "dataset"
   ]
  },
  {
   "cell_type": "code",
   "execution_count": 3,
   "metadata": {
    "colab": {
     "base_uri": "https://localhost:8080/"
    },
    "id": "KVW7V1rvkj_W",
    "outputId": "9ddde350-a051-4c41-82da-9fe43a0110dc"
   },
   "outputs": [
    {
     "name": "stdout",
     "output_type": "stream",
     "text": [
      "<class 'pandas.core.frame.DataFrame'>\n",
      "RangeIndex: 523098 entries, 0 to 523097\n",
      "Data columns (total 65 columns):\n",
      " #   Column           Non-Null Count   Dtype  \n",
      "---  ------           --------------   -----  \n",
      " 0   Unnamed: 0       523098 non-null  int64  \n",
      " 1   Date             523098 non-null  object \n",
      " 2   Open             523098 non-null  int64  \n",
      " 3   High             523098 non-null  int64  \n",
      " 4   Low              523098 non-null  int64  \n",
      " 5   Close            523098 non-null  int64  \n",
      " 6   Volume           523098 non-null  float64\n",
      " 7   signal           523098 non-null  int64  \n",
      " 8   EMA10            523098 non-null  float64\n",
      " 9   EMA30            523098 non-null  float64\n",
      " 10  EMA180           523098 non-null  float64\n",
      " 11  ROC10            523098 non-null  float64\n",
      " 12  ROC30            523098 non-null  float64\n",
      " 13  MOM10            523098 non-null  int64  \n",
      " 14  MOM30            523098 non-null  int64  \n",
      " 15  %K10             523098 non-null  float64\n",
      " 16  %D10             523098 non-null  float64\n",
      " 17  %K30             523098 non-null  float64\n",
      " 18  %D30             523098 non-null  float64\n",
      " 19  %K180            523098 non-null  float64\n",
      " 20  %D180            523098 non-null  float64\n",
      " 21  RSI10            523098 non-null  float64\n",
      " 22  RSI30            523098 non-null  float64\n",
      " 23  RSI180           523098 non-null  float64\n",
      " 24  MA10             523098 non-null  int64  \n",
      " 25  MA30             523098 non-null  float64\n",
      " 26  MA180            523098 non-null  float64\n",
      " 27  EMAFast          523098 non-null  float64\n",
      " 28  EMASlow          523098 non-null  float64\n",
      " 29  MACD             523098 non-null  float64\n",
      " 30  MACDSignal       523098 non-null  float64\n",
      " 31  MACDDiff         523098 non-null  float64\n",
      " 32  MBB(MA20)        523098 non-null  int64  \n",
      " 33  HBB              523098 non-null  float64\n",
      " 34  LBB              523098 non-null  float64\n",
      " 35  PDI              523098 non-null  float64\n",
      " 36  MDI              523098 non-null  float64\n",
      " 37  ADX              523098 non-null  float64\n",
      " 38  OLCR             523098 non-null  float64\n",
      " 39  HCR              523098 non-null  float64\n",
      " 40  LCR              523098 non-null  float64\n",
      " 41  CLCR             523098 non-null  float64\n",
      " 42  VLVR             523098 non-null  float64\n",
      " 43  VMA5R            523098 non-null  float64\n",
      " 44  VMA10R           523098 non-null  float64\n",
      " 45  VMA20R           523098 non-null  float64\n",
      " 46  VMA60R           523098 non-null  float64\n",
      " 47  VMA120R          523098 non-null  float64\n",
      " 48  BTC_close        523098 non-null  int64  \n",
      " 49  DXY              523098 non-null  float64\n",
      " 50  BTCD             523098 non-null  float64\n",
      " 51  Kimchi_premium   523098 non-null  float64\n",
      " 52  S&P500           523098 non-null  float64\n",
      " 53  Ethereum DeFi    523098 non-null  float64\n",
      " 54  News_freq        523098 non-null  int64  \n",
      " 55  NaverTrend       523098 non-null  float64\n",
      " 56  Kyle_lambda      523098 non-null  float64\n",
      " 57  Amihud_lambda    523098 non-null  float64\n",
      " 58  Hasbrouck_labda  523098 non-null  float64\n",
      " 59  Close_bf_1mim    523098 non-null  float64\n",
      " 60  Close_bf_2mim    523098 non-null  float64\n",
      " 61  Close_bf_3mim    523098 non-null  float64\n",
      " 62  Volume_bf_1mim   523098 non-null  float64\n",
      " 63  Volume_bf_2mim   523098 non-null  float64\n",
      " 64  Volume_bf_3mim   523098 non-null  float64\n",
      "dtypes: float64(52), int64(12), object(1)\n",
      "memory usage: 259.4+ MB\n"
     ]
    }
   ],
   "source": [
    "dataset.info()"
   ]
  },
  {
   "cell_type": "code",
   "execution_count": 4,
   "metadata": {
    "colab": {
     "base_uri": "https://localhost:8080/",
     "height": 424
    },
    "id": "0X9LHoCKkj8p",
    "outputId": "b35082ef-be1b-43ed-8126-b21624079177"
   },
   "outputs": [
    {
     "data": {
      "text/html": [
       "<div>\n",
       "<style scoped>\n",
       "    .dataframe tbody tr th:only-of-type {\n",
       "        vertical-align: middle;\n",
       "    }\n",
       "\n",
       "    .dataframe tbody tr th {\n",
       "        vertical-align: top;\n",
       "    }\n",
       "\n",
       "    .dataframe thead th {\n",
       "        text-align: right;\n",
       "    }\n",
       "</style>\n",
       "<table border=\"1\" class=\"dataframe\">\n",
       "  <thead>\n",
       "    <tr style=\"text-align: right;\">\n",
       "      <th></th>\n",
       "      <th>Unnamed: 0</th>\n",
       "      <th>Date</th>\n",
       "      <th>Open</th>\n",
       "      <th>High</th>\n",
       "      <th>Low</th>\n",
       "      <th>Close</th>\n",
       "      <th>Volume</th>\n",
       "      <th>signal</th>\n",
       "      <th>EMA10</th>\n",
       "      <th>EMA30</th>\n",
       "      <th>...</th>\n",
       "      <th>NaverTrend</th>\n",
       "      <th>Kyle_lambda</th>\n",
       "      <th>Amihud_lambda</th>\n",
       "      <th>Hasbrouck_labda</th>\n",
       "      <th>Close_bf_1mim</th>\n",
       "      <th>Close_bf_2mim</th>\n",
       "      <th>Close_bf_3mim</th>\n",
       "      <th>Volume_bf_1mim</th>\n",
       "      <th>Volume_bf_2mim</th>\n",
       "      <th>Volume_bf_3mim</th>\n",
       "    </tr>\n",
       "  </thead>\n",
       "  <tbody>\n",
       "    <tr>\n",
       "      <th>0</th>\n",
       "      <td>0</td>\n",
       "      <td>21-03-23 22:12</td>\n",
       "      <td>2020000</td>\n",
       "      <td>2020000</td>\n",
       "      <td>2019000</td>\n",
       "      <td>2019000</td>\n",
       "      <td>36.582210</td>\n",
       "      <td>0</td>\n",
       "      <td>2017100.864</td>\n",
       "      <td>2014596.329</td>\n",
       "      <td>...</td>\n",
       "      <td>25.36670</td>\n",
       "      <td>30.777662</td>\n",
       "      <td>0.000015</td>\n",
       "      <td>0.000064</td>\n",
       "      <td>2019000.0</td>\n",
       "      <td>2019000.0</td>\n",
       "      <td>2018000.0</td>\n",
       "      <td>17.313993</td>\n",
       "      <td>20.106467</td>\n",
       "      <td>101.666675</td>\n",
       "    </tr>\n",
       "    <tr>\n",
       "      <th>1</th>\n",
       "      <td>1</td>\n",
       "      <td>21-03-23 22:13</td>\n",
       "      <td>2020000</td>\n",
       "      <td>2020000</td>\n",
       "      <td>2016000</td>\n",
       "      <td>2016000</td>\n",
       "      <td>63.727452</td>\n",
       "      <td>0</td>\n",
       "      <td>2017446.162</td>\n",
       "      <td>2014880.437</td>\n",
       "      <td>...</td>\n",
       "      <td>25.36670</td>\n",
       "      <td>28.991902</td>\n",
       "      <td>0.000014</td>\n",
       "      <td>0.000059</td>\n",
       "      <td>2019000.0</td>\n",
       "      <td>2019000.0</td>\n",
       "      <td>2019000.0</td>\n",
       "      <td>36.582210</td>\n",
       "      <td>17.313993</td>\n",
       "      <td>20.106467</td>\n",
       "    </tr>\n",
       "    <tr>\n",
       "      <th>2</th>\n",
       "      <td>2</td>\n",
       "      <td>21-03-23 22:14</td>\n",
       "      <td>2018000</td>\n",
       "      <td>2020000</td>\n",
       "      <td>2016000</td>\n",
       "      <td>2019000</td>\n",
       "      <td>17.019108</td>\n",
       "      <td>0</td>\n",
       "      <td>2017183.223</td>\n",
       "      <td>2014952.667</td>\n",
       "      <td>...</td>\n",
       "      <td>25.36670</td>\n",
       "      <td>25.666219</td>\n",
       "      <td>0.000013</td>\n",
       "      <td>0.000060</td>\n",
       "      <td>2016000.0</td>\n",
       "      <td>2019000.0</td>\n",
       "      <td>2019000.0</td>\n",
       "      <td>63.727452</td>\n",
       "      <td>36.582210</td>\n",
       "      <td>17.313993</td>\n",
       "    </tr>\n",
       "    <tr>\n",
       "      <th>3</th>\n",
       "      <td>3</td>\n",
       "      <td>21-03-23 22:15</td>\n",
       "      <td>2019000</td>\n",
       "      <td>2019000</td>\n",
       "      <td>2018000</td>\n",
       "      <td>2019000</td>\n",
       "      <td>35.570307</td>\n",
       "      <td>0</td>\n",
       "      <td>2017513.546</td>\n",
       "      <td>2015213.785</td>\n",
       "      <td>...</td>\n",
       "      <td>25.36670</td>\n",
       "      <td>34.479842</td>\n",
       "      <td>0.000017</td>\n",
       "      <td>0.000078</td>\n",
       "      <td>2019000.0</td>\n",
       "      <td>2016000.0</td>\n",
       "      <td>2019000.0</td>\n",
       "      <td>17.019108</td>\n",
       "      <td>63.727452</td>\n",
       "      <td>36.582210</td>\n",
       "    </tr>\n",
       "    <tr>\n",
       "      <th>4</th>\n",
       "      <td>4</td>\n",
       "      <td>21-03-23 22:16</td>\n",
       "      <td>2019000</td>\n",
       "      <td>2020000</td>\n",
       "      <td>2017000</td>\n",
       "      <td>2018000</td>\n",
       "      <td>45.582501</td>\n",
       "      <td>0</td>\n",
       "      <td>2017783.811</td>\n",
       "      <td>2015458.057</td>\n",
       "      <td>...</td>\n",
       "      <td>25.36670</td>\n",
       "      <td>34.479842</td>\n",
       "      <td>0.000017</td>\n",
       "      <td>0.000078</td>\n",
       "      <td>2019000.0</td>\n",
       "      <td>2019000.0</td>\n",
       "      <td>2016000.0</td>\n",
       "      <td>35.570307</td>\n",
       "      <td>17.019108</td>\n",
       "      <td>63.727452</td>\n",
       "    </tr>\n",
       "    <tr>\n",
       "      <th>...</th>\n",
       "      <td>...</td>\n",
       "      <td>...</td>\n",
       "      <td>...</td>\n",
       "      <td>...</td>\n",
       "      <td>...</td>\n",
       "      <td>...</td>\n",
       "      <td>...</td>\n",
       "      <td>...</td>\n",
       "      <td>...</td>\n",
       "      <td>...</td>\n",
       "      <td>...</td>\n",
       "      <td>...</td>\n",
       "      <td>...</td>\n",
       "      <td>...</td>\n",
       "      <td>...</td>\n",
       "      <td>...</td>\n",
       "      <td>...</td>\n",
       "      <td>...</td>\n",
       "      <td>...</td>\n",
       "      <td>...</td>\n",
       "      <td>...</td>\n",
       "    </tr>\n",
       "    <tr>\n",
       "      <th>523093</th>\n",
       "      <td>523093</td>\n",
       "      <td>22-03-23 15:15</td>\n",
       "      <td>3666000</td>\n",
       "      <td>3667000</td>\n",
       "      <td>3665000</td>\n",
       "      <td>3665000</td>\n",
       "      <td>39.688187</td>\n",
       "      <td>0</td>\n",
       "      <td>3665095.394</td>\n",
       "      <td>3659771.930</td>\n",
       "      <td>...</td>\n",
       "      <td>4.68624</td>\n",
       "      <td>48.670278</td>\n",
       "      <td>0.000013</td>\n",
       "      <td>0.000093</td>\n",
       "      <td>3666000.0</td>\n",
       "      <td>3666000.0</td>\n",
       "      <td>3668000.0</td>\n",
       "      <td>8.164602</td>\n",
       "      <td>25.110129</td>\n",
       "      <td>68.150391</td>\n",
       "    </tr>\n",
       "    <tr>\n",
       "      <th>523094</th>\n",
       "      <td>523094</td>\n",
       "      <td>22-03-23 15:16</td>\n",
       "      <td>3666000</td>\n",
       "      <td>3669000</td>\n",
       "      <td>3665000</td>\n",
       "      <td>3668000</td>\n",
       "      <td>76.731647</td>\n",
       "      <td>0</td>\n",
       "      <td>3665078.050</td>\n",
       "      <td>3660109.225</td>\n",
       "      <td>...</td>\n",
       "      <td>4.68624</td>\n",
       "      <td>48.124403</td>\n",
       "      <td>0.000013</td>\n",
       "      <td>0.000091</td>\n",
       "      <td>3665000.0</td>\n",
       "      <td>3666000.0</td>\n",
       "      <td>3666000.0</td>\n",
       "      <td>39.688187</td>\n",
       "      <td>8.164602</td>\n",
       "      <td>25.110129</td>\n",
       "    </tr>\n",
       "    <tr>\n",
       "      <th>523095</th>\n",
       "      <td>523095</td>\n",
       "      <td>22-03-23 15:17</td>\n",
       "      <td>3668000</td>\n",
       "      <td>3671000</td>\n",
       "      <td>3667000</td>\n",
       "      <td>3669000</td>\n",
       "      <td>96.039465</td>\n",
       "      <td>0</td>\n",
       "      <td>3665609.313</td>\n",
       "      <td>3660618.307</td>\n",
       "      <td>...</td>\n",
       "      <td>4.68624</td>\n",
       "      <td>49.368770</td>\n",
       "      <td>0.000013</td>\n",
       "      <td>0.000094</td>\n",
       "      <td>3668000.0</td>\n",
       "      <td>3665000.0</td>\n",
       "      <td>3666000.0</td>\n",
       "      <td>76.731647</td>\n",
       "      <td>39.688187</td>\n",
       "      <td>8.164602</td>\n",
       "    </tr>\n",
       "    <tr>\n",
       "      <th>523096</th>\n",
       "      <td>523096</td>\n",
       "      <td>22-03-23 15:18</td>\n",
       "      <td>3667000</td>\n",
       "      <td>3674000</td>\n",
       "      <td>3663000</td>\n",
       "      <td>3663000</td>\n",
       "      <td>91.949217</td>\n",
       "      <td>0</td>\n",
       "      <td>3666225.802</td>\n",
       "      <td>3661159.062</td>\n",
       "      <td>...</td>\n",
       "      <td>4.68624</td>\n",
       "      <td>49.889389</td>\n",
       "      <td>0.000014</td>\n",
       "      <td>0.000096</td>\n",
       "      <td>3669000.0</td>\n",
       "      <td>3668000.0</td>\n",
       "      <td>3665000.0</td>\n",
       "      <td>96.039465</td>\n",
       "      <td>76.731647</td>\n",
       "      <td>39.688187</td>\n",
       "    </tr>\n",
       "    <tr>\n",
       "      <th>523097</th>\n",
       "      <td>523097</td>\n",
       "      <td>22-03-23 15:19</td>\n",
       "      <td>3663000</td>\n",
       "      <td>3663000</td>\n",
       "      <td>3660000</td>\n",
       "      <td>3662000</td>\n",
       "      <td>29.505754</td>\n",
       "      <td>0</td>\n",
       "      <td>3665639.292</td>\n",
       "      <td>3661277.832</td>\n",
       "      <td>...</td>\n",
       "      <td>4.68624</td>\n",
       "      <td>45.408803</td>\n",
       "      <td>0.000012</td>\n",
       "      <td>0.000095</td>\n",
       "      <td>3663000.0</td>\n",
       "      <td>3669000.0</td>\n",
       "      <td>3668000.0</td>\n",
       "      <td>91.949217</td>\n",
       "      <td>96.039465</td>\n",
       "      <td>76.731647</td>\n",
       "    </tr>\n",
       "  </tbody>\n",
       "</table>\n",
       "<p>523098 rows × 65 columns</p>\n",
       "</div>"
      ],
      "text/plain": [
       "        Unnamed: 0            Date     Open     High      Low    Close  \\\n",
       "0                0  21-03-23 22:12  2020000  2020000  2019000  2019000   \n",
       "1                1  21-03-23 22:13  2020000  2020000  2016000  2016000   \n",
       "2                2  21-03-23 22:14  2018000  2020000  2016000  2019000   \n",
       "3                3  21-03-23 22:15  2019000  2019000  2018000  2019000   \n",
       "4                4  21-03-23 22:16  2019000  2020000  2017000  2018000   \n",
       "...            ...             ...      ...      ...      ...      ...   \n",
       "523093      523093  22-03-23 15:15  3666000  3667000  3665000  3665000   \n",
       "523094      523094  22-03-23 15:16  3666000  3669000  3665000  3668000   \n",
       "523095      523095  22-03-23 15:17  3668000  3671000  3667000  3669000   \n",
       "523096      523096  22-03-23 15:18  3667000  3674000  3663000  3663000   \n",
       "523097      523097  22-03-23 15:19  3663000  3663000  3660000  3662000   \n",
       "\n",
       "           Volume  signal        EMA10        EMA30  ...  NaverTrend  \\\n",
       "0       36.582210       0  2017100.864  2014596.329  ...    25.36670   \n",
       "1       63.727452       0  2017446.162  2014880.437  ...    25.36670   \n",
       "2       17.019108       0  2017183.223  2014952.667  ...    25.36670   \n",
       "3       35.570307       0  2017513.546  2015213.785  ...    25.36670   \n",
       "4       45.582501       0  2017783.811  2015458.057  ...    25.36670   \n",
       "...           ...     ...          ...          ...  ...         ...   \n",
       "523093  39.688187       0  3665095.394  3659771.930  ...     4.68624   \n",
       "523094  76.731647       0  3665078.050  3660109.225  ...     4.68624   \n",
       "523095  96.039465       0  3665609.313  3660618.307  ...     4.68624   \n",
       "523096  91.949217       0  3666225.802  3661159.062  ...     4.68624   \n",
       "523097  29.505754       0  3665639.292  3661277.832  ...     4.68624   \n",
       "\n",
       "        Kyle_lambda  Amihud_lambda  Hasbrouck_labda  Close_bf_1mim  \\\n",
       "0         30.777662       0.000015         0.000064      2019000.0   \n",
       "1         28.991902       0.000014         0.000059      2019000.0   \n",
       "2         25.666219       0.000013         0.000060      2016000.0   \n",
       "3         34.479842       0.000017         0.000078      2019000.0   \n",
       "4         34.479842       0.000017         0.000078      2019000.0   \n",
       "...             ...            ...              ...            ...   \n",
       "523093    48.670278       0.000013         0.000093      3666000.0   \n",
       "523094    48.124403       0.000013         0.000091      3665000.0   \n",
       "523095    49.368770       0.000013         0.000094      3668000.0   \n",
       "523096    49.889389       0.000014         0.000096      3669000.0   \n",
       "523097    45.408803       0.000012         0.000095      3663000.0   \n",
       "\n",
       "        Close_bf_2mim  Close_bf_3mim  Volume_bf_1mim  Volume_bf_2mim  \\\n",
       "0           2019000.0      2018000.0       17.313993       20.106467   \n",
       "1           2019000.0      2019000.0       36.582210       17.313993   \n",
       "2           2019000.0      2019000.0       63.727452       36.582210   \n",
       "3           2016000.0      2019000.0       17.019108       63.727452   \n",
       "4           2019000.0      2016000.0       35.570307       17.019108   \n",
       "...               ...            ...             ...             ...   \n",
       "523093      3666000.0      3668000.0        8.164602       25.110129   \n",
       "523094      3666000.0      3666000.0       39.688187        8.164602   \n",
       "523095      3665000.0      3666000.0       76.731647       39.688187   \n",
       "523096      3668000.0      3665000.0       96.039465       76.731647   \n",
       "523097      3669000.0      3668000.0       91.949217       96.039465   \n",
       "\n",
       "        Volume_bf_3mim  \n",
       "0           101.666675  \n",
       "1            20.106467  \n",
       "2            17.313993  \n",
       "3            36.582210  \n",
       "4            63.727452  \n",
       "...                ...  \n",
       "523093       68.150391  \n",
       "523094       25.110129  \n",
       "523095        8.164602  \n",
       "523096       39.688187  \n",
       "523097       76.731647  \n",
       "\n",
       "[523098 rows x 65 columns]"
      ]
     },
     "execution_count": 4,
     "metadata": {},
     "output_type": "execute_result"
    }
   ],
   "source": [
    "dataset"
   ]
  },
  {
   "cell_type": "code",
   "execution_count": 5,
   "metadata": {
    "colab": {
     "base_uri": "https://localhost:8080/"
    },
    "id": "33dE2QIdnJEm",
    "outputId": "9fbab7ec-5b2c-4370-ccc1-5d4c86931d49"
   },
   "outputs": [
    {
     "data": {
      "text/plain": [
       "Index(['Unnamed: 0', 'Date', 'Open', 'High', 'Low', 'Close', 'Volume',\n",
       "       'signal', 'EMA10', 'EMA30', 'EMA180', 'ROC10', 'ROC30', 'MOM10',\n",
       "       'MOM30', '%K10', '%D10', '%K30', '%D30', '%K180', '%D180', 'RSI10',\n",
       "       'RSI30', 'RSI180', 'MA10', 'MA30', 'MA180', 'EMAFast', 'EMASlow',\n",
       "       'MACD', 'MACDSignal', 'MACDDiff', 'MBB(MA20)', 'HBB', 'LBB', 'PDI',\n",
       "       'MDI', 'ADX', 'OLCR', 'HCR', 'LCR', 'CLCR', 'VLVR', 'VMA5R', 'VMA10R',\n",
       "       'VMA20R', 'VMA60R', 'VMA120R', 'BTC_close', 'DXY', 'BTCD',\n",
       "       'Kimchi_premium', 'S&P500', 'Ethereum DeFi', 'News_freq', 'NaverTrend',\n",
       "       'Kyle_lambda', 'Amihud_lambda', 'Hasbrouck_labda', 'Close_bf_1mim',\n",
       "       'Close_bf_2mim', 'Close_bf_3mim', 'Volume_bf_1mim', 'Volume_bf_2mim',\n",
       "       'Volume_bf_3mim'],\n",
       "      dtype='object')"
      ]
     },
     "execution_count": 5,
     "metadata": {},
     "output_type": "execute_result"
    }
   ],
   "source": [
    "dataset.columns"
   ]
  },
  {
   "cell_type": "code",
   "execution_count": 6,
   "metadata": {
    "colab": {
     "base_uri": "https://localhost:8080/",
     "height": 236
    },
    "id": "G7kjCXFWkj5w",
    "outputId": "f55bb11e-9ec3-47a8-8a98-e4a35f9e5708"
   },
   "outputs": [
    {
     "data": {
      "text/html": [
       "<div>\n",
       "<style scoped>\n",
       "    .dataframe tbody tr th:only-of-type {\n",
       "        vertical-align: middle;\n",
       "    }\n",
       "\n",
       "    .dataframe tbody tr th {\n",
       "        vertical-align: top;\n",
       "    }\n",
       "\n",
       "    .dataframe thead th {\n",
       "        text-align: right;\n",
       "    }\n",
       "</style>\n",
       "<table border=\"1\" class=\"dataframe\">\n",
       "  <thead>\n",
       "    <tr style=\"text-align: right;\">\n",
       "      <th></th>\n",
       "      <th>Date</th>\n",
       "      <th>Open</th>\n",
       "      <th>High</th>\n",
       "      <th>Low</th>\n",
       "      <th>Close</th>\n",
       "      <th>Volume</th>\n",
       "      <th>signal</th>\n",
       "      <th>EMA10</th>\n",
       "      <th>EMA30</th>\n",
       "      <th>EMA180</th>\n",
       "      <th>...</th>\n",
       "      <th>NaverTrend</th>\n",
       "      <th>Kyle_lambda</th>\n",
       "      <th>Amihud_lambda</th>\n",
       "      <th>Hasbrouck_labda</th>\n",
       "      <th>Close_bf_1mim</th>\n",
       "      <th>Close_bf_2mim</th>\n",
       "      <th>Close_bf_3mim</th>\n",
       "      <th>Volume_bf_1mim</th>\n",
       "      <th>Volume_bf_2mim</th>\n",
       "      <th>Volume_bf_3mim</th>\n",
       "    </tr>\n",
       "  </thead>\n",
       "  <tbody>\n",
       "    <tr>\n",
       "      <th>0</th>\n",
       "      <td>21-03-23 22:12</td>\n",
       "      <td>2020000</td>\n",
       "      <td>2020000</td>\n",
       "      <td>2019000</td>\n",
       "      <td>2019000</td>\n",
       "      <td>36.582210</td>\n",
       "      <td>0</td>\n",
       "      <td>2017100.864</td>\n",
       "      <td>2014596.329</td>\n",
       "      <td>2022490.830</td>\n",
       "      <td>...</td>\n",
       "      <td>25.3667</td>\n",
       "      <td>30.777662</td>\n",
       "      <td>0.000015</td>\n",
       "      <td>0.000064</td>\n",
       "      <td>2019000.0</td>\n",
       "      <td>2019000.0</td>\n",
       "      <td>2018000.0</td>\n",
       "      <td>17.313993</td>\n",
       "      <td>20.106467</td>\n",
       "      <td>101.666675</td>\n",
       "    </tr>\n",
       "    <tr>\n",
       "      <th>1</th>\n",
       "      <td>21-03-23 22:13</td>\n",
       "      <td>2020000</td>\n",
       "      <td>2020000</td>\n",
       "      <td>2016000</td>\n",
       "      <td>2016000</td>\n",
       "      <td>63.727452</td>\n",
       "      <td>0</td>\n",
       "      <td>2017446.162</td>\n",
       "      <td>2014880.437</td>\n",
       "      <td>2022452.257</td>\n",
       "      <td>...</td>\n",
       "      <td>25.3667</td>\n",
       "      <td>28.991902</td>\n",
       "      <td>0.000014</td>\n",
       "      <td>0.000059</td>\n",
       "      <td>2019000.0</td>\n",
       "      <td>2019000.0</td>\n",
       "      <td>2019000.0</td>\n",
       "      <td>36.582210</td>\n",
       "      <td>17.313993</td>\n",
       "      <td>20.106467</td>\n",
       "    </tr>\n",
       "    <tr>\n",
       "      <th>2</th>\n",
       "      <td>21-03-23 22:14</td>\n",
       "      <td>2018000</td>\n",
       "      <td>2020000</td>\n",
       "      <td>2016000</td>\n",
       "      <td>2019000</td>\n",
       "      <td>17.019108</td>\n",
       "      <td>0</td>\n",
       "      <td>2017183.223</td>\n",
       "      <td>2014952.667</td>\n",
       "      <td>2022380.962</td>\n",
       "      <td>...</td>\n",
       "      <td>25.3667</td>\n",
       "      <td>25.666219</td>\n",
       "      <td>0.000013</td>\n",
       "      <td>0.000060</td>\n",
       "      <td>2016000.0</td>\n",
       "      <td>2019000.0</td>\n",
       "      <td>2019000.0</td>\n",
       "      <td>63.727452</td>\n",
       "      <td>36.582210</td>\n",
       "      <td>17.313993</td>\n",
       "    </tr>\n",
       "    <tr>\n",
       "      <th>3</th>\n",
       "      <td>21-03-23 22:15</td>\n",
       "      <td>2019000</td>\n",
       "      <td>2019000</td>\n",
       "      <td>2018000</td>\n",
       "      <td>2019000</td>\n",
       "      <td>35.570307</td>\n",
       "      <td>0</td>\n",
       "      <td>2017513.546</td>\n",
       "      <td>2015213.785</td>\n",
       "      <td>2022343.603</td>\n",
       "      <td>...</td>\n",
       "      <td>25.3667</td>\n",
       "      <td>34.479842</td>\n",
       "      <td>0.000017</td>\n",
       "      <td>0.000078</td>\n",
       "      <td>2019000.0</td>\n",
       "      <td>2016000.0</td>\n",
       "      <td>2019000.0</td>\n",
       "      <td>17.019108</td>\n",
       "      <td>63.727452</td>\n",
       "      <td>36.582210</td>\n",
       "    </tr>\n",
       "    <tr>\n",
       "      <th>4</th>\n",
       "      <td>21-03-23 22:16</td>\n",
       "      <td>2019000</td>\n",
       "      <td>2020000</td>\n",
       "      <td>2017000</td>\n",
       "      <td>2018000</td>\n",
       "      <td>45.582501</td>\n",
       "      <td>0</td>\n",
       "      <td>2017783.811</td>\n",
       "      <td>2015458.057</td>\n",
       "      <td>2022306.657</td>\n",
       "      <td>...</td>\n",
       "      <td>25.3667</td>\n",
       "      <td>34.479842</td>\n",
       "      <td>0.000017</td>\n",
       "      <td>0.000078</td>\n",
       "      <td>2019000.0</td>\n",
       "      <td>2019000.0</td>\n",
       "      <td>2016000.0</td>\n",
       "      <td>35.570307</td>\n",
       "      <td>17.019108</td>\n",
       "      <td>63.727452</td>\n",
       "    </tr>\n",
       "  </tbody>\n",
       "</table>\n",
       "<p>5 rows × 64 columns</p>\n",
       "</div>"
      ],
      "text/plain": [
       "             Date     Open     High      Low    Close     Volume  signal  \\\n",
       "0  21-03-23 22:12  2020000  2020000  2019000  2019000  36.582210       0   \n",
       "1  21-03-23 22:13  2020000  2020000  2016000  2016000  63.727452       0   \n",
       "2  21-03-23 22:14  2018000  2020000  2016000  2019000  17.019108       0   \n",
       "3  21-03-23 22:15  2019000  2019000  2018000  2019000  35.570307       0   \n",
       "4  21-03-23 22:16  2019000  2020000  2017000  2018000  45.582501       0   \n",
       "\n",
       "         EMA10        EMA30       EMA180  ...  NaverTrend  Kyle_lambda  \\\n",
       "0  2017100.864  2014596.329  2022490.830  ...     25.3667    30.777662   \n",
       "1  2017446.162  2014880.437  2022452.257  ...     25.3667    28.991902   \n",
       "2  2017183.223  2014952.667  2022380.962  ...     25.3667    25.666219   \n",
       "3  2017513.546  2015213.785  2022343.603  ...     25.3667    34.479842   \n",
       "4  2017783.811  2015458.057  2022306.657  ...     25.3667    34.479842   \n",
       "\n",
       "   Amihud_lambda  Hasbrouck_labda  Close_bf_1mim  Close_bf_2mim  \\\n",
       "0       0.000015         0.000064      2019000.0      2019000.0   \n",
       "1       0.000014         0.000059      2019000.0      2019000.0   \n",
       "2       0.000013         0.000060      2016000.0      2019000.0   \n",
       "3       0.000017         0.000078      2019000.0      2016000.0   \n",
       "4       0.000017         0.000078      2019000.0      2019000.0   \n",
       "\n",
       "   Close_bf_3mim  Volume_bf_1mim  Volume_bf_2mim  Volume_bf_3mim  \n",
       "0      2018000.0       17.313993       20.106467      101.666675  \n",
       "1      2019000.0       36.582210       17.313993       20.106467  \n",
       "2      2019000.0       63.727452       36.582210       17.313993  \n",
       "3      2019000.0       17.019108       63.727452       36.582210  \n",
       "4      2016000.0       35.570307       17.019108       63.727452  \n",
       "\n",
       "[5 rows x 64 columns]"
      ]
     },
     "execution_count": 6,
     "metadata": {},
     "output_type": "execute_result"
    }
   ],
   "source": [
    "# 필요없는 columns 삭제\n",
    "dataset=dataset.drop(['Unnamed: 0'], axis=1)\n",
    "dataset.head()"
   ]
  },
  {
   "cell_type": "code",
   "execution_count": 7,
   "metadata": {
    "colab": {
     "base_uri": "https://localhost:8080/"
    },
    "id": "Ccl6oJgb0PzM",
    "outputId": "93591478-e3e0-41f2-aeb3-54b24e3de59d"
   },
   "outputs": [
    {
     "data": {
      "text/plain": [
       "Index(['Date', 'Open', 'High', 'Low', 'Close', 'Volume', 'signal', 'EMA10',\n",
       "       'EMA30', 'EMA180', 'ROC10', 'ROC30', 'MOM10', 'MOM30', '%K10', '%D10',\n",
       "       '%K30', '%D30', '%K180', '%D180', 'RSI10', 'RSI30', 'RSI180', 'MA10',\n",
       "       'MA30', 'MA180', 'EMAFast', 'EMASlow', 'MACD', 'MACDSignal', 'MACDDiff',\n",
       "       'MBB(MA20)', 'HBB', 'LBB', 'PDI', 'MDI', 'ADX', 'OLCR', 'HCR', 'LCR',\n",
       "       'CLCR', 'VLVR', 'VMA5R', 'VMA10R', 'VMA20R', 'VMA60R', 'VMA120R',\n",
       "       'BTC_close', 'DXY', 'BTCD', 'Kimchi_premium', 'S&P500', 'Ethereum DeFi',\n",
       "       'News_freq', 'NaverTrend', 'Kyle_lambda', 'Amihud_lambda',\n",
       "       'Hasbrouck_labda', 'Close_bf_1mim', 'Close_bf_2mim', 'Close_bf_3mim',\n",
       "       'Volume_bf_1mim', 'Volume_bf_2mim', 'Volume_bf_3mim'],\n",
       "      dtype='object')"
      ]
     },
     "execution_count": 7,
     "metadata": {},
     "output_type": "execute_result"
    }
   ],
   "source": [
    "dataset.columns"
   ]
  },
  {
   "cell_type": "markdown",
   "metadata": {
    "id": "KvvKq5XiDSqd"
   },
   "source": [
    "# 3-2. Data 분리 - train/validation/test"
   ]
  },
  {
   "cell_type": "markdown",
   "metadata": {
    "id": "qbLrS_TgnXBA"
   },
   "source": [
    "## 3-2-1. Train and Test"
   ]
  },
  {
   "cell_type": "code",
   "execution_count": 8,
   "metadata": {
    "id": "2v74J-EYkj2-"
   },
   "outputs": [],
   "source": [
    "# 훈련 및 테스트 데이터셋 분리\n",
    "\n",
    "y= dataset[\"signal\"]\n",
    "X= dataset.loc[:, dataset.columns != 'signal']\n",
    "\n",
    "## Data 100% 사용 \n",
    "\n",
    "# 훈련용 data - 전체 앞시간 70%\n",
    "X_train = X.loc[:366000, :]\n",
    "y_train = y.loc[:366000]\n",
    "\n",
    "# 시험용 data - 전체 뒷시간 약 30%\n",
    "#             - Time lagging을 막기위해 331분 이후 사용 (366500-366169)\n",
    "\n",
    "X_test = X.loc[366501:, :]\n",
    "y_test = y.loc[366501:]"
   ]
  },
  {
   "cell_type": "code",
   "execution_count": 9,
   "metadata": {
    "colab": {
     "base_uri": "https://localhost:8080/",
     "height": 424
    },
    "id": "_FrxkYSztIhM",
    "outputId": "ab15c0f2-d607-4bc3-b4ee-4647c4ddcc91"
   },
   "outputs": [
    {
     "data": {
      "text/plain": [
       "(366001, 63)"
      ]
     },
     "execution_count": 9,
     "metadata": {},
     "output_type": "execute_result"
    }
   ],
   "source": [
    "X_train.shape"
   ]
  },
  {
   "cell_type": "code",
   "execution_count": 10,
   "metadata": {
    "colab": {
     "base_uri": "https://localhost:8080/",
     "height": 424
    },
    "id": "_Vt-juP2QtkM",
    "outputId": "9c8867f9-8932-4fc3-c183-aadeeb5513d1"
   },
   "outputs": [
    {
     "data": {
      "text/plain": [
       "(156597, 63)"
      ]
     },
     "execution_count": 10,
     "metadata": {},
     "output_type": "execute_result"
    }
   ],
   "source": [
    "X_test.shape"
   ]
  },
  {
   "cell_type": "code",
   "execution_count": 11,
   "metadata": {
    "colab": {
     "base_uri": "https://localhost:8080/"
    },
    "id": "_8eQ3Cckgc5y",
    "outputId": "bb5a86fb-530b-4175-c8b0-da499647bd20"
   },
   "outputs": [
    {
     "data": {
      "text/plain": [
       "(366001,)"
      ]
     },
     "execution_count": 11,
     "metadata": {},
     "output_type": "execute_result"
    }
   ],
   "source": [
    "y_train.shape"
   ]
  },
  {
   "cell_type": "code",
   "execution_count": 12,
   "metadata": {
    "colab": {
     "base_uri": "https://localhost:8080/"
    },
    "id": "EptsIPXqgc1V",
    "outputId": "0ef8bc2b-4257-469e-df7f-428f0929f569"
   },
   "outputs": [
    {
     "data": {
      "text/plain": [
       "(156597,)"
      ]
     },
     "execution_count": 12,
     "metadata": {},
     "output_type": "execute_result"
    }
   ],
   "source": [
    "y_test.shape"
   ]
  },
  {
   "cell_type": "markdown",
   "metadata": {
    "id": "vnEBl0vXoYeS"
   },
   "source": [
    "## 3-2-2. Time-Series Cross Validation 정의"
   ]
  },
  {
   "cell_type": "markdown",
   "metadata": {
    "id": "UL4PbKkUonGc"
   },
   "source": [
    "![image.png](data:image/png;base64,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)"
   ]
  },
  {
   "cell_type": "code",
   "execution_count": 13,
   "metadata": {
    "id": "if8N7YpVWbdL"
   },
   "outputs": [],
   "source": [
    "class BlockingTimeSeriesSplit():\n",
    "    def __init__(self, n_splits):\n",
    "        self.n_splits = n_splits\n",
    "    \n",
    "    def get_n_splits(self, X, y, groups):\n",
    "        return self.n_splits\n",
    "    \n",
    "    def split(self, X, y=None, groups=None):\n",
    "        n_samples = len(X)\n",
    "        k_fold_size = n_samples // self.n_splits\n",
    "        indices = np.arange(n_samples)\n",
    "\n",
    "        margin = 0\n",
    "        for i in range(self.n_splits):\n",
    "            start = i * k_fold_size\n",
    "            stop = start + k_fold_size\n",
    "            mid = int(0.9 * (stop - start)) + start\n",
    "            yield indices[start: mid], indices[mid + margin: stop]"
   ]
  },
  {
   "cell_type": "code",
   "execution_count": 14,
   "metadata": {
    "id": "HxT7J26ZWbY2"
   },
   "outputs": [],
   "source": [
    "btss = BlockingTimeSeriesSplit(n_splits=5)"
   ]
  },
  {
   "cell_type": "code",
   "execution_count": 15,
   "metadata": {
    "id": "kBXUkhOKWbhR"
   },
   "outputs": [],
   "source": [
    "sc = StandardScaler()\n",
    "f1_score = make_scorer(f1_score , average='macro')"
   ]
  },
  {
   "cell_type": "markdown",
   "metadata": {
    "id": "7wHNDVlZAYF7"
   },
   "source": [
    "# 3-3. Learning models"
   ]
  },
  {
   "cell_type": "markdown",
   "metadata": {
    "id": "wUpVeGgYEVGK"
   },
   "source": [
    "## 3-3-1. LightGBM"
   ]
  },
  {
   "cell_type": "markdown",
   "metadata": {
    "id": "x54RUkK-fMV7"
   },
   "source": [
    "### 3-3-1-1. Selecting Features"
   ]
  },
  {
   "cell_type": "code",
   "execution_count": null,
   "metadata": {
    "id": "YlX3i2kafnx4"
   },
   "outputs": [],
   "source": [
    "## Data 100% 사용 \n",
    "\n",
    "# 훈련용 data - 전체 앞시간 70%\n",
    "X_train = X.loc[:366000, :]\n",
    "y_train = y.loc[:366000]\n",
    "\n",
    "# 시험용 data - 전체 뒷시간 약 30%\n",
    "#             - Time lagging을 막기위해 331분 이후 사용 (366500-366169)\n",
    "\n",
    "X_test = X.loc[366501:, :]\n",
    "y_test = y.loc[366501:]"
   ]
  },
  {
   "cell_type": "code",
   "execution_count": null,
   "metadata": {},
   "outputs": [],
   "source": [
    "X_train.columns"
   ]
  },
  {
   "cell_type": "code",
   "execution_count": null,
   "metadata": {
    "id": "UPBRQx3VfVCE"
   },
   "outputs": [],
   "source": [
    "'''\n",
    "      Feature Selection 없이 모든 Features 선정\n",
    "      1분,2분,3분전의 종가와 거래량 6개의 Features 추가\n",
    "            \n",
    "      \"X_train, X_test\" 저장\n",
    "\n",
    "'''\n",
    "\n",
    "#0. ALL Features\n",
    "\n",
    "X_train = X_train[['EMA10', 'EMA30', 'EMA180', 'ROC10', 'ROC30', 'MOM10', 'MOM30', \n",
    "                   '%K10', '%D10', '%K30', '%D30', '%K180', '%D180', \n",
    "                   'RSI10', 'RSI30', 'RSI180', 'MA10', 'MA30', 'MA180',\n",
    "                   'EMAFast', 'EMASlow', 'MACD', 'MACDSignal', 'MACDDiff',\n",
    "                   'MBB(MA20)', 'HBB', 'LBB', 'PDI', 'MDI', 'ADX', 'OLCR', 'HCR', 'LCR',\n",
    "                   'CLCR', 'VLVR', 'VMA5R', 'VMA10R', 'VMA20R', 'VMA60R', 'VMA120R',\n",
    "                   'BTC_close', 'DXY', 'BTCD', 'Kimchi_premium', 'S&P500', 'Ethereum DeFi',\n",
    "                   'News_freq', 'NaverTrend', 'Kyle_lambda', 'Amihud_lambda',\n",
    "                   'Hasbrouck_labda', \n",
    "                   'Close_bf_1mim', 'Close_bf_2mim', 'Close_bf_3mim',\n",
    "                   'Volume_bf_1mim', 'Volume_bf_2mim', 'Volume_bf_3mim']]\n",
    "    \n",
    "X_test = X_test[['EMA10', 'EMA30', 'EMA180', 'ROC10', 'ROC30', 'MOM10', 'MOM30', \n",
    "                   '%K10', '%D10', '%K30', '%D30', '%K180', '%D180', \n",
    "                   'RSI10', 'RSI30', 'RSI180', 'MA10', 'MA30', 'MA180',\n",
    "                   'EMAFast', 'EMASlow', 'MACD', 'MACDSignal', 'MACDDiff',\n",
    "                   'MBB(MA20)', 'HBB', 'LBB', 'PDI', 'MDI', 'ADX', 'OLCR', 'HCR', 'LCR',\n",
    "                   'CLCR', 'VLVR', 'VMA5R', 'VMA10R', 'VMA20R', 'VMA60R', 'VMA120R',\n",
    "                   'BTC_close', 'DXY', 'BTCD', 'Kimchi_premium', 'S&P500', 'Ethereum DeFi',\n",
    "                   'News_freq', 'NaverTrend', 'Kyle_lambda', 'Amihud_lambda',\n",
    "                   'Hasbrouck_labda', \n",
    "                   'Close_bf_1mim', 'Close_bf_2mim', 'Close_bf_3mim',\n",
    "                   'Volume_bf_1mim', 'Volume_bf_2mim', 'Volume_bf_3mim']]"
   ]
  },
  {
   "cell_type": "markdown",
   "metadata": {
    "id": "XncOYYhBFJGr"
   },
   "source": [
    "### 3-3-1-2. Random Search and Blocking Time Series Split"
   ]
  },
  {
   "cell_type": "code",
   "execution_count": null,
   "metadata": {
    "id": "RaQFsHNWgAe5"
   },
   "outputs": [],
   "source": [
    "lgbm_clf = lgb.LGBMClassifier()\n",
    "pipe_lgbm = Pipeline([('scaler', sc), ('lgbm',lgbm_clf)])"
   ]
  },
  {
   "cell_type": "code",
   "execution_count": null,
   "metadata": {
    "id": "VbzgFKONWOrg"
   },
   "outputs": [],
   "source": [
    "params = {'lgbm__n_estimators': randint(10,500),      # 트리갯수, 너무 크면 overfitting\n",
    "          'lgbm__max_depth': [5, 10, 15, 20, None],   # 최대 깊이\n",
    "          'lgbm__num_leaves': [50, 100, 200],         # 하나의 tree가 가지는 최대 leaf수\n",
    "          'lgbm__reg_alpha': [1.1, 1.2, 1.3],         # L1 Reg.적용 값. feature갯수 많을때 적용 고려. 클수록 ovefitting 가능성 감소 효과\n",
    "          'lgbm__reg_lambda': [1.1, 1.2, 1.3],        # L2 Reg.적용 값. feature갯수 많을때 적용 고려. 클수록 ovefitting 가능성 감소 효과\n",
    "          'lgbm__min_split_gain': [0.3, 0.4],         # (default=0.) – Minimum loss reduction required to make a further partition on a leaf node of the tree.\n",
    "          'lgbm__subsample': [0.7, 0.8, 0.9],\n",
    "          'lgbm__subsample_freq': [20]\n",
    "          }"
   ]
  },
  {
   "cell_type": "code",
   "execution_count": null,
   "metadata": {
    "id": "QUGADmlQW5QH"
   },
   "outputs": [],
   "source": [
    "lgbm_rand_search = RandomizedSearchCV(estimator = pipe_lgbm,\n",
    "                                      param_distributions = params,\n",
    "                                      cv = btss, scoring = 'f1_macro')"
   ]
  },
  {
   "cell_type": "code",
   "execution_count": null,
   "metadata": {
    "colab": {
     "base_uri": "https://localhost:8080/"
    },
    "id": "-7F-mwjYW5NQ",
    "outputId": "f7f7c036-c942-4f35-b55b-86ca92bdcaf9"
   },
   "outputs": [],
   "source": [
    "lgbm_rand_search.fit(X_train, y_train)"
   ]
  },
  {
   "cell_type": "code",
   "execution_count": null,
   "metadata": {
    "colab": {
     "base_uri": "https://localhost:8080/"
    },
    "id": "v6ca0B1XW5Gh",
    "outputId": "2d08c8eb-bdb4-4807-e137-ac15e5c480da"
   },
   "outputs": [],
   "source": [
    "lgbm_rand_search.best_params_"
   ]
  },
  {
   "cell_type": "code",
   "execution_count": null,
   "metadata": {
    "colab": {
     "base_uri": "https://localhost:8080/"
    },
    "id": "SBWeOwVgieDa",
    "outputId": "ce8ef61c-73d5-45d7-de28-1f78b886535c"
   },
   "outputs": [],
   "source": [
    "print (f'Train Accuracy LGBM : {lgbm_rand_search.score(X_train,y_train):.3f}')\n",
    "print (f'Test Accuracy LGBM : {lgbm_rand_search.score(X_test,y_test):.3f}')"
   ]
  },
  {
   "cell_type": "markdown",
   "metadata": {
    "id": "aNOuayMmiOYW"
   },
   "source": [
    "### 3-3-1-3. 최적의 hyperparameters로 학습하기"
   ]
  },
  {
   "cell_type": "code",
   "execution_count": null,
   "metadata": {
    "id": "X15RlAexWG5S"
   },
   "outputs": [],
   "source": [
    "lgbm_clf = lgb.LGBMClassifier(max_depth=None,     # default\n",
    "                              min_split_gain=0.3,\n",
    "                              n_estimators=222,\n",
    "                              num_leaves=200,\n",
    "                              reg_alpha=1.2,\n",
    "                              reg_lambda=1.1,\n",
    "                              subsample=0.9,\n",
    "                              subsample_freq=20)\n",
    "                            #  scoring= 'f1_macro')"
   ]
  },
  {
   "cell_type": "code",
   "execution_count": null,
   "metadata": {
    "colab": {
     "base_uri": "https://localhost:8080/"
    },
    "id": "6C9qttUSYeFo",
    "outputId": "911f32f8-9f50-46af-f47a-dc288c99045e"
   },
   "outputs": [],
   "source": [
    "## Model fitting\n",
    "\n",
    "lgbm_clf.fit(X_train,y_train)"
   ]
  },
  {
   "cell_type": "code",
   "execution_count": null,
   "metadata": {
    "id": "-KWDcc0rYeCf"
   },
   "outputs": [],
   "source": [
    "## Prediction\n",
    "\n",
    "y_pred_lgbm = lgbm_clf.predict(X_test)"
   ]
  },
  {
   "cell_type": "markdown",
   "metadata": {
    "id": "KOUrod_lF8Lc"
   },
   "source": [
    "### 3-3-1-4. 평가(Evaluation)"
   ]
  },
  {
   "cell_type": "code",
   "execution_count": null,
   "metadata": {
    "colab": {
     "base_uri": "https://localhost:8080/",
     "height": 238
    },
    "id": "WCqJkk2FFtvO",
    "outputId": "c5016d8e-0ffb-4302-bce3-f2011658c501"
   },
   "outputs": [],
   "source": [
    "'''\n",
    "    Classification Report\n",
    "\n",
    "'''\n",
    "\n",
    "## Define the traget names\n",
    "target_names = ['Down Day', 'Stay' ,'Up Day']\n",
    "\n",
    "## Build a classifcation report\n",
    "report = classification_report(y_true = y_test, y_pred = y_pred_lgbm, target_names = target_names, output_dict = True)\n",
    "\n",
    "## Add it to a data frame, transpose it for readability.\n",
    "report_df = pd.DataFrame(report).transpose()\n",
    "report_df"
   ]
  },
  {
   "cell_type": "code",
   "execution_count": null,
   "metadata": {
    "colab": {
     "base_uri": "https://localhost:8080/",
     "height": 1000
    },
    "id": "Qr0k1BX9Ftsc",
    "outputId": "24c40c8e-8eae-4739-e524-77f0ac9e17af"
   },
   "outputs": [],
   "source": [
    "'''\n",
    "    Confusion Matrix\n",
    "'''\n",
    "\n",
    "lgbm_matrix = confusion_matrix(y_test, y_pred_lgbm)\n",
    "lgbm_matrix\n",
    "\n",
    "# Creating a dataframe for a array-formatted Confusion matrix,so it will be easy for plotting.\n",
    "lgbm_matrix_df = pd.DataFrame(lgbm_matrix,\n",
    "                            index = ['Down Day','Stay','Up day'], \n",
    "                            columns = ['Down Day','Stay','Up day'])\n",
    "\n",
    "#Plotting the confusion matrix\n",
    "plt.figure(figsize=(20,16))\n",
    "sns.heatmap(lgbm_matrix_df, annot=True)\n",
    "plt.rc('font', size=50) \n",
    "plt.title('Confusion Matrix - LightGBM\\n')\n",
    "plt.ylabel('Actal Values')\n",
    "plt.xlabel('Predicted Values')\n",
    "plt.show()"
   ]
  },
  {
   "cell_type": "code",
   "execution_count": null,
   "metadata": {
    "colab": {
     "base_uri": "https://localhost:8080/"
    },
    "id": "Io3re3zJFtp5",
    "outputId": "3f80fa39-c8b7-4286-ba82-ded4b2b4e3f8"
   },
   "outputs": [],
   "source": [
    "'''\n",
    "  * AUC(Area Under the ROC Curve)\n",
    "  \n",
    "    ROC curve의 밑면적.   \n",
    "    0~1까지로 1에 가까울수록 좋은 모델   \n",
    "    https://koreapy.tistory.com/752\n",
    "\n",
    "'''\n",
    "\n",
    "\n",
    "n_classes = 3\n",
    "#y_score_lgbm = lgbm_clf.predict_proba(X_test)\n",
    "\n",
    "y_prob_lgbm = lgbm_clf.predict_proba(X_test)\n",
    "\n",
    "macro_roc_auc_ovo = roc_auc_score(y_test, y_prob_lgbm, multi_class=\"ovo\",\n",
    "                                  average=\"macro\")\n",
    "weighted_roc_auc_ovo = roc_auc_score(y_test, y_prob_lgbm, multi_class=\"ovo\",\n",
    "                                     average=\"weighted\")\n",
    "macro_roc_auc_ovr = roc_auc_score(y_test, y_prob_lgbm, multi_class=\"ovr\",\n",
    "                                  average=\"macro\")\n",
    "weighted_roc_auc_ovr = roc_auc_score(y_test, y_prob_lgbm, multi_class=\"ovr\",\n",
    "                                     average=\"weighted\")\n",
    "\n",
    "print(\"One-vs-One ROC AUC scores:\\n{:.6f} (macro),\\n{:.6f} \"\n",
    "      \"(weighted by prevalence)\"\n",
    "      .format(macro_roc_auc_ovo, weighted_roc_auc_ovo))\n",
    "print('---------------------------------------')\n",
    "print(\"One-vs-Rest ROC AUC scores:\\n{:.6f} (macro),\\n{:.6f} \"\n",
    "      \"(weighted by prevalence)\"\n",
    "      .format(macro_roc_auc_ovr, weighted_roc_auc_ovr))"
   ]
  },
  {
   "cell_type": "code",
   "execution_count": null,
   "metadata": {
    "colab": {
     "base_uri": "https://localhost:8080/"
    },
    "id": "QjsIEP3EFtnR",
    "outputId": "e3f00488-dc19-4ec1-9371-3f0504f9c5a2"
   },
   "outputs": [],
   "source": [
    "'''\n",
    "    Feature Importance\n",
    "\n",
    "      Ensemble Learning의 경우 중요 Feature를 추출할 수 있는 알고리즘이 내장되어 있음\n",
    "      Feature importance 측정 기준: weight, cover, gain 등\n",
    "     \n",
    "'''\n",
    "\n",
    "# Calculate feature importance and store in pandas series\n",
    "feature_imp = pd.Series(lgbm_clf.feature_importances_, index=X_train.columns).sort_values(ascending=False)\n",
    "feature_imp"
   ]
  },
  {
   "cell_type": "markdown",
   "metadata": {
    "id": "6XfcRfEX_tcG"
   },
   "source": [
    "### 3-3-1-4. 학습결과 저장(백테스팅용)"
   ]
  },
  {
   "cell_type": "code",
   "execution_count": null,
   "metadata": {
    "colab": {
     "base_uri": "https://localhost:8080/",
     "height": 424
    },
    "id": "rP4vR2dn_1Gn",
    "outputId": "545c1629-d441-488f-94f5-17f10b7059df"
   },
   "outputs": [],
   "source": [
    "# 학습모델이 예측한 Label\n",
    "\n",
    "lgbm_predicted_label = pd.DataFrame({'LGBM_Predicted_label':y_pred_lgbm})\n",
    "lgbm_predicted_label"
   ]
  },
  {
   "cell_type": "code",
   "execution_count": null,
   "metadata": {
    "colab": {
     "base_uri": "https://localhost:8080/"
    },
    "id": "bwFbWGPHy2id",
    "outputId": "adaff1ba-0487-49b0-9c13-a93a1f6379b7"
   },
   "outputs": [],
   "source": [
    "# 학습모델이 예측한 각 Labels의 예측확률\n",
    "\n",
    "y_prob_lgbm = lgbm_clf.predict_proba(X_test)\n",
    "y_prob_lgbm"
   ]
  },
  {
   "cell_type": "code",
   "execution_count": null,
   "metadata": {
    "id": "fpwjMN6kG9HM"
   },
   "outputs": [],
   "source": [
    "column_names = ['LGBM_Down Day','LGBM_Stay','LGBM_Up day']\n",
    "\n",
    "lgbm_pred_prob = pd.DataFrame(y_prob_lgbm, columns=column_names)"
   ]
  },
  {
   "cell_type": "code",
   "execution_count": null,
   "metadata": {
    "colab": {
     "base_uri": "https://localhost:8080/",
     "height": 424
    },
    "id": "CDgvVuLYIeIl",
    "outputId": "fe0d84d6-7f61-4b30-a7af-885f435c8bfd"
   },
   "outputs": [],
   "source": [
    "lgbm_pred_prob"
   ]
  },
  {
   "cell_type": "code",
   "execution_count": null,
   "metadata": {
    "colab": {
     "base_uri": "https://localhost:8080/",
     "height": 424
    },
    "id": "wUAsgEcwIeG4",
    "outputId": "8d0e0278-07db-490a-ac6b-0bcc0df9cd32"
   },
   "outputs": [],
   "source": [
    "# 예측 labels과 예측 확률 합치기\n",
    "\n",
    "lgbm_pred_prob_total = pd.merge(lgbm_predicted_label, lgbm_pred_prob, left_index=True, right_index=True)\n",
    "lgbm_pred_prob_total"
   ]
  },
  {
   "cell_type": "code",
   "execution_count": null,
   "metadata": {
    "id": "b7eVDZtSDT-x"
   },
   "outputs": [],
   "source": [
    "# csv 파일 출력\n",
    "\n",
    "lgbm_pred_prob_total.to_csv(os.getenv('HOME') + '/aiffel/lgbm_pred_prob_total_all_features_220607.csv')"
   ]
  },
  {
   "cell_type": "markdown",
   "metadata": {
    "id": "F_RTJEIiUMTT"
   },
   "source": [
    "## 3-3-2. Random Forest"
   ]
  },
  {
   "cell_type": "markdown",
   "metadata": {
    "id": "FjAWDnjOkNWI"
   },
   "source": [
    "### 3-3-2-1. Selecting Features"
   ]
  },
  {
   "cell_type": "code",
   "execution_count": 16,
   "metadata": {
    "id": "Bgkw34mGkNWJ"
   },
   "outputs": [],
   "source": [
    "## Data 100% 사용 \n",
    "\n",
    "\n",
    "\n",
    "\n",
    "# 훈련용 data - 전체 앞시간 70%\n",
    "X_train = X.loc[:366000, :]\n",
    "y_train = y.loc[:366000]\n",
    "\n",
    "# 시험용 data - 전체 뒷시간 약 30%\n",
    "#             - Time lagging을 막기위해 331분 이후 사용 (366500-366169)\n",
    "\n",
    "X_test = X.loc[366501:, :]\n",
    "y_test = y.loc[366501:]"
   ]
  },
  {
   "cell_type": "code",
   "execution_count": 17,
   "metadata": {
    "id": "Hcnl9vk2kNWK"
   },
   "outputs": [],
   "source": [
    "'''\n",
    "      Feature Selection 없이 모든 Features 선정\n",
    "      1분,2분,3분전의 종가와 거래량 6개의 Features 추가\n",
    "            \n",
    "      \"X_train, X_test\" 저장\n",
    "\n",
    "'''\n",
    "\n",
    "#0. ALL Features\n",
    "\n",
    "X_train = X_train[['EMA10', 'EMA30', 'EMA180', 'ROC10', 'ROC30', 'MOM10', 'MOM30', \n",
    "                   '%K10', '%D10', '%K30', '%D30', '%K180', '%D180', \n",
    "                   'RSI10', 'RSI30', 'RSI180', 'MA10', 'MA30', 'MA180',\n",
    "                   'EMAFast', 'EMASlow', 'MACD', 'MACDSignal', 'MACDDiff',\n",
    "                   'MBB(MA20)', 'HBB', 'LBB', 'PDI', 'MDI', 'ADX', 'OLCR', 'HCR', 'LCR',\n",
    "                   'CLCR', 'VLVR', 'VMA5R', 'VMA10R', 'VMA20R', 'VMA60R', 'VMA120R',\n",
    "                   'BTC_close', 'DXY', 'BTCD', 'Kimchi_premium', 'S&P500', 'Ethereum DeFi',\n",
    "                   'News_freq', 'NaverTrend', 'Kyle_lambda', 'Amihud_lambda',\n",
    "                   'Hasbrouck_labda', \n",
    "                   'Close_bf_1mim', 'Close_bf_2mim', 'Close_bf_3mim',\n",
    "                   'Volume_bf_1mim', 'Volume_bf_2mim', 'Volume_bf_3mim']]\n",
    "    \n",
    "X_test = X_test[['EMA10', 'EMA30', 'EMA180', 'ROC10', 'ROC30', 'MOM10', 'MOM30', \n",
    "                   '%K10', '%D10', '%K30', '%D30', '%K180', '%D180', \n",
    "                   'RSI10', 'RSI30', 'RSI180', 'MA10', 'MA30', 'MA180',\n",
    "                   'EMAFast', 'EMASlow', 'MACD', 'MACDSignal', 'MACDDiff',\n",
    "                   'MBB(MA20)', 'HBB', 'LBB', 'PDI', 'MDI', 'ADX', 'OLCR', 'HCR', 'LCR',\n",
    "                   'CLCR', 'VLVR', 'VMA5R', 'VMA10R', 'VMA20R', 'VMA60R', 'VMA120R',\n",
    "                   'BTC_close', 'DXY', 'BTCD', 'Kimchi_premium', 'S&P500', 'Ethereum DeFi',\n",
    "                   'News_freq', 'NaverTrend', 'Kyle_lambda', 'Amihud_lambda',\n",
    "                   'Hasbrouck_labda', \n",
    "                   'Close_bf_1mim', 'Close_bf_2mim', 'Close_bf_3mim',\n",
    "                   'Volume_bf_1mim', 'Volume_bf_2mim', 'Volume_bf_3mim']]"
   ]
  },
  {
   "cell_type": "markdown",
   "metadata": {
    "id": "cN4PogMJkNWK"
   },
   "source": [
    "### 3-3-1-2. Random Search and Blocking Time Series Split"
   ]
  },
  {
   "cell_type": "code",
   "execution_count": null,
   "metadata": {
    "id": "963VONv2lMEm"
   },
   "outputs": [],
   "source": [
    "rf_clf = RandomForestClassifier()"
   ]
  },
  {
   "cell_type": "code",
   "execution_count": null,
   "metadata": {
    "id": "hhYie6b3kn8z"
   },
   "outputs": [],
   "source": [
    "rf_params = {'n_estimators': randint(10,500),\n",
    "            'max_features':  ['auto', 'sqrt'],\n",
    "            'max_depth': [5, 10, 15, 20, None],\n",
    "            'min_samples_split': [2, 5],\n",
    "            'min_samples_leaf': [1, 2],\n",
    "            'criterion': ['gini','entropy'],\n",
    "            'bootstrap': [True, False]}"
   ]
  },
  {
   "cell_type": "code",
   "execution_count": null,
   "metadata": {
    "id": "KHdfa17nlLPe"
   },
   "outputs": [],
   "source": [
    "rf_rand_search = RandomizedSearchCV(estimator = rf_clf, \n",
    "                                    param_distributions = rf_params)"
   ]
  },
  {
   "cell_type": "code",
   "execution_count": null,
   "metadata": {
    "id": "15TUtPNckn47"
   },
   "outputs": [],
   "source": [
    "#pipe_rf = Pipeline([('scaler', sc), ('rf',rf_clf)])  \n",
    "\n",
    "# ---- 오류남 ----\n",
    "# Invalid parameter bootstrap for estimator Pipeline(steps=[('scaler', StandardScaler()), ('rf', RandomForestClassifier())]). Check the list of available parameters with `estimator.get_params().keys()`."
   ]
  },
  {
   "cell_type": "code",
   "execution_count": null,
   "metadata": {
    "id": "_RKLGX0AkNWL"
   },
   "outputs": [],
   "source": [
    "rf_rand_search = RandomizedSearchCV(estimator = rf_clf,\n",
    "                                    param_distributions = rf_params,\n",
    "                                    cv = btss, scoring = 'f1_macro')"
   ]
  },
  {
   "cell_type": "code",
   "execution_count": null,
   "metadata": {
    "id": "1vPpbPe6kNWM"
   },
   "outputs": [],
   "source": [
    "rf_rand_search.fit(X_train, y_train)"
   ]
  },
  {
   "cell_type": "code",
   "execution_count": null,
   "metadata": {
    "colab": {
     "base_uri": "https://localhost:8080/"
    },
    "id": "_0d8JhSdkNWM",
    "outputId": "2d08c8eb-bdb4-4807-e137-ac15e5c480da"
   },
   "outputs": [],
   "source": [
    "rf_rand_search.best_params_"
   ]
  },
  {
   "attachments": {
    "image.png": {
     "image/png": "[encoded data removed]"
    }
   },
   "cell_type": "markdown",
   "metadata": {},
   "source": [
    "![image.png](attachment:image.png)"
   ]
  },
  {
   "cell_type": "code",
   "execution_count": null,
   "metadata": {
    "colab": {
     "base_uri": "https://localhost:8080/"
    },
    "id": "NV-TQgpJkNWM",
    "outputId": "ce8ef61c-73d5-45d7-de28-1f78b886535c"
   },
   "outputs": [],
   "source": [
    "print (f'Train Accuracy Random Forest : {rf_rand_search.score(X_train,y_train):.3f}')\n",
    "print (f'Test Accuracy Forest : {rf_rand_search.score(X_test,y_test):.3f}')"
   ]
  },
  {
   "cell_type": "markdown",
   "metadata": {
    "id": "nmtUoJ0dUzCV"
   },
   "source": [
    "### 3-3-2-2. 최적의 hyperparameters로 학습하기"
   ]
  },
  {
   "cell_type": "code",
   "execution_count": 20,
   "metadata": {
    "id": "KchPoEcpUrpU"
   },
   "outputs": [],
   "source": [
    "rf_clf = RandomForestClassifier(bootstrap=True,\n",
    "                                criterion='entropy',\n",
    "                                max_depth=15,\n",
    "                                max_features='auto',\n",
    "                                min_samples_leaf=1,\n",
    "                                min_samples_split=5,\n",
    "                                n_estimators=304)\n",
    "\n",
    "#n_estimators : 모델에서 사용할 트리 갯수(학습시 생성할 트리 갯수)\n",
    "#criterion : 분할 품질을 측정하는 기능 (default : gini)\n",
    "#max_depth : 트리의 최대 깊이\n",
    "#min_samples_split : 내부 노드를 분할하는데 필요한 최소 샘플 수 (default : 2)\n",
    "#min_samples_leaf : 리프 노드에 있어야 할 최소 샘플 수 (default : 1)\n",
    "#min_weight_fraction_leaf : min_sample_leaf와 같지만 가중치가 부여된 샘플 수에서의 비율\n",
    "#max_features : 각 노드에서 분할에 사용할 특징의 최대 수\n",
    "#max_leaf_nodes : 리프 노드의 최대수\n",
    "#min_impurity_decrease : 최소 불순도\n",
    "#min_impurity_split : 나무 성장을 멈추기 위한 임계치\n",
    "#bootstrap : 부트스트랩(중복허용 샘플링) 사용 여부\n",
    "#oob_score : 일반화 정확도를 줄이기 위해 밖의 샘플 사용 여부\n",
    "#n_jobs :적합성과 예측성을 위해 병렬로 실행할 작업 수\n",
    "#random_state : 난수 seed 설정\n",
    "#verbose : 실행 과정 출력 여부\n",
    "#warm_start : 이전 호출의 솔루션을 재사용하여 합계에 더 많은 견적가를 추가\n",
    "#class_weight : 클래스 가중치"
   ]
  },
  {
   "cell_type": "code",
   "execution_count": 22,
   "metadata": {},
   "outputs": [],
   "source": [
    "# Feature Scaling\n",
    "\n",
    "sc = StandardScaler()\n",
    "\n",
    "X_train = sc.fit_transform(X_train)\n",
    "X_test = sc.transform(X_test)"
   ]
  },
  {
   "cell_type": "code",
   "execution_count": 23,
   "metadata": {
    "colab": {
     "base_uri": "https://localhost:8080/"
    },
    "id": "M_Yxb2E-Urgu",
    "outputId": "7e185beb-c132-4bde-d83f-2c894a82ab9b"
   },
   "outputs": [
    {
     "data": {
      "text/plain": [
       "RandomForestClassifier(criterion='entropy', max_depth=15, min_samples_split=5,\n",
       "                       n_estimators=304)"
      ]
     },
     "execution_count": 23,
     "metadata": {},
     "output_type": "execute_result"
    }
   ],
   "source": [
    "## Model fitting\n",
    "rf_clf.fit(X_train, y_train)"
   ]
  },
  {
   "cell_type": "code",
   "execution_count": 24,
   "metadata": {
    "id": "reY-2VhrVPKs"
   },
   "outputs": [],
   "source": [
    "## 예측값 저장\n",
    "y_pred_rf = rf_clf.predict(X_test)"
   ]
  },
  {
   "cell_type": "markdown",
   "metadata": {
    "id": "GHwabwwoZKgi"
   },
   "source": [
    "### 3-3-2-3. 평가(Evaluation)"
   ]
  },
  {
   "cell_type": "code",
   "execution_count": 25,
   "metadata": {
    "colab": {
     "base_uri": "https://localhost:8080/",
     "height": 237
    },
    "id": "cuQLrrf7ZKgi",
    "outputId": "3bf8ea42-8bb0-4789-9039-ba59b07ab992"
   },
   "outputs": [
    {
     "data": {
      "text/html": [
       "<div>\n",
       "<style scoped>\n",
       "    .dataframe tbody tr th:only-of-type {\n",
       "        vertical-align: middle;\n",
       "    }\n",
       "\n",
       "    .dataframe tbody tr th {\n",
       "        vertical-align: top;\n",
       "    }\n",
       "\n",
       "    .dataframe thead th {\n",
       "        text-align: right;\n",
       "    }\n",
       "</style>\n",
       "<table border=\"1\" class=\"dataframe\">\n",
       "  <thead>\n",
       "    <tr style=\"text-align: right;\">\n",
       "      <th></th>\n",
       "      <th>precision</th>\n",
       "      <th>recall</th>\n",
       "      <th>f1-score</th>\n",
       "      <th>support</th>\n",
       "    </tr>\n",
       "  </thead>\n",
       "  <tbody>\n",
       "    <tr>\n",
       "      <th>Down Day</th>\n",
       "      <td>0.507510</td>\n",
       "      <td>0.547402</td>\n",
       "      <td>0.526702</td>\n",
       "      <td>54439.000000</td>\n",
       "    </tr>\n",
       "    <tr>\n",
       "      <th>Stay</th>\n",
       "      <td>0.368693</td>\n",
       "      <td>0.101313</td>\n",
       "      <td>0.158948</td>\n",
       "      <td>50053.000000</td>\n",
       "    </tr>\n",
       "    <tr>\n",
       "      <th>Up Day</th>\n",
       "      <td>0.435067</td>\n",
       "      <td>0.702428</td>\n",
       "      <td>0.537327</td>\n",
       "      <td>52105.000000</td>\n",
       "    </tr>\n",
       "    <tr>\n",
       "      <th>accuracy</th>\n",
       "      <td>0.456401</td>\n",
       "      <td>0.456401</td>\n",
       "      <td>0.456401</td>\n",
       "      <td>0.456401</td>\n",
       "    </tr>\n",
       "    <tr>\n",
       "      <th>macro avg</th>\n",
       "      <td>0.437090</td>\n",
       "      <td>0.450381</td>\n",
       "      <td>0.407659</td>\n",
       "      <td>156597.000000</td>\n",
       "    </tr>\n",
       "    <tr>\n",
       "      <th>weighted avg</th>\n",
       "      <td>0.439036</td>\n",
       "      <td>0.456401</td>\n",
       "      <td>0.412692</td>\n",
       "      <td>156597.000000</td>\n",
       "    </tr>\n",
       "  </tbody>\n",
       "</table>\n",
       "</div>"
      ],
      "text/plain": [
       "              precision    recall  f1-score        support\n",
       "Down Day       0.507510  0.547402  0.526702   54439.000000\n",
       "Stay           0.368693  0.101313  0.158948   50053.000000\n",
       "Up Day         0.435067  0.702428  0.537327   52105.000000\n",
       "accuracy       0.456401  0.456401  0.456401       0.456401\n",
       "macro avg      0.437090  0.450381  0.407659  156597.000000\n",
       "weighted avg   0.439036  0.456401  0.412692  156597.000000"
      ]
     },
     "execution_count": 25,
     "metadata": {},
     "output_type": "execute_result"
    }
   ],
   "source": [
    "'''\n",
    "    Classification Report\n",
    "\n",
    "'''\n",
    "\n",
    "## Define the traget names\n",
    "target_names = ['Down Day', 'Stay' ,'Up Day']\n",
    "\n",
    "## Build a classifcation report\n",
    "report = classification_report(y_true = y_test, y_pred = y_pred_rf, target_names = target_names, output_dict = True)\n",
    "\n",
    "## Add it to a data frame, transpose it for readability.\n",
    "rf_report_df = pd.DataFrame(report).transpose()\n",
    "rf_report_df"
   ]
  },
  {
   "cell_type": "code",
   "execution_count": 26,
   "metadata": {
    "colab": {
     "base_uri": "https://localhost:8080/",
     "height": 639
    },
    "id": "Q-V7GYthZKgj",
    "outputId": "3c640d3f-9d19-4a41-c993-39882f3e105e"
   },
   "outputs": [
    {
     "data": {
      "image/png": "[encoded data removed]",
      "text/plain": [
       "<Figure size 1440x1152 with 2 Axes>"
      ]
     },
     "metadata": {
      "needs_background": "light"
     },
     "output_type": "display_data"
    }
   ],
   "source": [
    "'''\n",
    "    Confusion Matrix\n",
    "'''\n",
    "\n",
    "rf_matrix = confusion_matrix(y_test, y_pred_rf)\n",
    "rf_matrix\n",
    "\n",
    "# Creating a dataframe for a array-formatted Confusion matrix,so it will be easy for plotting.\n",
    "rf_matrix_df = pd.DataFrame(rf_matrix,\n",
    "                              index = ['Down Day','Stay','Up day'], \n",
    "                              columns = ['Down Day','Stay','Up day'])\n",
    "\n",
    "#Plotting the confusion matrix\n",
    "plt.figure(figsize=(20,16))\n",
    "sns.heatmap(rf_matrix_df, annot=True)\n",
    "plt.rc('font', size=30) \n",
    "plt.title('Confusion Matrix - Random Forest\\n')\n",
    "plt.ylabel('Actal Values')\n",
    "plt.xlabel('Predicted Values')\n",
    "plt.show()"
   ]
  },
  {
   "cell_type": "code",
   "execution_count": 27,
   "metadata": {
    "colab": {
     "base_uri": "https://localhost:8080/"
    },
    "id": "hRBkaf-TZKgj",
    "outputId": "45cde676-4291-41cd-a0e0-d2636cae8ac0"
   },
   "outputs": [
    {
     "name": "stdout",
     "output_type": "stream",
     "text": [
      "One-vs-One ROC AUC scores:\n",
      "0.632613 (macro),\n",
      "0.633521 (weighted by prevalence)\n",
      "---------------------------------------\n",
      "One-vs-Rest ROC AUC scores:\n",
      "0.633366 (macro),\n",
      "0.635548 (weighted by prevalence)\n"
     ]
    }
   ],
   "source": [
    "'''\n",
    "  * AUC(Area Under the ROC Curve)\n",
    "  \n",
    "    ROC curve의 밑면적.   \n",
    "    0~1까지로 1에 가까울수록 좋은 모델   \n",
    "    https://koreapy.tistory.com/752\n",
    "\n",
    "'''\n",
    "\n",
    "\n",
    "n_classes = 3\n",
    "#y_score_lgbm = lgbm_clf.predict_proba(X_test)\n",
    "\n",
    "y_prob_rf = rf_clf.predict_proba(X_test)\n",
    "\n",
    "macro_roc_auc_ovo = roc_auc_score(y_test, y_prob_rf, multi_class=\"ovo\",\n",
    "                                  average=\"macro\")\n",
    "weighted_roc_auc_ovo = roc_auc_score(y_test, y_prob_rf, multi_class=\"ovo\",\n",
    "                                     average=\"weighted\")\n",
    "macro_roc_auc_ovr = roc_auc_score(y_test, y_prob_rf, multi_class=\"ovr\",\n",
    "                                  average=\"macro\")\n",
    "weighted_roc_auc_ovr = roc_auc_score(y_test, y_prob_rf, multi_class=\"ovr\",\n",
    "                                     average=\"weighted\")\n",
    "\n",
    "print(\"One-vs-One ROC AUC scores:\\n{:.6f} (macro),\\n{:.6f} \"\n",
    "      \"(weighted by prevalence)\"\n",
    "      .format(macro_roc_auc_ovo, weighted_roc_auc_ovo))\n",
    "print('---------------------------------------')\n",
    "print(\"One-vs-Rest ROC AUC scores:\\n{:.6f} (macro),\\n{:.6f} \"\n",
    "      \"(weighted by prevalence)\"\n",
    "      .format(macro_roc_auc_ovr, weighted_roc_auc_ovr))"
   ]
  },
  {
   "cell_type": "code",
   "execution_count": 29,
   "metadata": {},
   "outputs": [],
   "source": [
    "X_train = X.loc[:366000, :]\n",
    "\n",
    "X_train = X_train[['EMA10', 'EMA30', 'EMA180', 'ROC10', 'ROC30', 'MOM10', 'MOM30', \n",
    "                   '%K10', '%D10', '%K30', '%D30', '%K180', '%D180', \n",
    "                   'RSI10', 'RSI30', 'RSI180', 'MA10', 'MA30', 'MA180',\n",
    "                   'EMAFast', 'EMASlow', 'MACD', 'MACDSignal', 'MACDDiff',\n",
    "                   'MBB(MA20)', 'HBB', 'LBB', 'PDI', 'MDI', 'ADX', 'OLCR', 'HCR', 'LCR',\n",
    "                   'CLCR', 'VLVR', 'VMA5R', 'VMA10R', 'VMA20R', 'VMA60R', 'VMA120R',\n",
    "                   'BTC_close', 'DXY', 'BTCD', 'Kimchi_premium', 'S&P500', 'Ethereum DeFi',\n",
    "                   'News_freq', 'NaverTrend', 'Kyle_lambda', 'Amihud_lambda',\n",
    "                   'Hasbrouck_labda', \n",
    "                   'Close_bf_1mim', 'Close_bf_2mim', 'Close_bf_3mim',\n",
    "                   'Volume_bf_1mim', 'Volume_bf_2mim', 'Volume_bf_3mim']]"
   ]
  },
  {
   "cell_type": "code",
   "execution_count": 30,
   "metadata": {
    "colab": {
     "base_uri": "https://localhost:8080/"
    },
    "id": "cyf3EMT_ZKgj",
    "outputId": "62b41215-01e2-4b5f-90d7-9ae0f16fb8e8"
   },
   "outputs": [
    {
     "data": {
      "text/plain": [
       "RSI180             0.065248\n",
       "BTCD               0.060723\n",
       "%K180              0.056825\n",
       "%D180              0.056361\n",
       "MA180              0.044348\n",
       "DXY                0.043423\n",
       "BTC_close          0.043141\n",
       "EMA180             0.041953\n",
       "Ethereum DeFi      0.038768\n",
       "News_freq          0.036784\n",
       "NaverTrend         0.035241\n",
       "S&P500             0.033283\n",
       "Kimchi_premium     0.026203\n",
       "EMA30              0.025374\n",
       "EMASlow            0.024499\n",
       "MA30               0.023452\n",
       "HBB                0.022947\n",
       "EMAFast            0.022169\n",
       "EMA10              0.022090\n",
       "LBB                0.021186\n",
       "MBB(MA20)          0.020746\n",
       "RSI30              0.019904\n",
       "Close_bf_1mim      0.019307\n",
       "MA10               0.019252\n",
       "Kyle_lambda        0.017577\n",
       "Amihud_lambda      0.017501\n",
       "Close_bf_2mim      0.016615\n",
       "MACDSignal         0.015210\n",
       "Close_bf_3mim      0.014831\n",
       "Hasbrouck_labda    0.012978\n",
       "MACD               0.012754\n",
       "ROC30              0.007273\n",
       "MOM30              0.006854\n",
       "ADX                0.004991\n",
       "MACDDiff           0.004519\n",
       "%D30               0.004137\n",
       "RSI10              0.003690\n",
       "%K30               0.003586\n",
       "Volume_bf_1mim     0.003518\n",
       "Volume_bf_2mim     0.003236\n",
       "Volume_bf_3mim     0.003228\n",
       "MDI                0.003068\n",
       "PDI                0.002813\n",
       "ROC10              0.002351\n",
       "%D10               0.002212\n",
       "VMA120R            0.002153\n",
       "MOM10              0.002147\n",
       "VMA60R             0.001465\n",
       "%K10               0.001337\n",
       "VMA20R             0.001030\n",
       "HCR                0.000962\n",
       "LCR                0.000938\n",
       "VMA10R             0.000913\n",
       "CLCR               0.000851\n",
       "VMA5R              0.000784\n",
       "VLVR               0.000691\n",
       "OLCR               0.000556\n",
       "dtype: float64"
      ]
     },
     "execution_count": 30,
     "metadata": {},
     "output_type": "execute_result"
    }
   ],
   "source": [
    "'''\n",
    "    Feature Importance\n",
    "\n",
    "      Ensemble Learning의 경우 중요 Feature를 추출할 수 있는 알고리즘이 내장되어 있음\n",
    "      Feature importance 측정 기준: weight, cover, gain 등\n",
    "     \n",
    "'''\n",
    "\n",
    "# Calculate feature importance and store in pandas series\n",
    "feature_imp = pd.Series(rf_clf.feature_importances_, index=X_train.columns).sort_values(ascending=False)\n",
    "feature_imp"
   ]
  },
  {
   "cell_type": "markdown",
   "metadata": {
    "id": "5vU8RcZ9ZKgk"
   },
   "source": [
    "### 3-3-2-4. 학습결과 저장(백테스팅용)"
   ]
  },
  {
   "cell_type": "code",
   "execution_count": null,
   "metadata": {
    "id": "MrJP8EkOZKgk"
   },
   "outputs": [],
   "source": [
    "# 학습모델이 예측한 Label\n",
    "\n",
    "rf_predicted_label = pd.DataFrame({'RF_Predicted_label':y_pred_rf})"
   ]
  },
  {
   "cell_type": "code",
   "execution_count": null,
   "metadata": {
    "colab": {
     "base_uri": "https://localhost:8080/",
     "height": 424
    },
    "id": "OMeTHLdRZKgl",
    "outputId": "a5780290-195a-4ef8-d50d-64e9e48351db"
   },
   "outputs": [],
   "source": [
    "rf_predicted_label"
   ]
  },
  {
   "cell_type": "code",
   "execution_count": null,
   "metadata": {
    "colab": {
     "base_uri": "https://localhost:8080/"
    },
    "id": "2XagarqlZKgm",
    "outputId": "bc51ba6e-6296-48b0-ee1b-902e94587fe1"
   },
   "outputs": [],
   "source": [
    "y_prob_testset = rf_clf.predict_proba(X_test)\n",
    "y_prob_testset"
   ]
  },
  {
   "cell_type": "code",
   "execution_count": null,
   "metadata": {
    "id": "61vSHCwdZKgm"
   },
   "outputs": [],
   "source": [
    "column_names = ['RF_Down Day','RF_Stay','RF_Up day']\n",
    "rf_pred_prob = pd.DataFrame(y_prob_testset, columns=column_names)"
   ]
  },
  {
   "cell_type": "code",
   "execution_count": null,
   "metadata": {
    "colab": {
     "base_uri": "https://localhost:8080/",
     "height": 424
    },
    "id": "U0tGDD7ZZKgm",
    "outputId": "3e2d2a83-ee78-4411-be9d-ccc710cdec1a"
   },
   "outputs": [],
   "source": [
    "rf_pred_prob"
   ]
  },
  {
   "cell_type": "code",
   "execution_count": null,
   "metadata": {
    "colab": {
     "base_uri": "https://localhost:8080/",
     "height": 424
    },
    "id": "CYaHXYiWZKgn",
    "outputId": "ff4b964d-faba-473f-bd83-45ae105f4d9a"
   },
   "outputs": [],
   "source": [
    "# Predictied labels과 Prediction probabilities를 합치기\n",
    "\n",
    "rf_pred_prob_total = pd.merge(rf_predicted_label, rf_pred_prob, left_index=True, right_index=True)\n",
    "rf_pred_prob_total"
   ]
  },
  {
   "cell_type": "code",
   "execution_count": null,
   "metadata": {
    "id": "0ldFpNzlZKgn"
   },
   "outputs": [],
   "source": [
    "# csv 파일 출력\n",
    "\n",
    "rf_pred_prob_total.to_csv(os.getenv('HOME') + '/aiffel/rf_pred_prob_all_features_220607.csv')"
   ]
  },
  {
   "cell_type": "markdown",
   "metadata": {
    "id": "6S-U84FSXHcZ"
   },
   "source": [
    "## 3-3-3. Logistic Regression"
   ]
  },
  {
   "cell_type": "code",
   "execution_count": 16,
   "metadata": {},
   "outputs": [],
   "source": [
    "## Data 100% 사용 \n",
    "\n",
    "# 훈련용 data - 전체 앞시간 70%\n",
    "X_train = X.loc[:366000, :]\n",
    "y_train = y.loc[:366000]\n",
    "\n",
    "# 시험용 data - 전체 뒷시간 약 30%\n",
    "#             - Time lagging을 막기위해 331분 이후 사용 (366500-366169)\n",
    "\n",
    "X_test = X.loc[366501:, :]\n",
    "y_test = y.loc[366501:]"
   ]
  },
  {
   "cell_type": "code",
   "execution_count": 17,
   "metadata": {},
   "outputs": [],
   "source": [
    "'''\n",
    "      Feature Selection 없이 모든 Features 선정\n",
    "      1분,2분,3분전의 종가와 거래량 6개의 Features 추가\n",
    "            \n",
    "      \"X_train, X_test\" 저장\n",
    "\n",
    "'''\n",
    "\n",
    "#0. ALL Features\n",
    "\n",
    "X_train = X_train[['EMA10', 'EMA30', 'EMA180', 'ROC10', 'ROC30', 'MOM10', 'MOM30', \n",
    "                   '%K10', '%D10', '%K30', '%D30', '%K180', '%D180', \n",
    "                   'RSI10', 'RSI30', 'RSI180', 'MA10', 'MA30', 'MA180',\n",
    "                   'EMAFast', 'EMASlow', 'MACD', 'MACDSignal', 'MACDDiff',\n",
    "                   'MBB(MA20)', 'HBB', 'LBB', 'PDI', 'MDI', 'ADX', 'OLCR', 'HCR', 'LCR',\n",
    "                   'CLCR', 'VLVR', 'VMA5R', 'VMA10R', 'VMA20R', 'VMA60R', 'VMA120R',\n",
    "                   'BTC_close', 'DXY', 'BTCD', 'Kimchi_premium', 'S&P500', 'Ethereum DeFi',\n",
    "                   'News_freq', 'NaverTrend', 'Kyle_lambda', 'Amihud_lambda',\n",
    "                   'Hasbrouck_labda', \n",
    "                   'Close_bf_1mim', 'Close_bf_2mim', 'Close_bf_3mim',\n",
    "                   'Volume_bf_1mim', 'Volume_bf_2mim', 'Volume_bf_3mim']]\n",
    "    \n",
    "X_test = X_test[['EMA10', 'EMA30', 'EMA180', 'ROC10', 'ROC30', 'MOM10', 'MOM30', \n",
    "                   '%K10', '%D10', '%K30', '%D30', '%K180', '%D180', \n",
    "                   'RSI10', 'RSI30', 'RSI180', 'MA10', 'MA30', 'MA180',\n",
    "                   'EMAFast', 'EMASlow', 'MACD', 'MACDSignal', 'MACDDiff',\n",
    "                   'MBB(MA20)', 'HBB', 'LBB', 'PDI', 'MDI', 'ADX', 'OLCR', 'HCR', 'LCR',\n",
    "                   'CLCR', 'VLVR', 'VMA5R', 'VMA10R', 'VMA20R', 'VMA60R', 'VMA120R',\n",
    "                   'BTC_close', 'DXY', 'BTCD', 'Kimchi_premium', 'S&P500', 'Ethereum DeFi',\n",
    "                   'News_freq', 'NaverTrend', 'Kyle_lambda', 'Amihud_lambda',\n",
    "                   'Hasbrouck_labda', \n",
    "                   'Close_bf_1mim', 'Close_bf_2mim', 'Close_bf_3mim',\n",
    "                   'Volume_bf_1mim', 'Volume_bf_2mim', 'Volume_bf_3mim']]"
   ]
  },
  {
   "cell_type": "code",
   "execution_count": 18,
   "metadata": {
    "id": "pj20U6RHXKuz"
   },
   "outputs": [],
   "source": [
    "log_clf = LogisticRegression()     # 로지스틱 회귀 모델 객체 생성\n",
    "\n",
    "penalty = ['l1', 'l2']                          # 페널티(penalty) 하이퍼파라미터 값의 후보를 만듭니다.\n",
    "C = np.logspace(0, 5, 10)                       # 규제 하이퍼파라미터 값의 후보 범위를 만듭니다.\n",
    "hyperparameters = dict(C=C, penalty=penalty)      # 하이퍼파라미터 후보 딕셔너리를 만듭니다.\n",
    "#solver = ['liblinear', 'saga']"
   ]
  },
  {
   "cell_type": "code",
   "execution_count": 19,
   "metadata": {
    "id": "py7QJfXPXnap"
   },
   "outputs": [],
   "source": [
    "log_rand_search = RandomizedSearchCV(log_clf,\n",
    "                                     hyperparameters)"
   ]
  },
  {
   "cell_type": "code",
   "execution_count": 20,
   "metadata": {
    "colab": {
     "base_uri": "https://localhost:8080/",
     "height": 35
    },
    "id": "IIsTemyazM1N",
    "outputId": "6889cdab-3c7a-485f-d5ba-6007e6131e95"
   },
   "outputs": [],
   "source": [
    "# Feature Scaling\n",
    "\n",
    "X_train = sc.fit_transform(X_train)\n",
    "X_test = sc.fit_transform(X_test)"
   ]
  },
  {
   "cell_type": "code",
   "execution_count": 61,
   "metadata": {
    "colab": {
     "base_uri": "https://localhost:8080/"
    },
    "id": "TOUtiH6hYEDs",
    "outputId": "e6271220-cd75-47bc-83ba-1202a54c0d4f"
   },
   "outputs": [
    {
     "data": {
      "text/plain": [
       "RandomizedSearchCV(estimator=LogisticRegression(),\n",
       "                   param_distributions={'C': array([1.00000000e+00, 3.59381366e+00, 1.29154967e+01, 4.64158883e+01,\n",
       "       1.66810054e+02, 5.99484250e+02, 2.15443469e+03, 7.74263683e+03,\n",
       "       2.78255940e+04, 1.00000000e+05]),\n",
       "                                        'penalty': ['l1', 'l2']})"
      ]
     },
     "execution_count": 61,
     "metadata": {},
     "output_type": "execute_result"
    }
   ],
   "source": [
    "log_rand_search.fit(X_train, y_train)"
   ]
  },
  {
   "cell_type": "code",
   "execution_count": 62,
   "metadata": {
    "colab": {
     "base_uri": "https://localhost:8080/"
    },
    "id": "6T16uZlGYEB5",
    "outputId": "76c8d831-6926-433e-ce6e-4a35dbb2be7d"
   },
   "outputs": [
    {
     "data": {
      "text/plain": [
       "{'penalty': 'l2', 'C': 100000.0}"
      ]
     },
     "execution_count": 62,
     "metadata": {},
     "output_type": "execute_result"
    }
   ],
   "source": [
    "log_rand_search.best_params_"
   ]
  },
  {
   "cell_type": "code",
   "execution_count": 63,
   "metadata": {
    "colab": {
     "base_uri": "https://localhost:8080/"
    },
    "id": "_DkmQrkRYEA2",
    "outputId": "ace11d04-1a20-457f-e355-4c23ba165e6c"
   },
   "outputs": [
    {
     "name": "stdout",
     "output_type": "stream",
     "text": [
      "Train Accuracy - Logistic : 0.497\n",
      "Test Accuracy - Logistic : 0.479\n"
     ]
    }
   ],
   "source": [
    "print (f'Train Accuracy - Logistic : {log_rand_search.score(X_train,y_train):.3f}')\n",
    "print (f'Test Accuracy - Logistic : {log_rand_search.score(X_test,y_test):.3f}')"
   ]
  },
  {
   "cell_type": "markdown",
   "metadata": {
    "id": "s_W4d-PDewaj"
   },
   "source": [
    "### 3-3-3-2. 최적의 하이퍼패러미타를 적용한 모델링 학습"
   ]
  },
  {
   "cell_type": "code",
   "execution_count": 21,
   "metadata": {
    "id": "Pbzgm7_XeesV"
   },
   "outputs": [],
   "source": [
    "log_clf = LogisticRegression(C=100000, penalty='l2')"
   ]
  },
  {
   "cell_type": "code",
   "execution_count": 22,
   "metadata": {
    "colab": {
     "base_uri": "https://localhost:8080/"
    },
    "id": "ByMj5AuWeesW",
    "outputId": "0af6a55d-0a3f-4688-854a-bea1d4208700"
   },
   "outputs": [
    {
     "data": {
      "text/plain": [
       "LogisticRegression(C=100000)"
      ]
     },
     "execution_count": 22,
     "metadata": {},
     "output_type": "execute_result"
    }
   ],
   "source": [
    "## Model fitting\n",
    "\n",
    "log_clf.fit(X_train,y_train)"
   ]
  },
  {
   "cell_type": "code",
   "execution_count": 24,
   "metadata": {
    "id": "Nhs8MbmveesW"
   },
   "outputs": [],
   "source": [
    "## Prediction\n",
    "\n",
    "y_pred_log = log_clf.predict(X_test)"
   ]
  },
  {
   "cell_type": "markdown",
   "metadata": {
    "id": "Q5hAZesqeesW"
   },
   "source": [
    "### 3-3-3-3. 평가(Evaluation)"
   ]
  },
  {
   "cell_type": "code",
   "execution_count": null,
   "metadata": {},
   "outputs": [],
   "source": []
  },
  {
   "cell_type": "code",
   "execution_count": 25,
   "metadata": {
    "colab": {
     "base_uri": "https://localhost:8080/",
     "height": 238
    },
    "id": "i2MoARaBeesX",
    "outputId": "1b23261c-bc1e-4d6c-d493-0429bc5aa5ea"
   },
   "outputs": [
    {
     "data": {
      "text/html": [
       "<div>\n",
       "<style scoped>\n",
       "    .dataframe tbody tr th:only-of-type {\n",
       "        vertical-align: middle;\n",
       "    }\n",
       "\n",
       "    .dataframe tbody tr th {\n",
       "        vertical-align: top;\n",
       "    }\n",
       "\n",
       "    .dataframe thead th {\n",
       "        text-align: right;\n",
       "    }\n",
       "</style>\n",
       "<table border=\"1\" class=\"dataframe\">\n",
       "  <thead>\n",
       "    <tr style=\"text-align: right;\">\n",
       "      <th></th>\n",
       "      <th>precision</th>\n",
       "      <th>recall</th>\n",
       "      <th>f1-score</th>\n",
       "      <th>support</th>\n",
       "    </tr>\n",
       "  </thead>\n",
       "  <tbody>\n",
       "    <tr>\n",
       "      <th>Down Day</th>\n",
       "      <td>0.542575</td>\n",
       "      <td>0.566744</td>\n",
       "      <td>0.554397</td>\n",
       "      <td>54439.000000</td>\n",
       "    </tr>\n",
       "    <tr>\n",
       "      <th>Stay</th>\n",
       "      <td>0.376903</td>\n",
       "      <td>0.191437</td>\n",
       "      <td>0.253909</td>\n",
       "      <td>50053.000000</td>\n",
       "    </tr>\n",
       "    <tr>\n",
       "      <th>Up Day</th>\n",
       "      <td>0.464285</td>\n",
       "      <td>0.662144</td>\n",
       "      <td>0.545837</td>\n",
       "      <td>52105.000000</td>\n",
       "    </tr>\n",
       "    <tr>\n",
       "      <th>accuracy</th>\n",
       "      <td>0.478528</td>\n",
       "      <td>0.478528</td>\n",
       "      <td>0.478528</td>\n",
       "      <td>0.478528</td>\n",
       "    </tr>\n",
       "    <tr>\n",
       "      <th>macro avg</th>\n",
       "      <td>0.461254</td>\n",
       "      <td>0.473442</td>\n",
       "      <td>0.451381</td>\n",
       "      <td>156597.000000</td>\n",
       "    </tr>\n",
       "    <tr>\n",
       "      <th>weighted avg</th>\n",
       "      <td>0.463572</td>\n",
       "      <td>0.478528</td>\n",
       "      <td>0.455504</td>\n",
       "      <td>156597.000000</td>\n",
       "    </tr>\n",
       "  </tbody>\n",
       "</table>\n",
       "</div>"
      ],
      "text/plain": [
       "              precision    recall  f1-score        support\n",
       "Down Day       0.542575  0.566744  0.554397   54439.000000\n",
       "Stay           0.376903  0.191437  0.253909   50053.000000\n",
       "Up Day         0.464285  0.662144  0.545837   52105.000000\n",
       "accuracy       0.478528  0.478528  0.478528       0.478528\n",
       "macro avg      0.461254  0.473442  0.451381  156597.000000\n",
       "weighted avg   0.463572  0.478528  0.455504  156597.000000"
      ]
     },
     "execution_count": 25,
     "metadata": {},
     "output_type": "execute_result"
    }
   ],
   "source": [
    "'''\n",
    "    Classification Report\n",
    "\n",
    "'''\n",
    "\n",
    "## Define the traget names\n",
    "target_names = ['Down Day', 'Stay' ,'Up Day']\n",
    "\n",
    "## Build a classifcation report\n",
    "log_report = classification_report(y_true = y_test, y_pred = y_pred_log, target_names = target_names, output_dict = True)\n",
    "\n",
    "## Add it to a data frame, transpose it for readability.\n",
    "log_report_df = pd.DataFrame(log_report).transpose()\n",
    "log_report_df"
   ]
  },
  {
   "cell_type": "code",
   "execution_count": 35,
   "metadata": {},
   "outputs": [],
   "source": [
    "from sklearn.metrics import f1_score"
   ]
  },
  {
   "cell_type": "code",
   "execution_count": 36,
   "metadata": {},
   "outputs": [
    {
     "data": {
      "text/plain": [
       "0.47852768571556287"
      ]
     },
     "execution_count": 36,
     "metadata": {},
     "output_type": "execute_result"
    }
   ],
   "source": [
    "f1_score(y_test, y_pred_log, average='micro')"
   ]
  },
  {
   "cell_type": "code",
   "execution_count": 28,
   "metadata": {
    "colab": {
     "base_uri": "https://localhost:8080/",
     "height": 1000
    },
    "id": "uBXHrYlreesX",
    "outputId": "ed8ecf85-3aa1-458f-ba06-099f3f8a86c7"
   },
   "outputs": [
    {
     "data": {
      "image/png": "[encoded data removed]",
      "text/plain": [
       "<Figure size 1440x1152 with 2 Axes>"
      ]
     },
     "metadata": {
      "needs_background": "light"
     },
     "output_type": "display_data"
    }
   ],
   "source": [
    "'''\n",
    "    Confusion Matrix\n",
    "'''\n",
    "\n",
    "log_matrix = confusion_matrix(y_test, y_pred_log)\n",
    "log_matrix\n",
    "\n",
    "# Creating a dataframe for a array-formatted Confusion matrix,so it will be easy for plotting.\n",
    "log_matrix_df = pd.DataFrame(log_matrix,\n",
    "                            index = ['Down Day','Stay','Up day'], \n",
    "                            columns = ['Down Day','Stay','Up day'])\n",
    "\n",
    "#Plotting the confusion matrix\n",
    "plt.figure(figsize=(20,16))\n",
    "sns.heatmap(log_matrix_df, annot=True)\n",
    "plt.rc('font', size=30) \n",
    "plt.title('Confusion Matrix - Logistic Regression\\n')\n",
    "plt.ylabel('Actal Values')\n",
    "plt.xlabel('Predicted Values')\n",
    "plt.show()"
   ]
  },
  {
   "cell_type": "code",
   "execution_count": 27,
   "metadata": {
    "colab": {
     "base_uri": "https://localhost:8080/"
    },
    "id": "vM3xqVvDeesX",
    "outputId": "7c294fca-e23f-447c-fb6e-56ba2eef845c"
   },
   "outputs": [
    {
     "name": "stdout",
     "output_type": "stream",
     "text": [
      "One-vs-One ROC AUC scores:\n",
      "0.656766 (macro),\n",
      "0.657919 (weighted by prevalence)\n",
      "---------------------------------------\n",
      "One-vs-Rest ROC AUC scores:\n",
      "0.657965 (macro),\n",
      "0.660212 (weighted by prevalence)\n"
     ]
    }
   ],
   "source": [
    "'''\n",
    "  * AUC(Area Under the ROC Curve)\n",
    "  \n",
    "    ROC curve의 밑면적.   \n",
    "    0~1까지로 1에 가까울수록 좋은 모델   \n",
    "    https://koreapy.tistory.com/752\n",
    "\n",
    "'''\n",
    "\n",
    "\n",
    "n_classes = 3\n",
    "\n",
    "y_prob_log = log_clf.predict_proba(X_test)\n",
    "\n",
    "macro_roc_auc_ovo = roc_auc_score(y_test, y_prob_log, multi_class=\"ovo\",\n",
    "                                  average=\"macro\")\n",
    "weighted_roc_auc_ovo = roc_auc_score(y_test, y_prob_log, multi_class=\"ovo\",\n",
    "                                     average=\"weighted\")\n",
    "macro_roc_auc_ovr = roc_auc_score(y_test, y_prob_log, multi_class=\"ovr\",\n",
    "                                  average=\"macro\")\n",
    "weighted_roc_auc_ovr = roc_auc_score(y_test, y_prob_log, multi_class=\"ovr\",\n",
    "                                     average=\"weighted\")\n",
    "\n",
    "print(\"One-vs-One ROC AUC scores:\\n{:.6f} (macro),\\n{:.6f} \"\n",
    "      \"(weighted by prevalence)\"\n",
    "      .format(macro_roc_auc_ovo, weighted_roc_auc_ovo))\n",
    "print('---------------------------------------')\n",
    "print(\"One-vs-Rest ROC AUC scores:\\n{:.6f} (macro),\\n{:.6f} \"\n",
    "      \"(weighted by prevalence)\"\n",
    "      .format(macro_roc_auc_ovr, weighted_roc_auc_ovr))"
   ]
  },
  {
   "cell_type": "code",
   "execution_count": 37,
   "metadata": {},
   "outputs": [
    {
     "ename": "AttributeError",
     "evalue": "'LogisticRegression' object has no attribute 'feature_importances_'",
     "output_type": "error",
     "traceback": [
      "\u001b[0;31m---------------------------------------------------------------------------\u001b[0m",
      "\u001b[0;31mAttributeError\u001b[0m                            Traceback (most recent call last)",
      "\u001b[0;32m/tmp/ipykernel_47/3018001963.py\u001b[0m in \u001b[0;36m<module>\u001b[0;34m\u001b[0m\n\u001b[0;32m----> 1\u001b[0;31m \u001b[0mftr_importances_values\u001b[0m \u001b[0;34m=\u001b[0m \u001b[0mlog_clf\u001b[0m\u001b[0;34m.\u001b[0m\u001b[0mfeature_importances_\u001b[0m\u001b[0;34m\u001b[0m\u001b[0;34m\u001b[0m\u001b[0m\n\u001b[0m\u001b[1;32m      2\u001b[0m \u001b[0mftr_importances\u001b[0m \u001b[0;34m=\u001b[0m \u001b[0mpd\u001b[0m\u001b[0;34m.\u001b[0m\u001b[0mSeries\u001b[0m\u001b[0;34m(\u001b[0m\u001b[0mftr_importances_values\u001b[0m\u001b[0;34m,\u001b[0m \u001b[0mindex\u001b[0m \u001b[0;34m=\u001b[0m \u001b[0mX_train\u001b[0m\u001b[0;34m.\u001b[0m\u001b[0mcolumns\u001b[0m\u001b[0;34m)\u001b[0m\u001b[0;34m\u001b[0m\u001b[0;34m\u001b[0m\u001b[0m\n\u001b[1;32m      3\u001b[0m \u001b[0mftr_top20\u001b[0m \u001b[0;34m=\u001b[0m \u001b[0mftr_importances\u001b[0m\u001b[0;34m.\u001b[0m\u001b[0msort_values\u001b[0m\u001b[0;34m(\u001b[0m\u001b[0mascending\u001b[0m\u001b[0;34m=\u001b[0m\u001b[0;32mFalse\u001b[0m\u001b[0;34m)\u001b[0m\u001b[0;34m[\u001b[0m\u001b[0;34m:\u001b[0m\u001b[0;36m20\u001b[0m\u001b[0;34m]\u001b[0m\u001b[0;34m\u001b[0m\u001b[0;34m\u001b[0m\u001b[0m\n\u001b[1;32m      4\u001b[0m \u001b[0;34m\u001b[0m\u001b[0m\n\u001b[1;32m      5\u001b[0m \u001b[0mplt\u001b[0m\u001b[0;34m.\u001b[0m\u001b[0mfigure\u001b[0m\u001b[0;34m(\u001b[0m\u001b[0mfigsize\u001b[0m\u001b[0;34m=\u001b[0m\u001b[0;34m(\u001b[0m\u001b[0;36m8\u001b[0m\u001b[0;34m,\u001b[0m\u001b[0;36m6\u001b[0m\u001b[0;34m)\u001b[0m\u001b[0;34m)\u001b[0m\u001b[0;34m\u001b[0m\u001b[0;34m\u001b[0m\u001b[0m\n",
      "\u001b[0;31mAttributeError\u001b[0m: 'LogisticRegression' object has no attribute 'feature_importances_'"
     ]
    }
   ],
   "source": [
    "ftr_importances_values = log_clf.feature_importances_\n",
    "ftr_importances = pd.Series(ftr_importances_values, index = X_train.columns)\n",
    "ftr_top20 = ftr_importances.sort_values(ascending=False)[:20]\n",
    "\n",
    "plt.figure(figsize=(8,6))\n",
    "plt.title('Top 20 Feature Importances')\n",
    "sns.barplot(x=ftr_top20, y=ftr_top20.index)\n",
    "plt.show()"
   ]
  },
  {
   "cell_type": "code",
   "execution_count": null,
   "metadata": {},
   "outputs": [],
   "source": []
  },
  {
   "cell_type": "code",
   "execution_count": null,
   "metadata": {},
   "outputs": [],
   "source": []
  },
  {
   "cell_type": "markdown",
   "metadata": {
    "id": "fnkMND5JeesY"
   },
   "source": [
    "### 3-3-3-4. 학습결과 저장(백테스팅용)"
   ]
  },
  {
   "cell_type": "code",
   "execution_count": 29,
   "metadata": {
    "id": "kobKUJGeeesY"
   },
   "outputs": [],
   "source": [
    "# 학습모델이 예측한 Label\n",
    "\n",
    "#log_predicted_label_trainset = pd.DataFrame({'Logistic_Predicted_label':y_pred_log_train})\n",
    "log_predicted_label = pd.DataFrame({'Logistic_Predicted_label':y_pred_log})"
   ]
  },
  {
   "cell_type": "code",
   "execution_count": 30,
   "metadata": {
    "colab": {
     "base_uri": "https://localhost:8080/",
     "height": 424
    },
    "id": "hE7ff2pueesY",
    "outputId": "1a0cd4cf-e69f-417c-a024-1235fdcdbef3"
   },
   "outputs": [
    {
     "data": {
      "text/html": [
       "<div>\n",
       "<style scoped>\n",
       "    .dataframe tbody tr th:only-of-type {\n",
       "        vertical-align: middle;\n",
       "    }\n",
       "\n",
       "    .dataframe tbody tr th {\n",
       "        vertical-align: top;\n",
       "    }\n",
       "\n",
       "    .dataframe thead th {\n",
       "        text-align: right;\n",
       "    }\n",
       "</style>\n",
       "<table border=\"1\" class=\"dataframe\">\n",
       "  <thead>\n",
       "    <tr style=\"text-align: right;\">\n",
       "      <th></th>\n",
       "      <th>Logistic_Predicted_label</th>\n",
       "    </tr>\n",
       "  </thead>\n",
       "  <tbody>\n",
       "    <tr>\n",
       "      <th>0</th>\n",
       "      <td>1</td>\n",
       "    </tr>\n",
       "    <tr>\n",
       "      <th>1</th>\n",
       "      <td>1</td>\n",
       "    </tr>\n",
       "    <tr>\n",
       "      <th>2</th>\n",
       "      <td>1</td>\n",
       "    </tr>\n",
       "    <tr>\n",
       "      <th>3</th>\n",
       "      <td>1</td>\n",
       "    </tr>\n",
       "    <tr>\n",
       "      <th>4</th>\n",
       "      <td>1</td>\n",
       "    </tr>\n",
       "    <tr>\n",
       "      <th>...</th>\n",
       "      <td>...</td>\n",
       "    </tr>\n",
       "    <tr>\n",
       "      <th>156592</th>\n",
       "      <td>1</td>\n",
       "    </tr>\n",
       "    <tr>\n",
       "      <th>156593</th>\n",
       "      <td>1</td>\n",
       "    </tr>\n",
       "    <tr>\n",
       "      <th>156594</th>\n",
       "      <td>1</td>\n",
       "    </tr>\n",
       "    <tr>\n",
       "      <th>156595</th>\n",
       "      <td>1</td>\n",
       "    </tr>\n",
       "    <tr>\n",
       "      <th>156596</th>\n",
       "      <td>1</td>\n",
       "    </tr>\n",
       "  </tbody>\n",
       "</table>\n",
       "<p>156597 rows × 1 columns</p>\n",
       "</div>"
      ],
      "text/plain": [
       "        Logistic_Predicted_label\n",
       "0                              1\n",
       "1                              1\n",
       "2                              1\n",
       "3                              1\n",
       "4                              1\n",
       "...                          ...\n",
       "156592                         1\n",
       "156593                         1\n",
       "156594                         1\n",
       "156595                         1\n",
       "156596                         1\n",
       "\n",
       "[156597 rows x 1 columns]"
      ]
     },
     "execution_count": 30,
     "metadata": {},
     "output_type": "execute_result"
    }
   ],
   "source": [
    "log_predicted_label"
   ]
  },
  {
   "cell_type": "code",
   "execution_count": 31,
   "metadata": {
    "id": "5mITbQFFeesZ"
   },
   "outputs": [
    {
     "data": {
      "text/html": [
       "<div>\n",
       "<style scoped>\n",
       "    .dataframe tbody tr th:only-of-type {\n",
       "        vertical-align: middle;\n",
       "    }\n",
       "\n",
       "    .dataframe tbody tr th {\n",
       "        vertical-align: top;\n",
       "    }\n",
       "\n",
       "    .dataframe thead th {\n",
       "        text-align: right;\n",
       "    }\n",
       "</style>\n",
       "<table border=\"1\" class=\"dataframe\">\n",
       "  <thead>\n",
       "    <tr style=\"text-align: right;\">\n",
       "      <th></th>\n",
       "      <th>Logistic_Down Day</th>\n",
       "      <th>Logistic_Stay</th>\n",
       "      <th>Logistic_Up day</th>\n",
       "    </tr>\n",
       "  </thead>\n",
       "  <tbody>\n",
       "    <tr>\n",
       "      <th>0</th>\n",
       "      <td>0.138556</td>\n",
       "      <td>0.285398</td>\n",
       "      <td>0.576046</td>\n",
       "    </tr>\n",
       "    <tr>\n",
       "      <th>1</th>\n",
       "      <td>0.127265</td>\n",
       "      <td>0.261870</td>\n",
       "      <td>0.610865</td>\n",
       "    </tr>\n",
       "    <tr>\n",
       "      <th>2</th>\n",
       "      <td>0.121798</td>\n",
       "      <td>0.249517</td>\n",
       "      <td>0.628685</td>\n",
       "    </tr>\n",
       "    <tr>\n",
       "      <th>3</th>\n",
       "      <td>0.140426</td>\n",
       "      <td>0.237461</td>\n",
       "      <td>0.622113</td>\n",
       "    </tr>\n",
       "    <tr>\n",
       "      <th>4</th>\n",
       "      <td>0.123664</td>\n",
       "      <td>0.262993</td>\n",
       "      <td>0.613344</td>\n",
       "    </tr>\n",
       "    <tr>\n",
       "      <th>...</th>\n",
       "      <td>...</td>\n",
       "      <td>...</td>\n",
       "      <td>...</td>\n",
       "    </tr>\n",
       "    <tr>\n",
       "      <th>156592</th>\n",
       "      <td>0.070210</td>\n",
       "      <td>0.253169</td>\n",
       "      <td>0.676621</td>\n",
       "    </tr>\n",
       "    <tr>\n",
       "      <th>156593</th>\n",
       "      <td>0.067210</td>\n",
       "      <td>0.252021</td>\n",
       "      <td>0.680769</td>\n",
       "    </tr>\n",
       "    <tr>\n",
       "      <th>156594</th>\n",
       "      <td>0.068546</td>\n",
       "      <td>0.245230</td>\n",
       "      <td>0.686224</td>\n",
       "    </tr>\n",
       "    <tr>\n",
       "      <th>156595</th>\n",
       "      <td>0.061239</td>\n",
       "      <td>0.232276</td>\n",
       "      <td>0.706485</td>\n",
       "    </tr>\n",
       "    <tr>\n",
       "      <th>156596</th>\n",
       "      <td>0.064121</td>\n",
       "      <td>0.266884</td>\n",
       "      <td>0.668995</td>\n",
       "    </tr>\n",
       "  </tbody>\n",
       "</table>\n",
       "<p>156597 rows × 3 columns</p>\n",
       "</div>"
      ],
      "text/plain": [
       "        Logistic_Down Day  Logistic_Stay  Logistic_Up day\n",
       "0                0.138556       0.285398         0.576046\n",
       "1                0.127265       0.261870         0.610865\n",
       "2                0.121798       0.249517         0.628685\n",
       "3                0.140426       0.237461         0.622113\n",
       "4                0.123664       0.262993         0.613344\n",
       "...                   ...            ...              ...\n",
       "156592           0.070210       0.253169         0.676621\n",
       "156593           0.067210       0.252021         0.680769\n",
       "156594           0.068546       0.245230         0.686224\n",
       "156595           0.061239       0.232276         0.706485\n",
       "156596           0.064121       0.266884         0.668995\n",
       "\n",
       "[156597 rows x 3 columns]"
      ]
     },
     "execution_count": 31,
     "metadata": {},
     "output_type": "execute_result"
    }
   ],
   "source": [
    "column_names = ['Logistic_Down Day','Logistic_Stay','Logistic_Up day']\n",
    "\n",
    "\n",
    "log_pred_prob = pd.DataFrame(y_prob_log, columns=column_names)\n",
    "log_pred_prob"
   ]
  },
  {
   "cell_type": "code",
   "execution_count": 32,
   "metadata": {
    "colab": {
     "base_uri": "https://localhost:8080/",
     "height": 424
    },
    "id": "akuC7Wobeesa",
    "outputId": "52ceaad3-440c-4fd5-f0de-5ca5e9bbaf71"
   },
   "outputs": [
    {
     "data": {
      "text/html": [
       "<div>\n",
       "<style scoped>\n",
       "    .dataframe tbody tr th:only-of-type {\n",
       "        vertical-align: middle;\n",
       "    }\n",
       "\n",
       "    .dataframe tbody tr th {\n",
       "        vertical-align: top;\n",
       "    }\n",
       "\n",
       "    .dataframe thead th {\n",
       "        text-align: right;\n",
       "    }\n",
       "</style>\n",
       "<table border=\"1\" class=\"dataframe\">\n",
       "  <thead>\n",
       "    <tr style=\"text-align: right;\">\n",
       "      <th></th>\n",
       "      <th>Logistic_Predicted_label</th>\n",
       "      <th>Logistic_Down Day</th>\n",
       "      <th>Logistic_Stay</th>\n",
       "      <th>Logistic_Up day</th>\n",
       "    </tr>\n",
       "  </thead>\n",
       "  <tbody>\n",
       "    <tr>\n",
       "      <th>0</th>\n",
       "      <td>1</td>\n",
       "      <td>0.138556</td>\n",
       "      <td>0.285398</td>\n",
       "      <td>0.576046</td>\n",
       "    </tr>\n",
       "    <tr>\n",
       "      <th>1</th>\n",
       "      <td>1</td>\n",
       "      <td>0.127265</td>\n",
       "      <td>0.261870</td>\n",
       "      <td>0.610865</td>\n",
       "    </tr>\n",
       "    <tr>\n",
       "      <th>2</th>\n",
       "      <td>1</td>\n",
       "      <td>0.121798</td>\n",
       "      <td>0.249517</td>\n",
       "      <td>0.628685</td>\n",
       "    </tr>\n",
       "    <tr>\n",
       "      <th>3</th>\n",
       "      <td>1</td>\n",
       "      <td>0.140426</td>\n",
       "      <td>0.237461</td>\n",
       "      <td>0.622113</td>\n",
       "    </tr>\n",
       "    <tr>\n",
       "      <th>4</th>\n",
       "      <td>1</td>\n",
       "      <td>0.123664</td>\n",
       "      <td>0.262993</td>\n",
       "      <td>0.613344</td>\n",
       "    </tr>\n",
       "    <tr>\n",
       "      <th>...</th>\n",
       "      <td>...</td>\n",
       "      <td>...</td>\n",
       "      <td>...</td>\n",
       "      <td>...</td>\n",
       "    </tr>\n",
       "    <tr>\n",
       "      <th>156592</th>\n",
       "      <td>1</td>\n",
       "      <td>0.070210</td>\n",
       "      <td>0.253169</td>\n",
       "      <td>0.676621</td>\n",
       "    </tr>\n",
       "    <tr>\n",
       "      <th>156593</th>\n",
       "      <td>1</td>\n",
       "      <td>0.067210</td>\n",
       "      <td>0.252021</td>\n",
       "      <td>0.680769</td>\n",
       "    </tr>\n",
       "    <tr>\n",
       "      <th>156594</th>\n",
       "      <td>1</td>\n",
       "      <td>0.068546</td>\n",
       "      <td>0.245230</td>\n",
       "      <td>0.686224</td>\n",
       "    </tr>\n",
       "    <tr>\n",
       "      <th>156595</th>\n",
       "      <td>1</td>\n",
       "      <td>0.061239</td>\n",
       "      <td>0.232276</td>\n",
       "      <td>0.706485</td>\n",
       "    </tr>\n",
       "    <tr>\n",
       "      <th>156596</th>\n",
       "      <td>1</td>\n",
       "      <td>0.064121</td>\n",
       "      <td>0.266884</td>\n",
       "      <td>0.668995</td>\n",
       "    </tr>\n",
       "  </tbody>\n",
       "</table>\n",
       "<p>156597 rows × 4 columns</p>\n",
       "</div>"
      ],
      "text/plain": [
       "        Logistic_Predicted_label  Logistic_Down Day  Logistic_Stay  \\\n",
       "0                              1           0.138556       0.285398   \n",
       "1                              1           0.127265       0.261870   \n",
       "2                              1           0.121798       0.249517   \n",
       "3                              1           0.140426       0.237461   \n",
       "4                              1           0.123664       0.262993   \n",
       "...                          ...                ...            ...   \n",
       "156592                         1           0.070210       0.253169   \n",
       "156593                         1           0.067210       0.252021   \n",
       "156594                         1           0.068546       0.245230   \n",
       "156595                         1           0.061239       0.232276   \n",
       "156596                         1           0.064121       0.266884   \n",
       "\n",
       "        Logistic_Up day  \n",
       "0              0.576046  \n",
       "1              0.610865  \n",
       "2              0.628685  \n",
       "3              0.622113  \n",
       "4              0.613344  \n",
       "...                 ...  \n",
       "156592         0.676621  \n",
       "156593         0.680769  \n",
       "156594         0.686224  \n",
       "156595         0.706485  \n",
       "156596         0.668995  \n",
       "\n",
       "[156597 rows x 4 columns]"
      ]
     },
     "execution_count": 32,
     "metadata": {},
     "output_type": "execute_result"
    }
   ],
   "source": [
    "# Predictied labels과 Prediction probabilities를 합치기\n",
    "\n",
    "log_pred_prob_total = pd.merge(log_predicted_label, log_pred_prob, left_index=True, right_index=True)\n",
    "\n",
    "log_pred_prob_total"
   ]
  },
  {
   "cell_type": "code",
   "execution_count": 34,
   "metadata": {
    "id": "bm26VjwCeesa"
   },
   "outputs": [],
   "source": [
    "# csv 파일 출력\n",
    "\n",
    "log_pred_prob_total.to_csv(os.getenv('HOME') + '/aiffel/log_pred_prob_220608.csv')"
   ]
  },
  {
   "cell_type": "markdown",
   "metadata": {
    "id": "0XDunuyVxI1L"
   },
   "source": [
    "## 3-3-4. SVM"
   ]
  },
  {
   "cell_type": "code",
   "execution_count": 16,
   "metadata": {},
   "outputs": [
    {
     "data": {
      "text/plain": [
       "'\\n## Data 100% 사용 \\n\\n# 훈련용 data - 전체 앞시간 70%\\nX_train = X.loc[:366000, :]\\ny_train = y.loc[:366000]\\n\\n# 시험용 data - 전체 뒷시간 약 30%\\n#             - Time lagging을 막기위해 331분 이후 사용 (366500-366169)\\n\\nX_test = X.loc[366501:, :]\\ny_test = y.loc[366501:]\\n'"
      ]
     },
     "execution_count": 16,
     "metadata": {},
     "output_type": "execute_result"
    }
   ],
   "source": [
    "# 훈련용 data - 전체 앞시간 10만분\n",
    "\n",
    "X_train = X.loc[:100000, :]\n",
    "y_train = y.loc[:100000]\n",
    "\n",
    "\n",
    "'''\n",
    "## Data 100% 사용 \n",
    "\n",
    "# 훈련용 data - 전체 앞시간 70%\n",
    "X_train = X.loc[:366000, :]\n",
    "y_train = y.loc[:366000]\n",
    "\n",
    "# 시험용 data - 전체 뒷시간 약 30%\n",
    "#             - Time lagging을 막기위해 331분 이후 사용 (366500-366169)\n",
    "\n",
    "X_test = X.loc[366501:, :]\n",
    "y_test = y.loc[366501:]\n",
    "'''"
   ]
  },
  {
   "cell_type": "code",
   "execution_count": 17,
   "metadata": {},
   "outputs": [],
   "source": [
    "'''\n",
    "      Feature Selection(LGBM)을 통해서 선정한 14개의 Features\n",
    "      1분,2분,3분전의 종가와 거래량 6개의 Features \n",
    "      총 20개의 Features 선정\n",
    "      \n",
    "      \"X_train, X_test\" 저장\n",
    "\n",
    "'''\n",
    "\n",
    "#0. ALL Features\n",
    "\n",
    "X_train = X_train[['EMA10', 'EMA30', 'EMA180', 'ROC10', 'ROC30', 'MOM10', 'MOM30', \n",
    "                   '%K10', '%D10', '%K30', '%D30', '%K180', '%D180', \n",
    "                   'RSI10', 'RSI30', 'RSI180', 'MA10', 'MA30', 'MA180',\n",
    "                   'EMAFast', 'EMASlow', 'MACD', 'MACDSignal', 'MACDDiff',\n",
    "                   'MBB(MA20)', 'HBB', 'LBB', 'PDI', 'MDI', 'ADX', 'OLCR', 'HCR', 'LCR',\n",
    "                   'CLCR', 'VLVR', 'VMA5R', 'VMA10R', 'VMA20R', 'VMA60R', 'VMA120R',\n",
    "                   'BTC_close', 'DXY', 'BTCD', 'Kimchi_premium', 'S&P500', 'Ethereum DeFi',\n",
    "                   'News_freq', 'NaverTrend', 'Kyle_lambda', 'Amihud_lambda',\n",
    "                   'Hasbrouck_labda', \n",
    "                   'Close_bf_1mim', 'Close_bf_2mim', 'Close_bf_3mim',\n",
    "                   'Volume_bf_1mim', 'Volume_bf_2mim', 'Volume_bf_3mim']]\n",
    "    \n",
    "X_test = X_test[['EMA10', 'EMA30', 'EMA180', 'ROC10', 'ROC30', 'MOM10', 'MOM30', \n",
    "                   '%K10', '%D10', '%K30', '%D30', '%K180', '%D180', \n",
    "                   'RSI10', 'RSI30', 'RSI180', 'MA10', 'MA30', 'MA180',\n",
    "                   'EMAFast', 'EMASlow', 'MACD', 'MACDSignal', 'MACDDiff',\n",
    "                   'MBB(MA20)', 'HBB', 'LBB', 'PDI', 'MDI', 'ADX', 'OLCR', 'HCR', 'LCR',\n",
    "                   'CLCR', 'VLVR', 'VMA5R', 'VMA10R', 'VMA20R', 'VMA60R', 'VMA120R',\n",
    "                   'BTC_close', 'DXY', 'BTCD', 'Kimchi_premium', 'S&P500', 'Ethereum DeFi',\n",
    "                   'News_freq', 'NaverTrend', 'Kyle_lambda', 'Amihud_lambda',\n",
    "                   'Hasbrouck_labda', \n",
    "                   'Close_bf_1mim', 'Close_bf_2mim', 'Close_bf_3mim',\n",
    "                   'Volume_bf_1mim', 'Volume_bf_2mim', 'Volume_bf_3mim']]"
   ]
  },
  {
   "cell_type": "code",
   "execution_count": 18,
   "metadata": {},
   "outputs": [
    {
     "data": {
      "text/html": [
       "<div>\n",
       "<style scoped>\n",
       "    .dataframe tbody tr th:only-of-type {\n",
       "        vertical-align: middle;\n",
       "    }\n",
       "\n",
       "    .dataframe tbody tr th {\n",
       "        vertical-align: top;\n",
       "    }\n",
       "\n",
       "    .dataframe thead th {\n",
       "        text-align: right;\n",
       "    }\n",
       "</style>\n",
       "<table border=\"1\" class=\"dataframe\">\n",
       "  <thead>\n",
       "    <tr style=\"text-align: right;\">\n",
       "      <th></th>\n",
       "      <th>EMA10</th>\n",
       "      <th>EMA30</th>\n",
       "      <th>EMA180</th>\n",
       "      <th>ROC10</th>\n",
       "      <th>ROC30</th>\n",
       "      <th>MOM10</th>\n",
       "      <th>MOM30</th>\n",
       "      <th>%K10</th>\n",
       "      <th>%D10</th>\n",
       "      <th>%K30</th>\n",
       "      <th>...</th>\n",
       "      <th>NaverTrend</th>\n",
       "      <th>Kyle_lambda</th>\n",
       "      <th>Amihud_lambda</th>\n",
       "      <th>Hasbrouck_labda</th>\n",
       "      <th>Close_bf_1mim</th>\n",
       "      <th>Close_bf_2mim</th>\n",
       "      <th>Close_bf_3mim</th>\n",
       "      <th>Volume_bf_1mim</th>\n",
       "      <th>Volume_bf_2mim</th>\n",
       "      <th>Volume_bf_3mim</th>\n",
       "    </tr>\n",
       "  </thead>\n",
       "  <tbody>\n",
       "    <tr>\n",
       "      <th>0</th>\n",
       "      <td>2017100.864</td>\n",
       "      <td>2014596.329</td>\n",
       "      <td>2022490.830</td>\n",
       "      <td>0.298063</td>\n",
       "      <td>0.447761</td>\n",
       "      <td>7000</td>\n",
       "      <td>6000</td>\n",
       "      <td>77.777778</td>\n",
       "      <td>75.925926</td>\n",
       "      <td>86.666667</td>\n",
       "      <td>...</td>\n",
       "      <td>25.36670</td>\n",
       "      <td>30.777662</td>\n",
       "      <td>0.000015</td>\n",
       "      <td>0.000064</td>\n",
       "      <td>2019000.0</td>\n",
       "      <td>2019000.0</td>\n",
       "      <td>2018000.0</td>\n",
       "      <td>17.313993</td>\n",
       "      <td>20.106467</td>\n",
       "      <td>101.666675</td>\n",
       "    </tr>\n",
       "    <tr>\n",
       "      <th>1</th>\n",
       "      <td>2017446.162</td>\n",
       "      <td>2014880.437</td>\n",
       "      <td>2022452.257</td>\n",
       "      <td>0.198511</td>\n",
       "      <td>0.447761</td>\n",
       "      <td>6000</td>\n",
       "      <td>9000</td>\n",
       "      <td>75.000000</td>\n",
       "      <td>77.592593</td>\n",
       "      <td>86.666667</td>\n",
       "      <td>...</td>\n",
       "      <td>25.36670</td>\n",
       "      <td>28.991902</td>\n",
       "      <td>0.000014</td>\n",
       "      <td>0.000059</td>\n",
       "      <td>2019000.0</td>\n",
       "      <td>2019000.0</td>\n",
       "      <td>2019000.0</td>\n",
       "      <td>36.582210</td>\n",
       "      <td>17.313993</td>\n",
       "      <td>20.106467</td>\n",
       "    </tr>\n",
       "    <tr>\n",
       "      <th>2</th>\n",
       "      <td>2017183.223</td>\n",
       "      <td>2014952.667</td>\n",
       "      <td>2022380.962</td>\n",
       "      <td>0.000000</td>\n",
       "      <td>0.248633</td>\n",
       "      <td>1000</td>\n",
       "      <td>6000</td>\n",
       "      <td>37.500000</td>\n",
       "      <td>63.425926</td>\n",
       "      <td>66.666667</td>\n",
       "      <td>...</td>\n",
       "      <td>25.36670</td>\n",
       "      <td>25.666219</td>\n",
       "      <td>0.000013</td>\n",
       "      <td>0.000060</td>\n",
       "      <td>2016000.0</td>\n",
       "      <td>2019000.0</td>\n",
       "      <td>2019000.0</td>\n",
       "      <td>63.727452</td>\n",
       "      <td>36.582210</td>\n",
       "      <td>17.313993</td>\n",
       "    </tr>\n",
       "    <tr>\n",
       "      <th>3</th>\n",
       "      <td>2017513.546</td>\n",
       "      <td>2015213.785</td>\n",
       "      <td>2022343.603</td>\n",
       "      <td>0.148810</td>\n",
       "      <td>0.397812</td>\n",
       "      <td>3000</td>\n",
       "      <td>8000</td>\n",
       "      <td>75.000000</td>\n",
       "      <td>62.500000</td>\n",
       "      <td>86.666667</td>\n",
       "      <td>...</td>\n",
       "      <td>25.36670</td>\n",
       "      <td>34.479842</td>\n",
       "      <td>0.000017</td>\n",
       "      <td>0.000078</td>\n",
       "      <td>2019000.0</td>\n",
       "      <td>2016000.0</td>\n",
       "      <td>2019000.0</td>\n",
       "      <td>17.019108</td>\n",
       "      <td>63.727452</td>\n",
       "      <td>36.582210</td>\n",
       "    </tr>\n",
       "    <tr>\n",
       "      <th>4</th>\n",
       "      <td>2017783.811</td>\n",
       "      <td>2015458.057</td>\n",
       "      <td>2022306.657</td>\n",
       "      <td>0.099157</td>\n",
       "      <td>0.447761</td>\n",
       "      <td>3000</td>\n",
       "      <td>8000</td>\n",
       "      <td>75.000000</td>\n",
       "      <td>62.500000</td>\n",
       "      <td>86.666667</td>\n",
       "      <td>...</td>\n",
       "      <td>25.36670</td>\n",
       "      <td>34.479842</td>\n",
       "      <td>0.000017</td>\n",
       "      <td>0.000078</td>\n",
       "      <td>2019000.0</td>\n",
       "      <td>2019000.0</td>\n",
       "      <td>2016000.0</td>\n",
       "      <td>35.570307</td>\n",
       "      <td>17.019108</td>\n",
       "      <td>63.727452</td>\n",
       "    </tr>\n",
       "    <tr>\n",
       "      <th>...</th>\n",
       "      <td>...</td>\n",
       "      <td>...</td>\n",
       "      <td>...</td>\n",
       "      <td>...</td>\n",
       "      <td>...</td>\n",
       "      <td>...</td>\n",
       "      <td>...</td>\n",
       "      <td>...</td>\n",
       "      <td>...</td>\n",
       "      <td>...</td>\n",
       "      <td>...</td>\n",
       "      <td>...</td>\n",
       "      <td>...</td>\n",
       "      <td>...</td>\n",
       "      <td>...</td>\n",
       "      <td>...</td>\n",
       "      <td>...</td>\n",
       "      <td>...</td>\n",
       "      <td>...</td>\n",
       "      <td>...</td>\n",
       "      <td>...</td>\n",
       "    </tr>\n",
       "    <tr>\n",
       "      <th>99996</th>\n",
       "      <td>3058245.640</td>\n",
       "      <td>3055521.616</td>\n",
       "      <td>3069439.469</td>\n",
       "      <td>0.262381</td>\n",
       "      <td>0.262381</td>\n",
       "      <td>7000</td>\n",
       "      <td>4000</td>\n",
       "      <td>52.631579</td>\n",
       "      <td>71.929825</td>\n",
       "      <td>35.897436</td>\n",
       "      <td>...</td>\n",
       "      <td>17.36192</td>\n",
       "      <td>60.696300</td>\n",
       "      <td>0.000020</td>\n",
       "      <td>0.000120</td>\n",
       "      <td>3057000.0</td>\n",
       "      <td>3063000.0</td>\n",
       "      <td>3062000.0</td>\n",
       "      <td>32.802524</td>\n",
       "      <td>32.118430</td>\n",
       "      <td>61.136169</td>\n",
       "    </tr>\n",
       "    <tr>\n",
       "      <th>99997</th>\n",
       "      <td>3058382.796</td>\n",
       "      <td>3055746.028</td>\n",
       "      <td>3069324.116</td>\n",
       "      <td>0.032701</td>\n",
       "      <td>0.196528</td>\n",
       "      <td>10000</td>\n",
       "      <td>10000</td>\n",
       "      <td>63.157895</td>\n",
       "      <td>66.666667</td>\n",
       "      <td>41.025641</td>\n",
       "      <td>...</td>\n",
       "      <td>17.36192</td>\n",
       "      <td>67.677436</td>\n",
       "      <td>0.000022</td>\n",
       "      <td>0.000126</td>\n",
       "      <td>3059000.0</td>\n",
       "      <td>3057000.0</td>\n",
       "      <td>3063000.0</td>\n",
       "      <td>13.036792</td>\n",
       "      <td>32.802524</td>\n",
       "      <td>32.118430</td>\n",
       "    </tr>\n",
       "    <tr>\n",
       "      <th>99998</th>\n",
       "      <td>3057585.924</td>\n",
       "      <td>3055633.381</td>\n",
       "      <td>3069154.789</td>\n",
       "      <td>-0.065445</td>\n",
       "      <td>-0.163452</td>\n",
       "      <td>-4000</td>\n",
       "      <td>1000</td>\n",
       "      <td>20.000000</td>\n",
       "      <td>45.263158</td>\n",
       "      <td>28.205128</td>\n",
       "      <td>...</td>\n",
       "      <td>17.36192</td>\n",
       "      <td>83.872986</td>\n",
       "      <td>0.000027</td>\n",
       "      <td>0.000146</td>\n",
       "      <td>3054000.0</td>\n",
       "      <td>3059000.0</td>\n",
       "      <td>3057000.0</td>\n",
       "      <td>14.986319</td>\n",
       "      <td>13.036792</td>\n",
       "      <td>32.802524</td>\n",
       "    </tr>\n",
       "    <tr>\n",
       "      <th>99999</th>\n",
       "      <td>3056206.665</td>\n",
       "      <td>3055269.937</td>\n",
       "      <td>3068943.134</td>\n",
       "      <td>-0.196335</td>\n",
       "      <td>-0.261609</td>\n",
       "      <td>-6000</td>\n",
       "      <td>-9000</td>\n",
       "      <td>0.000000</td>\n",
       "      <td>27.719298</td>\n",
       "      <td>17.948718</td>\n",
       "      <td>...</td>\n",
       "      <td>17.36192</td>\n",
       "      <td>83.092083</td>\n",
       "      <td>0.000027</td>\n",
       "      <td>0.000146</td>\n",
       "      <td>3050000.0</td>\n",
       "      <td>3054000.0</td>\n",
       "      <td>3059000.0</td>\n",
       "      <td>79.866621</td>\n",
       "      <td>14.986319</td>\n",
       "      <td>13.036792</td>\n",
       "    </tr>\n",
       "    <tr>\n",
       "      <th>100000</th>\n",
       "      <td>3055441.817</td>\n",
       "      <td>3055058.973</td>\n",
       "      <td>3068755.917</td>\n",
       "      <td>-0.228833</td>\n",
       "      <td>-0.163559</td>\n",
       "      <td>-4000</td>\n",
       "      <td>-6000</td>\n",
       "      <td>12.500000</td>\n",
       "      <td>10.833333</td>\n",
       "      <td>23.076923</td>\n",
       "      <td>...</td>\n",
       "      <td>17.36192</td>\n",
       "      <td>95.545679</td>\n",
       "      <td>0.000031</td>\n",
       "      <td>0.000157</td>\n",
       "      <td>3052000.0</td>\n",
       "      <td>3050000.0</td>\n",
       "      <td>3054000.0</td>\n",
       "      <td>8.029809</td>\n",
       "      <td>79.866621</td>\n",
       "      <td>14.986319</td>\n",
       "    </tr>\n",
       "  </tbody>\n",
       "</table>\n",
       "<p>100001 rows × 57 columns</p>\n",
       "</div>"
      ],
      "text/plain": [
       "              EMA10        EMA30       EMA180     ROC10     ROC30  MOM10  \\\n",
       "0       2017100.864  2014596.329  2022490.830  0.298063  0.447761   7000   \n",
       "1       2017446.162  2014880.437  2022452.257  0.198511  0.447761   6000   \n",
       "2       2017183.223  2014952.667  2022380.962  0.000000  0.248633   1000   \n",
       "3       2017513.546  2015213.785  2022343.603  0.148810  0.397812   3000   \n",
       "4       2017783.811  2015458.057  2022306.657  0.099157  0.447761   3000   \n",
       "...             ...          ...          ...       ...       ...    ...   \n",
       "99996   3058245.640  3055521.616  3069439.469  0.262381  0.262381   7000   \n",
       "99997   3058382.796  3055746.028  3069324.116  0.032701  0.196528  10000   \n",
       "99998   3057585.924  3055633.381  3069154.789 -0.065445 -0.163452  -4000   \n",
       "99999   3056206.665  3055269.937  3068943.134 -0.196335 -0.261609  -6000   \n",
       "100000  3055441.817  3055058.973  3068755.917 -0.228833 -0.163559  -4000   \n",
       "\n",
       "        MOM30       %K10       %D10       %K30  ...  NaverTrend  Kyle_lambda  \\\n",
       "0        6000  77.777778  75.925926  86.666667  ...    25.36670    30.777662   \n",
       "1        9000  75.000000  77.592593  86.666667  ...    25.36670    28.991902   \n",
       "2        6000  37.500000  63.425926  66.666667  ...    25.36670    25.666219   \n",
       "3        8000  75.000000  62.500000  86.666667  ...    25.36670    34.479842   \n",
       "4        8000  75.000000  62.500000  86.666667  ...    25.36670    34.479842   \n",
       "...       ...        ...        ...        ...  ...         ...          ...   \n",
       "99996    4000  52.631579  71.929825  35.897436  ...    17.36192    60.696300   \n",
       "99997   10000  63.157895  66.666667  41.025641  ...    17.36192    67.677436   \n",
       "99998    1000  20.000000  45.263158  28.205128  ...    17.36192    83.872986   \n",
       "99999   -9000   0.000000  27.719298  17.948718  ...    17.36192    83.092083   \n",
       "100000  -6000  12.500000  10.833333  23.076923  ...    17.36192    95.545679   \n",
       "\n",
       "        Amihud_lambda  Hasbrouck_labda  Close_bf_1mim  Close_bf_2mim  \\\n",
       "0            0.000015         0.000064      2019000.0      2019000.0   \n",
       "1            0.000014         0.000059      2019000.0      2019000.0   \n",
       "2            0.000013         0.000060      2016000.0      2019000.0   \n",
       "3            0.000017         0.000078      2019000.0      2016000.0   \n",
       "4            0.000017         0.000078      2019000.0      2019000.0   \n",
       "...               ...              ...            ...            ...   \n",
       "99996        0.000020         0.000120      3057000.0      3063000.0   \n",
       "99997        0.000022         0.000126      3059000.0      3057000.0   \n",
       "99998        0.000027         0.000146      3054000.0      3059000.0   \n",
       "99999        0.000027         0.000146      3050000.0      3054000.0   \n",
       "100000       0.000031         0.000157      3052000.0      3050000.0   \n",
       "\n",
       "        Close_bf_3mim  Volume_bf_1mim  Volume_bf_2mim  Volume_bf_3mim  \n",
       "0           2018000.0       17.313993       20.106467      101.666675  \n",
       "1           2019000.0       36.582210       17.313993       20.106467  \n",
       "2           2019000.0       63.727452       36.582210       17.313993  \n",
       "3           2019000.0       17.019108       63.727452       36.582210  \n",
       "4           2016000.0       35.570307       17.019108       63.727452  \n",
       "...               ...             ...             ...             ...  \n",
       "99996       3062000.0       32.802524       32.118430       61.136169  \n",
       "99997       3063000.0       13.036792       32.802524       32.118430  \n",
       "99998       3057000.0       14.986319       13.036792       32.802524  \n",
       "99999       3059000.0       79.866621       14.986319       13.036792  \n",
       "100000      3054000.0        8.029809       79.866621       14.986319  \n",
       "\n",
       "[100001 rows x 57 columns]"
      ]
     },
     "execution_count": 18,
     "metadata": {},
     "output_type": "execute_result"
    }
   ],
   "source": [
    "X_train"
   ]
  },
  {
   "cell_type": "code",
   "execution_count": 19,
   "metadata": {},
   "outputs": [
    {
     "data": {
      "text/plain": [
       "0         0\n",
       "1         0\n",
       "2         0\n",
       "3         0\n",
       "4         0\n",
       "         ..\n",
       "99996    -1\n",
       "99997    -1\n",
       "99998    -1\n",
       "99999    -1\n",
       "100000   -1\n",
       "Name: signal, Length: 100001, dtype: int64"
      ]
     },
     "execution_count": 19,
     "metadata": {},
     "output_type": "execute_result"
    }
   ],
   "source": [
    "y_train"
   ]
  },
  {
   "cell_type": "markdown",
   "metadata": {
    "id": "ZRm_8hd2xccA"
   },
   "source": [
    "### 3-3-4-1. Random Search"
   ]
  },
  {
   "cell_type": "code",
   "execution_count": null,
   "metadata": {
    "id": "9KjNwuKbxZet"
   },
   "outputs": [],
   "source": [
    "# DEFINE MODEL AND PERFORMANCE MEASURE\n",
    "#mdl = svc(probability = True, random_state = 1)\n",
    "#auc = make_scorer(roc_auc_score)"
   ]
  },
  {
   "cell_type": "code",
   "execution_count": 20,
   "metadata": {
    "id": "OFIvSObbzaLM"
   },
   "outputs": [],
   "source": [
    "pipe_svc = make_pipeline(StandardScaler(), SVC())"
   ]
  },
  {
   "cell_type": "code",
   "execution_count": 21,
   "metadata": {},
   "outputs": [],
   "source": [
    "param_range = [0.01, 0.1, 1.0, 10.0]"
   ]
  },
  {
   "cell_type": "code",
   "execution_count": 22,
   "metadata": {
    "colab": {
     "base_uri": "https://localhost:8080/",
     "height": 104
    },
    "id": "VzU4jb5Yx8ay",
    "outputId": "413da01d-b16d-4eca-c7bd-23deb774d4b4"
   },
   "outputs": [],
   "source": [
    "params = [{'svc__C': param_range,\n",
    "           'svc__gamma': param_range}] "
   ]
  },
  {
   "cell_type": "code",
   "execution_count": 23,
   "metadata": {
    "id": "ItPGmvzNxZeu"
   },
   "outputs": [],
   "source": [
    "svm_rand_search = RandomizedSearchCV(estimator = pipe_svc,\n",
    "                                     param_distributions = params,\n",
    "                                     cv=btss,\n",
    "                                     scoring='f1_macro')"
   ]
  },
  {
   "cell_type": "code",
   "execution_count": 24,
   "metadata": {
    "id": "lVV3iFkOzSxC"
   },
   "outputs": [],
   "source": [
    "# Feature Scaling\n",
    "\n",
    "#sc = StandardScaler()\n",
    "#X_train = sc.fit_transform(X_train)\n",
    "\n",
    "#X_test = sc.transform(X_test)"
   ]
  },
  {
   "cell_type": "code",
   "execution_count": 25,
   "metadata": {
    "colab": {
     "base_uri": "https://localhost:8080/"
    },
    "id": "Nal0UfBkxZev",
    "outputId": "84cdb336-1db1-496d-bfbb-eee3c0aeac55"
   },
   "outputs": [],
   "source": [
    "#svm_rand_search.fit(X_train, y_train)"
   ]
  },
  {
   "cell_type": "code",
   "execution_count": 26,
   "metadata": {
    "colab": {
     "base_uri": "https://localhost:8080/"
    },
    "id": "7xPTiW0FxZew",
    "outputId": "056cd6c6-98bb-4536-af48-3a067c3e9549"
   },
   "outputs": [],
   "source": [
    "#svm_rand_search.best_params_"
   ]
  },
  {
   "attachments": {
    "image.png": {
     "image/png": "[encoded data removed]"
    }
   },
   "cell_type": "markdown",
   "metadata": {},
   "source": [
    "![image.png](attachment:image.png)"
   ]
  },
  {
   "cell_type": "code",
   "execution_count": 27,
   "metadata": {
    "colab": {
     "base_uri": "https://localhost:8080/"
    },
    "id": "wDxq18eyxZew",
    "outputId": "feefd0ad-8d61-456b-ce23-0829faa15794"
   },
   "outputs": [],
   "source": [
    "#print (f'Train Accuracy SVM : {svm_rand_search.score(X_train,y_train):.3f}')\n",
    "#print (f'Test Accuracy SVM : {svm_rand_search.score(X_test,y_test):.3f}')"
   ]
  },
  {
   "cell_type": "markdown",
   "metadata": {
    "id": "OiIqBhP6xZex"
   },
   "source": [
    "### 3-3-3-2. 최적의 하이퍼패러미타를 적용한 모델링 학습"
   ]
  },
  {
   "cell_type": "code",
   "execution_count": 28,
   "metadata": {
    "id": "G9bOEelrxZex"
   },
   "outputs": [],
   "source": [
    "pipe_svc = make_pipeline(StandardScaler(), SVC(C=1.0, gamma=0.01, probability=True))"
   ]
  },
  {
   "cell_type": "code",
   "execution_count": 29,
   "metadata": {},
   "outputs": [],
   "source": [
    "pipe_svc_clf = pipe_svc"
   ]
  },
  {
   "cell_type": "code",
   "execution_count": 30,
   "metadata": {
    "id": "-lflhtNCzRPr"
   },
   "outputs": [
    {
     "data": {
      "text/plain": [
       "'\\n# Feature Scaling\\n\\nsc = StandardScaler()\\nX_train = sc.fit_transform(X_train)\\n\\n#X_test = sc.transform(X_test)\\n\\n'"
      ]
     },
     "execution_count": 30,
     "metadata": {},
     "output_type": "execute_result"
    }
   ],
   "source": [
    "'''\n",
    "# Feature Scaling\n",
    "\n",
    "sc = StandardScaler()\n",
    "X_train = sc.fit_transform(X_train)\n",
    "\n",
    "#X_test = sc.transform(X_test)\n",
    "\n",
    "'''"
   ]
  },
  {
   "cell_type": "code",
   "execution_count": 31,
   "metadata": {
    "id": "JZLycI5MxZex"
   },
   "outputs": [
    {
     "data": {
      "text/plain": [
       "Pipeline(steps=[('standardscaler', StandardScaler()),\n",
       "                ('svc', SVC(gamma=0.01, probability=True))])"
      ]
     },
     "execution_count": 31,
     "metadata": {},
     "output_type": "execute_result"
    }
   ],
   "source": [
    "## Model fitting\n",
    "\n",
    "pipe_svc_clf.fit(X_train,y_train)"
   ]
  },
  {
   "cell_type": "code",
   "execution_count": 32,
   "metadata": {
    "id": "YkUuGfeLxZey"
   },
   "outputs": [],
   "source": [
    "## Prediction\n",
    "\n",
    "y_pred_svc = pipe_svc_clf.predict(X_test)"
   ]
  },
  {
   "cell_type": "markdown",
   "metadata": {
    "id": "Xc5Nt0XRxZez"
   },
   "source": [
    "### 3-3-3-3. 평가(Evaluation)"
   ]
  },
  {
   "cell_type": "code",
   "execution_count": 34,
   "metadata": {
    "colab": {
     "base_uri": "https://localhost:8080/",
     "height": 237
    },
    "id": "ZwukK0O7xZez",
    "outputId": "4f77267b-5eec-40e5-9fcd-a0e1d37d29b0"
   },
   "outputs": [
    {
     "data": {
      "text/html": [
       "<div>\n",
       "<style scoped>\n",
       "    .dataframe tbody tr th:only-of-type {\n",
       "        vertical-align: middle;\n",
       "    }\n",
       "\n",
       "    .dataframe tbody tr th {\n",
       "        vertical-align: top;\n",
       "    }\n",
       "\n",
       "    .dataframe thead th {\n",
       "        text-align: right;\n",
       "    }\n",
       "</style>\n",
       "<table border=\"1\" class=\"dataframe\">\n",
       "  <thead>\n",
       "    <tr style=\"text-align: right;\">\n",
       "      <th></th>\n",
       "      <th>precision</th>\n",
       "      <th>recall</th>\n",
       "      <th>f1-score</th>\n",
       "      <th>support</th>\n",
       "    </tr>\n",
       "  </thead>\n",
       "  <tbody>\n",
       "    <tr>\n",
       "      <th>Down Day</th>\n",
       "      <td>0.373832</td>\n",
       "      <td>0.327706</td>\n",
       "      <td>0.349253</td>\n",
       "      <td>54439.000000</td>\n",
       "    </tr>\n",
       "    <tr>\n",
       "      <th>Stay</th>\n",
       "      <td>0.346804</td>\n",
       "      <td>0.113160</td>\n",
       "      <td>0.170641</td>\n",
       "      <td>50053.000000</td>\n",
       "    </tr>\n",
       "    <tr>\n",
       "      <th>Up Day</th>\n",
       "      <td>0.347936</td>\n",
       "      <td>0.617964</td>\n",
       "      <td>0.445205</td>\n",
       "      <td>52105.000000</td>\n",
       "    </tr>\n",
       "    <tr>\n",
       "      <th>accuracy</th>\n",
       "      <td>0.355709</td>\n",
       "      <td>0.355709</td>\n",
       "      <td>0.355709</td>\n",
       "      <td>0.355709</td>\n",
       "    </tr>\n",
       "    <tr>\n",
       "      <th>macro avg</th>\n",
       "      <td>0.356190</td>\n",
       "      <td>0.352943</td>\n",
       "      <td>0.321700</td>\n",
       "      <td>156597.000000</td>\n",
       "    </tr>\n",
       "    <tr>\n",
       "      <th>weighted avg</th>\n",
       "      <td>0.356576</td>\n",
       "      <td>0.355709</td>\n",
       "      <td>0.324090</td>\n",
       "      <td>156597.000000</td>\n",
       "    </tr>\n",
       "  </tbody>\n",
       "</table>\n",
       "</div>"
      ],
      "text/plain": [
       "              precision    recall  f1-score        support\n",
       "Down Day       0.373832  0.327706  0.349253   54439.000000\n",
       "Stay           0.346804  0.113160  0.170641   50053.000000\n",
       "Up Day         0.347936  0.617964  0.445205   52105.000000\n",
       "accuracy       0.355709  0.355709  0.355709       0.355709\n",
       "macro avg      0.356190  0.352943  0.321700  156597.000000\n",
       "weighted avg   0.356576  0.355709  0.324090  156597.000000"
      ]
     },
     "execution_count": 34,
     "metadata": {},
     "output_type": "execute_result"
    }
   ],
   "source": [
    "'''\n",
    "    Classification Report\n",
    "\n",
    "'''\n",
    "\n",
    "## Define the traget names\n",
    "target_names = ['Down Day', 'Stay' ,'Up Day']\n",
    "\n",
    "## Build a classifcation report\n",
    "svc_report = classification_report(y_true = y_test, y_pred = y_pred_svc, target_names = target_names, output_dict = True)\n",
    "\n",
    "## Add it to a data frame, transpose it for readability.\n",
    "svc_report_df = pd.DataFrame(svc_report).transpose()\n",
    "svc_report_df"
   ]
  },
  {
   "cell_type": "code",
   "execution_count": 36,
   "metadata": {
    "colab": {
     "base_uri": "https://localhost:8080/",
     "height": 673
    },
    "id": "z_q3LuZBxZez",
    "outputId": "e26fe849-cc4e-406c-8bff-e6d8a746d618"
   },
   "outputs": [
    {
     "data": {
      "image/png": "[encoded data removed]",
      "text/plain": [
       "<Figure size 1440x1152 with 2 Axes>"
      ]
     },
     "metadata": {
      "needs_background": "light"
     },
     "output_type": "display_data"
    }
   ],
   "source": [
    "'''\n",
    "    Confusion Matrix\n",
    "'''\n",
    "\n",
    "svc_matrix = confusion_matrix(y_test, y_pred_svc)\n",
    "svc_matrix\n",
    "\n",
    "# Creating a dataframe for a array-formatted Confusion matrix,so it will be easy for plotting.\n",
    "svc_matrix_df = pd.DataFrame(svc_matrix,\n",
    "                            index = ['Down Day','Stay','Up day'], \n",
    "                            columns = ['Down Day','Stay','Up day'])\n",
    "\n",
    "#Plotting the confusion matrix\n",
    "plt.figure(figsize=(20,16))\n",
    "sns.heatmap(svc_matrix_df, annot=True)\n",
    "plt.rc('font', size=20) \n",
    "plt.title('Confusion Matrix - SVM\\n')\n",
    "plt.ylabel('Actal Values')\n",
    "plt.xlabel('Predicted Values')\n",
    "plt.show()"
   ]
  },
  {
   "cell_type": "code",
   "execution_count": 37,
   "metadata": {},
   "outputs": [],
   "source": [
    "y_prob_svc = pipe_svc_clf.predict_proba(X_test)"
   ]
  },
  {
   "cell_type": "code",
   "execution_count": 38,
   "metadata": {
    "colab": {
     "base_uri": "https://localhost:8080/"
    },
    "id": "yrhNBR5VxZe0",
    "outputId": "c50b4d46-9317-42bf-857c-bd6f9fee1543"
   },
   "outputs": [
    {
     "name": "stdout",
     "output_type": "stream",
     "text": [
      "One-vs-One ROC AUC scores:\n",
      "0.506784 (macro),\n",
      "0.506797 (weighted by prevalence)\n",
      "---------------------------------------\n",
      "One-vs-Rest ROC AUC scores:\n",
      "0.506683 (macro),\n",
      "0.506951 (weighted by prevalence)\n"
     ]
    }
   ],
   "source": [
    "'''\n",
    "  * AUC(Area Under the ROC Curve)\n",
    "  \n",
    "    ROC curve의 밑면적.   \n",
    "    0~1까지로 1에 가까울수록 좋은 모델   \n",
    "    https://koreapy.tistory.com/752\n",
    "\n",
    "'''\n",
    "#y_prob_svc = pipe_svc_clf.predict_proba(X_test)\n",
    "\n",
    "n_classes = 3\n",
    "\n",
    "macro_roc_auc_ovo = roc_auc_score(y_test, y_prob_svc, multi_class=\"ovo\",\n",
    "                                  average=\"macro\")\n",
    "weighted_roc_auc_ovo = roc_auc_score(y_test, y_prob_svc, multi_class=\"ovo\",\n",
    "                                     average=\"weighted\")\n",
    "macro_roc_auc_ovr = roc_auc_score(y_test, y_prob_svc, multi_class=\"ovr\",\n",
    "                                  average=\"macro\")\n",
    "weighted_roc_auc_ovr = roc_auc_score(y_test, y_prob_svc, multi_class=\"ovr\",\n",
    "                                     average=\"weighted\")\n",
    "\n",
    "print(\"One-vs-One ROC AUC scores:\\n{:.6f} (macro),\\n{:.6f} \"\n",
    "      \"(weighted by prevalence)\"\n",
    "      .format(macro_roc_auc_ovo, weighted_roc_auc_ovo))\n",
    "print('---------------------------------------')\n",
    "print(\"One-vs-Rest ROC AUC scores:\\n{:.6f} (macro),\\n{:.6f} \"\n",
    "      \"(weighted by prevalence)\"\n",
    "      .format(macro_roc_auc_ovr, weighted_roc_auc_ovr))"
   ]
  },
  {
   "cell_type": "markdown",
   "metadata": {
    "id": "qyb5uUeuxZe1"
   },
   "source": [
    "### 3-3-3-4. 학습결과 저장(백테스팅용)"
   ]
  },
  {
   "cell_type": "code",
   "execution_count": 40,
   "metadata": {
    "id": "dFHWEO6txZe1"
   },
   "outputs": [],
   "source": [
    "# 학습모델이 예측한 Label\n",
    "\n",
    "svc_predicted_label = pd.DataFrame({'SVM_Predicted_label':y_pred_svc})"
   ]
  },
  {
   "cell_type": "code",
   "execution_count": 41,
   "metadata": {
    "colab": {
     "base_uri": "https://localhost:8080/",
     "height": 424
    },
    "id": "Wgg0h4vVxZe2",
    "outputId": "862451f8-9618-44c8-87ed-bca19a8cb4b5"
   },
   "outputs": [
    {
     "data": {
      "text/html": [
       "<div>\n",
       "<style scoped>\n",
       "    .dataframe tbody tr th:only-of-type {\n",
       "        vertical-align: middle;\n",
       "    }\n",
       "\n",
       "    .dataframe tbody tr th {\n",
       "        vertical-align: top;\n",
       "    }\n",
       "\n",
       "    .dataframe thead th {\n",
       "        text-align: right;\n",
       "    }\n",
       "</style>\n",
       "<table border=\"1\" class=\"dataframe\">\n",
       "  <thead>\n",
       "    <tr style=\"text-align: right;\">\n",
       "      <th></th>\n",
       "      <th>SVM_Predicted_label</th>\n",
       "    </tr>\n",
       "  </thead>\n",
       "  <tbody>\n",
       "    <tr>\n",
       "      <th>0</th>\n",
       "      <td>1</td>\n",
       "    </tr>\n",
       "    <tr>\n",
       "      <th>1</th>\n",
       "      <td>1</td>\n",
       "    </tr>\n",
       "    <tr>\n",
       "      <th>2</th>\n",
       "      <td>1</td>\n",
       "    </tr>\n",
       "    <tr>\n",
       "      <th>3</th>\n",
       "      <td>1</td>\n",
       "    </tr>\n",
       "    <tr>\n",
       "      <th>4</th>\n",
       "      <td>-1</td>\n",
       "    </tr>\n",
       "    <tr>\n",
       "      <th>...</th>\n",
       "      <td>...</td>\n",
       "    </tr>\n",
       "    <tr>\n",
       "      <th>156592</th>\n",
       "      <td>-1</td>\n",
       "    </tr>\n",
       "    <tr>\n",
       "      <th>156593</th>\n",
       "      <td>-1</td>\n",
       "    </tr>\n",
       "    <tr>\n",
       "      <th>156594</th>\n",
       "      <td>-1</td>\n",
       "    </tr>\n",
       "    <tr>\n",
       "      <th>156595</th>\n",
       "      <td>-1</td>\n",
       "    </tr>\n",
       "    <tr>\n",
       "      <th>156596</th>\n",
       "      <td>-1</td>\n",
       "    </tr>\n",
       "  </tbody>\n",
       "</table>\n",
       "<p>156597 rows × 1 columns</p>\n",
       "</div>"
      ],
      "text/plain": [
       "        SVM_Predicted_label\n",
       "0                         1\n",
       "1                         1\n",
       "2                         1\n",
       "3                         1\n",
       "4                        -1\n",
       "...                     ...\n",
       "156592                   -1\n",
       "156593                   -1\n",
       "156594                   -1\n",
       "156595                   -1\n",
       "156596                   -1\n",
       "\n",
       "[156597 rows x 1 columns]"
      ]
     },
     "execution_count": 41,
     "metadata": {},
     "output_type": "execute_result"
    }
   ],
   "source": [
    "svc_predicted_label"
   ]
  },
  {
   "cell_type": "code",
   "execution_count": 42,
   "metadata": {
    "colab": {
     "base_uri": "https://localhost:8080/"
    },
    "id": "-ASV1KFpxZe4",
    "outputId": "48bcf6c8-ada3-41ed-bda1-645fda06b0ff"
   },
   "outputs": [
    {
     "data": {
      "text/plain": [
       "array([[0.3096841 , 0.17767422, 0.51264168],\n",
       "       [0.27417741, 0.17530517, 0.55051742],\n",
       "       [0.32474281, 0.23369046, 0.44156673],\n",
       "       ...,\n",
       "       [0.54939846, 0.05540975, 0.39519179],\n",
       "       [0.53901145, 0.05545034, 0.40553821],\n",
       "       [0.51453848, 0.05386155, 0.43159997]])"
      ]
     },
     "execution_count": 42,
     "metadata": {},
     "output_type": "execute_result"
    }
   ],
   "source": [
    "y_prob_svc"
   ]
  },
  {
   "cell_type": "code",
   "execution_count": 43,
   "metadata": {},
   "outputs": [],
   "source": [
    "# 학습모델이 예측한 확률 Dataframe\n",
    "\n",
    "\n",
    "column_names = ['SVM_Down Day','SVM_Stay','SVM_Up day']\n",
    "\n",
    "svc_pred_prob = pd.DataFrame(y_prob_svc, columns=column_names)"
   ]
  },
  {
   "cell_type": "code",
   "execution_count": 44,
   "metadata": {
    "colab": {
     "base_uri": "https://localhost:8080/",
     "height": 424
    },
    "id": "RjT7dfFgxZe4",
    "outputId": "59da1205-5631-4cc8-f6ee-a9c417a4d831"
   },
   "outputs": [
    {
     "data": {
      "text/html": [
       "<div>\n",
       "<style scoped>\n",
       "    .dataframe tbody tr th:only-of-type {\n",
       "        vertical-align: middle;\n",
       "    }\n",
       "\n",
       "    .dataframe tbody tr th {\n",
       "        vertical-align: top;\n",
       "    }\n",
       "\n",
       "    .dataframe thead th {\n",
       "        text-align: right;\n",
       "    }\n",
       "</style>\n",
       "<table border=\"1\" class=\"dataframe\">\n",
       "  <thead>\n",
       "    <tr style=\"text-align: right;\">\n",
       "      <th></th>\n",
       "      <th>SVM_Down Day</th>\n",
       "      <th>SVM_Stay</th>\n",
       "      <th>SVM_Up day</th>\n",
       "    </tr>\n",
       "  </thead>\n",
       "  <tbody>\n",
       "    <tr>\n",
       "      <th>0</th>\n",
       "      <td>0.309684</td>\n",
       "      <td>0.177674</td>\n",
       "      <td>0.512642</td>\n",
       "    </tr>\n",
       "    <tr>\n",
       "      <th>1</th>\n",
       "      <td>0.274177</td>\n",
       "      <td>0.175305</td>\n",
       "      <td>0.550517</td>\n",
       "    </tr>\n",
       "    <tr>\n",
       "      <th>2</th>\n",
       "      <td>0.324743</td>\n",
       "      <td>0.233690</td>\n",
       "      <td>0.441567</td>\n",
       "    </tr>\n",
       "    <tr>\n",
       "      <th>3</th>\n",
       "      <td>0.388259</td>\n",
       "      <td>0.197816</td>\n",
       "      <td>0.413926</td>\n",
       "    </tr>\n",
       "    <tr>\n",
       "      <th>4</th>\n",
       "      <td>0.363465</td>\n",
       "      <td>0.283827</td>\n",
       "      <td>0.352708</td>\n",
       "    </tr>\n",
       "    <tr>\n",
       "      <th>...</th>\n",
       "      <td>...</td>\n",
       "      <td>...</td>\n",
       "      <td>...</td>\n",
       "    </tr>\n",
       "    <tr>\n",
       "      <th>156592</th>\n",
       "      <td>0.549049</td>\n",
       "      <td>0.064681</td>\n",
       "      <td>0.386271</td>\n",
       "    </tr>\n",
       "    <tr>\n",
       "      <th>156593</th>\n",
       "      <td>0.541344</td>\n",
       "      <td>0.054793</td>\n",
       "      <td>0.403863</td>\n",
       "    </tr>\n",
       "    <tr>\n",
       "      <th>156594</th>\n",
       "      <td>0.549398</td>\n",
       "      <td>0.055410</td>\n",
       "      <td>0.395192</td>\n",
       "    </tr>\n",
       "    <tr>\n",
       "      <th>156595</th>\n",
       "      <td>0.539011</td>\n",
       "      <td>0.055450</td>\n",
       "      <td>0.405538</td>\n",
       "    </tr>\n",
       "    <tr>\n",
       "      <th>156596</th>\n",
       "      <td>0.514538</td>\n",
       "      <td>0.053862</td>\n",
       "      <td>0.431600</td>\n",
       "    </tr>\n",
       "  </tbody>\n",
       "</table>\n",
       "<p>156597 rows × 3 columns</p>\n",
       "</div>"
      ],
      "text/plain": [
       "        SVM_Down Day  SVM_Stay  SVM_Up day\n",
       "0           0.309684  0.177674    0.512642\n",
       "1           0.274177  0.175305    0.550517\n",
       "2           0.324743  0.233690    0.441567\n",
       "3           0.388259  0.197816    0.413926\n",
       "4           0.363465  0.283827    0.352708\n",
       "...              ...       ...         ...\n",
       "156592      0.549049  0.064681    0.386271\n",
       "156593      0.541344  0.054793    0.403863\n",
       "156594      0.549398  0.055410    0.395192\n",
       "156595      0.539011  0.055450    0.405538\n",
       "156596      0.514538  0.053862    0.431600\n",
       "\n",
       "[156597 rows x 3 columns]"
      ]
     },
     "execution_count": 44,
     "metadata": {},
     "output_type": "execute_result"
    }
   ],
   "source": [
    "svc_pred_prob"
   ]
  },
  {
   "cell_type": "code",
   "execution_count": 46,
   "metadata": {
    "colab": {
     "base_uri": "https://localhost:8080/",
     "height": 424
    },
    "id": "JJ7MALtixZe5",
    "outputId": "f55993fe-3eef-4916-b379-c06885b1fc45"
   },
   "outputs": [
    {
     "data": {
      "text/html": [
       "<div>\n",
       "<style scoped>\n",
       "    .dataframe tbody tr th:only-of-type {\n",
       "        vertical-align: middle;\n",
       "    }\n",
       "\n",
       "    .dataframe tbody tr th {\n",
       "        vertical-align: top;\n",
       "    }\n",
       "\n",
       "    .dataframe thead th {\n",
       "        text-align: right;\n",
       "    }\n",
       "</style>\n",
       "<table border=\"1\" class=\"dataframe\">\n",
       "  <thead>\n",
       "    <tr style=\"text-align: right;\">\n",
       "      <th></th>\n",
       "      <th>SVM_Predicted_label</th>\n",
       "      <th>SVM_Down Day</th>\n",
       "      <th>SVM_Stay</th>\n",
       "      <th>SVM_Up day</th>\n",
       "    </tr>\n",
       "  </thead>\n",
       "  <tbody>\n",
       "    <tr>\n",
       "      <th>0</th>\n",
       "      <td>1</td>\n",
       "      <td>0.309684</td>\n",
       "      <td>0.177674</td>\n",
       "      <td>0.512642</td>\n",
       "    </tr>\n",
       "    <tr>\n",
       "      <th>1</th>\n",
       "      <td>1</td>\n",
       "      <td>0.274177</td>\n",
       "      <td>0.175305</td>\n",
       "      <td>0.550517</td>\n",
       "    </tr>\n",
       "    <tr>\n",
       "      <th>2</th>\n",
       "      <td>1</td>\n",
       "      <td>0.324743</td>\n",
       "      <td>0.233690</td>\n",
       "      <td>0.441567</td>\n",
       "    </tr>\n",
       "    <tr>\n",
       "      <th>3</th>\n",
       "      <td>1</td>\n",
       "      <td>0.388259</td>\n",
       "      <td>0.197816</td>\n",
       "      <td>0.413926</td>\n",
       "    </tr>\n",
       "    <tr>\n",
       "      <th>4</th>\n",
       "      <td>-1</td>\n",
       "      <td>0.363465</td>\n",
       "      <td>0.283827</td>\n",
       "      <td>0.352708</td>\n",
       "    </tr>\n",
       "    <tr>\n",
       "      <th>...</th>\n",
       "      <td>...</td>\n",
       "      <td>...</td>\n",
       "      <td>...</td>\n",
       "      <td>...</td>\n",
       "    </tr>\n",
       "    <tr>\n",
       "      <th>156592</th>\n",
       "      <td>-1</td>\n",
       "      <td>0.549049</td>\n",
       "      <td>0.064681</td>\n",
       "      <td>0.386271</td>\n",
       "    </tr>\n",
       "    <tr>\n",
       "      <th>156593</th>\n",
       "      <td>-1</td>\n",
       "      <td>0.541344</td>\n",
       "      <td>0.054793</td>\n",
       "      <td>0.403863</td>\n",
       "    </tr>\n",
       "    <tr>\n",
       "      <th>156594</th>\n",
       "      <td>-1</td>\n",
       "      <td>0.549398</td>\n",
       "      <td>0.055410</td>\n",
       "      <td>0.395192</td>\n",
       "    </tr>\n",
       "    <tr>\n",
       "      <th>156595</th>\n",
       "      <td>-1</td>\n",
       "      <td>0.539011</td>\n",
       "      <td>0.055450</td>\n",
       "      <td>0.405538</td>\n",
       "    </tr>\n",
       "    <tr>\n",
       "      <th>156596</th>\n",
       "      <td>-1</td>\n",
       "      <td>0.514538</td>\n",
       "      <td>0.053862</td>\n",
       "      <td>0.431600</td>\n",
       "    </tr>\n",
       "  </tbody>\n",
       "</table>\n",
       "<p>156597 rows × 4 columns</p>\n",
       "</div>"
      ],
      "text/plain": [
       "        SVM_Predicted_label  SVM_Down Day  SVM_Stay  SVM_Up day\n",
       "0                         1      0.309684  0.177674    0.512642\n",
       "1                         1      0.274177  0.175305    0.550517\n",
       "2                         1      0.324743  0.233690    0.441567\n",
       "3                         1      0.388259  0.197816    0.413926\n",
       "4                        -1      0.363465  0.283827    0.352708\n",
       "...                     ...           ...       ...         ...\n",
       "156592                   -1      0.549049  0.064681    0.386271\n",
       "156593                   -1      0.541344  0.054793    0.403863\n",
       "156594                   -1      0.549398  0.055410    0.395192\n",
       "156595                   -1      0.539011  0.055450    0.405538\n",
       "156596                   -1      0.514538  0.053862    0.431600\n",
       "\n",
       "[156597 rows x 4 columns]"
      ]
     },
     "execution_count": 46,
     "metadata": {},
     "output_type": "execute_result"
    }
   ],
   "source": [
    "# Predictied labels과 Prediction probabilities를 합치기\n",
    "\n",
    "svc_pred_prob_total = pd.merge(svc_predicted_label, svc_pred_prob, left_index=True, right_index=True)\n",
    "svc_pred_prob_total"
   ]
  },
  {
   "cell_type": "code",
   "execution_count": 48,
   "metadata": {},
   "outputs": [],
   "source": [
    "# csv 파일 출력\n",
    "\n",
    "svc_pred_prob_total.to_csv(os.getenv('HOME') + '/aiffel/svc_pred_prob_all_features_220607_7.csv')"
   ]
  },
  {
   "cell_type": "code",
   "execution_count": null,
   "metadata": {},
   "outputs": [],
   "source": []
  },
  {
   "cell_type": "code",
   "execution_count": null,
   "metadata": {},
   "outputs": [],
   "source": []
  },
  {
   "cell_type": "code",
   "execution_count": null,
   "metadata": {},
   "outputs": [],
   "source": []
  },
  {
   "cell_type": "code",
   "execution_count": null,
   "metadata": {},
   "outputs": [],
   "source": []
  },
  {
   "cell_type": "code",
   "execution_count": null,
   "metadata": {},
   "outputs": [],
   "source": []
  },
  {
   "cell_type": "markdown",
   "metadata": {
    "id": "IvfbsHoU5JD8"
   },
   "source": [
    "## 3-3-5. 학습결과 취합(Back testing용)   \n",
    "Date, Open, High, Low, CLose, Volume 열 추가"
   ]
  },
  {
   "cell_type": "code",
   "execution_count": null,
   "metadata": {
    "colab": {
     "base_uri": "https://localhost:8080/",
     "height": 505
    },
    "id": "Z1za3GnS5p_1",
    "outputId": "02e7d560-d7ae-4e3b-9f88-9fb4c4479fd7"
   },
   "outputs": [],
   "source": [
    "dataset_0 = pd.read_csv('/content/gdrive/MyDrive/project/final_featured_dataset_preprocessed2.csv')\n",
    "dataset_0"
   ]
  },
  {
   "cell_type": "code",
   "execution_count": null,
   "metadata": {
    "colab": {
     "base_uri": "https://localhost:8080/"
    },
    "id": "fTIjIj8JTcOc",
    "outputId": "e0f235c1-be65-47f4-b8c9-82b56588f581"
   },
   "outputs": [],
   "source": [
    "dataset_0.columns"
   ]
  },
  {
   "cell_type": "code",
   "execution_count": null,
   "metadata": {
    "colab": {
     "base_uri": "https://localhost:8080/",
     "height": 505
    },
    "id": "IltI7QokU6cC",
    "outputId": "063048f6-7c6a-43fe-92ef-5dd5a18beb9e"
   },
   "outputs": [],
   "source": [
    "# 필요없는 columns 삭제\n",
    "dataset_0 = dataset_0.drop(['Unnamed: 0'], axis=1)\n",
    "dataset_0"
   ]
  },
  {
   "cell_type": "code",
   "execution_count": null,
   "metadata": {
    "colab": {
     "base_uri": "https://localhost:8080/",
     "height": 424
    },
    "id": "me12Nu3EUNCF",
    "outputId": "cd99ce38-8c8e-4a10-9702-d931b0344832"
   },
   "outputs": [],
   "source": [
    "dataset_1 = pd.read_csv('/content/gdrive/MyDrive/project/lgbm_pred_prob_2.csv')\n",
    "dataset_1"
   ]
  },
  {
   "cell_type": "code",
   "execution_count": null,
   "metadata": {
    "id": "eBIAeZJlVb_E"
   },
   "outputs": [],
   "source": [
    "dataset_1 = dataset_1.set_index('Unnamed: 0')"
   ]
  },
  {
   "cell_type": "code",
   "execution_count": null,
   "metadata": {
    "colab": {
     "base_uri": "https://localhost:8080/",
     "height": 455
    },
    "id": "e_7ilf9aV36G",
    "outputId": "e90eadde-378b-4931-eaaa-824cf4dad65b"
   },
   "outputs": [],
   "source": [
    "dataset_1"
   ]
  },
  {
   "cell_type": "code",
   "execution_count": null,
   "metadata": {
    "colab": {
     "base_uri": "https://localhost:8080/",
     "height": 424
    },
    "id": "ohWftgBFV5vf",
    "outputId": "e6a92251-2a70-4ee8-8745-f0d832632f37"
   },
   "outputs": [],
   "source": [
    "dataset_2 = pd.read_csv('/content/gdrive/MyDrive/project/rf_pred_prob_2.csv')\n",
    "dataset_2"
   ]
  },
  {
   "cell_type": "code",
   "execution_count": null,
   "metadata": {
    "colab": {
     "base_uri": "https://localhost:8080/",
     "height": 455
    },
    "id": "3KuaQ74pWysh",
    "outputId": "7e458010-a47e-4eed-d2b7-530057a91950"
   },
   "outputs": [],
   "source": [
    "dataset_2 = dataset_2.set_index('Unnamed: 0')\n",
    "dataset_2"
   ]
  },
  {
   "cell_type": "code",
   "execution_count": null,
   "metadata": {
    "colab": {
     "base_uri": "https://localhost:8080/",
     "height": 485
    },
    "id": "Hog4xKmIW350",
    "outputId": "c653600e-2cce-464f-c07c-532b5271fac5"
   },
   "outputs": [],
   "source": [
    "dataset_3 = pd.read_csv('/content/gdrive/MyDrive/project/log_pred_prob_2.csv')\n",
    "dataset_3"
   ]
  },
  {
   "cell_type": "code",
   "execution_count": null,
   "metadata": {
    "colab": {
     "base_uri": "https://localhost:8080/",
     "height": 499
    },
    "id": "DIlbKTNnXBN3",
    "outputId": "6804277d-2fe8-4877-e6b0-32bc7dbb8cdb"
   },
   "outputs": [],
   "source": [
    "dataset_3 = dataset_3.set_index('Unnamed: 0')\n",
    "dataset_3"
   ]
  },
  {
   "cell_type": "code",
   "execution_count": null,
   "metadata": {
    "colab": {
     "base_uri": "https://localhost:8080/",
     "height": 499
    },
    "id": "aQBquJkOXsr3",
    "outputId": "fdceea7a-3136-434b-9310-487f043c37f6"
   },
   "outputs": [],
   "source": [
    "dataset_3"
   ]
  },
  {
   "cell_type": "code",
   "execution_count": null,
   "metadata": {
    "colab": {
     "base_uri": "https://localhost:8080/",
     "height": 455
    },
    "id": "zkwcEOtTZnoO",
    "outputId": "8aacd762-38c9-4792-b012-9c202ec2eb47"
   },
   "outputs": [],
   "source": [
    "dataset_1"
   ]
  },
  {
   "cell_type": "code",
   "execution_count": null,
   "metadata": {
    "colab": {
     "base_uri": "https://localhost:8080/",
     "height": 455
    },
    "id": "B2JA5S7lZnl_",
    "outputId": "01fb2b3e-5b59-4e1a-a844-28d1f1c410e7"
   },
   "outputs": [],
   "source": [
    "dataset_2"
   ]
  },
  {
   "cell_type": "code",
   "execution_count": null,
   "metadata": {
    "id": "3W4FGocjexrz"
   },
   "outputs": [],
   "source": [
    "dataset_1.to_csv('/content/gdrive/MyDrive/project/dataset_1.csv')"
   ]
  },
  {
   "cell_type": "code",
   "execution_count": null,
   "metadata": {
    "id": "_qelO4zkexoY"
   },
   "outputs": [],
   "source": [
    "dataset_2.to_csv('/content/gdrive/MyDrive/project/dataset_2.csv')"
   ]
  },
  {
   "cell_type": "code",
   "execution_count": null,
   "metadata": {
    "id": "c-zFL76IexlQ"
   },
   "outputs": [],
   "source": [
    "dataset_3.to_csv('/content/gdrive/MyDrive/project/dataset_3.csv')"
   ]
  },
  {
   "cell_type": "code",
   "execution_count": null,
   "metadata": {
    "colab": {
     "base_uri": "https://localhost:8080/",
     "height": 505
    },
    "id": "0mDgd-LEexiU",
    "outputId": "3ddbd882-9b50-4409-cafd-9150bd05e45f"
   },
   "outputs": [],
   "source": [
    "lgbm_rf_log = pd.read_csv('/content/gdrive/MyDrive/project/lgbm_rf_log.csv')\n",
    "lgbm_rf_log"
   ]
  },
  {
   "cell_type": "code",
   "execution_count": null,
   "metadata": {
    "colab": {
     "base_uri": "https://localhost:8080/",
     "height": 377
    },
    "id": "frZ_9GdLXksF",
    "outputId": "cf863f7b-70ab-4444-8502-97c5f2dd3e8f"
   },
   "outputs": [],
   "source": [
    "import missingno as msno\n",
    "\n",
    "msno.matrix(lgbm_rf_log)"
   ]
  },
  {
   "cell_type": "code",
   "execution_count": null,
   "metadata": {
    "colab": {
     "base_uri": "https://localhost:8080/",
     "height": 400
    },
    "id": "q1dUpEbQai2e",
    "outputId": "62bdfdd5-4fa8-493d-9e97-716cd0932558"
   },
   "outputs": [],
   "source": [
    "msno.bar(lgbm_rf_log)"
   ]
  },
  {
   "cell_type": "code",
   "execution_count": null,
   "metadata": {
    "colab": {
     "base_uri": "https://localhost:8080/",
     "height": 505
    },
    "id": "KOaMoWKVhvEZ",
    "outputId": "7b358ce0-0bfe-4c6b-e6db-6264dafd9b89"
   },
   "outputs": [],
   "source": [
    "#lgbm_rf_log = lgbm_rf_log.set_index('Unnamed: 0')\n",
    "lgbm_rf_log"
   ]
  },
  {
   "cell_type": "code",
   "execution_count": null,
   "metadata": {
    "colab": {
     "base_uri": "https://localhost:8080/",
     "height": 505
    },
    "id": "X4Xr3L7ph7k3",
    "outputId": "56967c63-2a13-479e-e476-ebbb70b0d7f6"
   },
   "outputs": [],
   "source": [
    "dataset"
   ]
  },
  {
   "cell_type": "code",
   "execution_count": null,
   "metadata": {
    "colab": {
     "base_uri": "https://localhost:8080/",
     "height": 505
    },
    "id": "kJjuwpjCiIv4",
    "outputId": "a7f2e9fd-c3ee-48fe-fe0e-be7b33cc5c58"
   },
   "outputs": [],
   "source": [
    "dataset_merge_col = pd.merge(dataset,lgbm_rf_log, on='Unnamed: 0')\n",
    "dataset_merge_col"
   ]
  },
  {
   "cell_type": "code",
   "execution_count": null,
   "metadata": {
    "colab": {
     "base_uri": "https://localhost:8080/",
     "height": 308
    },
    "id": "vIxLJkvpji90",
    "outputId": "e85cb27f-e240-4e9d-c8c7-83d152224d71"
   },
   "outputs": [],
   "source": [
    "msno.matrix(dataset_merge_col)"
   ]
  },
  {
   "cell_type": "code",
   "execution_count": null,
   "metadata": {
    "id": "P0e_jttFjq91"
   },
   "outputs": [],
   "source": [
    "dataset_merge_col.to_csv('/content/gdrive/MyDrive/project/dataset_merge_col.csv')"
   ]
  },
  {
   "cell_type": "code",
   "execution_count": null,
   "metadata": {
    "id": "LQ6659XZj_bL"
   },
   "outputs": [],
   "source": [
    "dataset = pd.read_csv('/content/gdrive/MyDrive/project/final_featured_dataset_preprocessed2_window.csv')"
   ]
  },
  {
   "cell_type": "code",
   "execution_count": null,
   "metadata": {
    "colab": {
     "base_uri": "https://localhost:8080/",
     "height": 505
    },
    "id": "2IJtNIDDmvwm",
    "outputId": "e902748d-fb65-48b0-a7e2-fe77fb128cbd"
   },
   "outputs": [],
   "source": [
    "dataset"
   ]
  },
  {
   "cell_type": "code",
   "execution_count": null,
   "metadata": {
    "colab": {
     "base_uri": "https://localhost:8080/",
     "height": 424
    },
    "id": "uuATQgyNmzM8",
    "outputId": "c92e9b39-8e68-4f4f-face-6354625fd4f2"
   },
   "outputs": [],
   "source": [
    "final_labeled_dataset = pd.read_csv('/content/gdrive/MyDrive/project/final_labeled_dataset.csv')\n",
    "\n",
    "final_labeled_dataset"
   ]
  },
  {
   "cell_type": "code",
   "execution_count": null,
   "metadata": {
    "colab": {
     "base_uri": "https://localhost:8080/",
     "height": 424
    },
    "id": "1PeiQCZIrZvL",
    "outputId": "bfd2bd8c-43d5-46a8-eb38-f4651782fdca"
   },
   "outputs": [],
   "source": [
    "final_labeled_dataset = final_labeled_dataset.dropna(axis=0)\n",
    "final_labeled_dataset"
   ]
  },
  {
   "cell_type": "code",
   "execution_count": null,
   "metadata": {
    "colab": {
     "base_uri": "https://localhost:8080/",
     "height": 424
    },
    "id": "NXSLBHz94trm",
    "outputId": "10dd8260-7d8b-408c-f9cc-c0fc445fd1e9"
   },
   "outputs": [],
   "source": [
    "# 필요없는 columns 삭제\n",
    "final_labeled_dataset = final_labeled_dataset.drop(['Unnamed: 0'], axis=1)\n",
    "final_labeled_dataset"
   ]
  },
  {
   "cell_type": "code",
   "execution_count": null,
   "metadata": {
    "colab": {
     "base_uri": "https://localhost:8080/",
     "height": 424
    },
    "id": "_8Gjwptr5L70",
    "outputId": "f40da3fe-068a-467c-e6ce-79f0ccae494f"
   },
   "outputs": [],
   "source": [
    "# 데이터프레임 인덱스 리셋\n",
    "\n",
    "final_labeled_dataset.reset_index(drop=False, inplace=True)\n",
    "final_labeled_dataset"
   ]
  },
  {
   "cell_type": "code",
   "execution_count": null,
   "metadata": {
    "colab": {
     "base_uri": "https://localhost:8080/",
     "height": 424
    },
    "id": "lztfwLwE5WZA",
    "outputId": "b7d3c51a-5bbb-4cbd-cf85-6acb6efd6918"
   },
   "outputs": [],
   "source": [
    "# 필요없는 columns 삭제\n",
    "final_labeled_dataset = final_labeled_dataset.drop(['index'], axis=1)\n",
    "final_labeled_dataset"
   ]
  },
  {
   "cell_type": "code",
   "execution_count": null,
   "metadata": {
    "colab": {
     "base_uri": "https://localhost:8080/",
     "height": 712
    },
    "id": "DRYsAJJ25g4y",
    "outputId": "25d8f5f9-db31-4c29-ef28-044d2e17dbf0"
   },
   "outputs": [],
   "source": [
    "msno.bar(final_labeled_dataset)"
   ]
  },
  {
   "cell_type": "code",
   "execution_count": null,
   "metadata": {
    "colab": {
     "base_uri": "https://localhost:8080/",
     "height": 663
    },
    "id": "0s1RKiW06jjG",
    "outputId": "cf0df881-612e-441a-968c-db2923a38c35"
   },
   "outputs": [],
   "source": [
    "msno.matrix(final_labeled_dataset)"
   ]
  },
  {
   "cell_type": "code",
   "execution_count": null,
   "metadata": {
    "colab": {
     "base_uri": "https://localhost:8080/",
     "height": 424
    },
    "id": "7r9aTtfw6xSx",
    "outputId": "b867d78d-8558-480d-836a-655f4f43d92f"
   },
   "outputs": [],
   "source": [
    "output_lgbm_rf_log_220606_3 = pd.read_csv('/content/gdrive/MyDrive/project/output_lgbm_rf_log_220606_3.csv')\n",
    "output_lgbm_rf_log_220606_3"
   ]
  },
  {
   "cell_type": "code",
   "execution_count": null,
   "metadata": {
    "colab": {
     "base_uri": "https://localhost:8080/",
     "height": 757
    },
    "id": "wWHAXnXBgqe0",
    "outputId": "4dfe2b05-2745-4a88-c867-24ff1ecf1252"
   },
   "outputs": [],
   "source": [
    "msno.matrix(output_lgbm_rf_log_220606_3)"
   ]
  },
  {
   "cell_type": "code",
   "execution_count": null,
   "metadata": {
    "colab": {
     "base_uri": "https://localhost:8080/",
     "height": 806
    },
    "id": "DqOMSf-XhD2k",
    "outputId": "325719c4-13ca-47a4-a880-47b8e2d610e8"
   },
   "outputs": [],
   "source": [
    "msno.bar(output_lgbm_rf_log_220606_3)"
   ]
  },
  {
   "cell_type": "markdown",
   "metadata": {
    "id": "mee9vGTRYwwK"
   },
   "source": [
    "## 3-3-6. Ensemble Learning - Stacking"
   ]
  },
  {
   "cell_type": "code",
   "execution_count": null,
   "metadata": {
    "id": "GTNQy7_4Qqsw"
   },
   "outputs": [],
   "source": [
    "rfc = rand_frst_clf\n",
    "svmc = svm_clf\n",
    "lgbc = lgb_clf\n",
    "logc = log_clf"
   ]
  },
  {
   "cell_type": "code",
   "execution_count": null,
   "metadata": {
    "id": "mizK1JT4RLGR"
   },
   "outputs": [],
   "source": [
    "estimators = [('rfc',rfc),\n",
    "            #  ('svmc',svmc),\n",
    "              ('lgbc',lgbc),\n",
    "              ('logc',logc)] \n",
    "              #list of (str, estimator)"
   ]
  },
  {
   "cell_type": "code",
   "execution_count": null,
   "metadata": {
    "id": "A6AHN8WURV9y"
   },
   "outputs": [],
   "source": [
    "lr = LogisticRegression()"
   ]
  },
  {
   "cell_type": "code",
   "execution_count": null,
   "metadata": {
    "id": "Q0G8V27PRXUj"
   },
   "outputs": [],
   "source": [
    "sclf = StackingClassifier(estimators=estimators, final_estimator=lr)"
   ]
  },
  {
   "cell_type": "code",
   "execution_count": null,
   "metadata": {
    "id": "bYlbyKi6RXRK"
   },
   "outputs": [],
   "source": [
    "sclf.fit(X_train,y_train)"
   ]
  },
  {
   "cell_type": "code",
   "execution_count": null,
   "metadata": {
    "id": "Ey4aok7KRXNU"
   },
   "outputs": [],
   "source": [
    "y_pred_stacked = sclf.predict(X_test)"
   ]
  },
  {
   "cell_type": "markdown",
   "metadata": {
    "id": "uweC0Git26c2"
   },
   "source": [
    "## 3-3-7. Ensemble Learning - Voting"
   ]
  },
  {
   "cell_type": "markdown",
   "metadata": {
    "id": "LdhDHfkPIrFA"
   },
   "source": [
    "*Voting modes: hard, soft*  \n",
    "\n",
    "hard 보다는 soft가 안전한 선택임"
   ]
  },
  {
   "cell_type": "markdown",
   "metadata": {
    "id": "Mn1N8JNuIe68"
   },
   "source": [
    "In hard mode, the winning prediction is the one with “the most votes”. In Figure 2 we see an example of how the Voting Classifier works in hard mode. On the other hand, the Voting Classifier in soft mode considers the probabilities thrown by each ML model, these probabilities will be weighted and averaged, consequently the winning class will be the one with the highest weighted and averaged probability."
   ]
  },
  {
   "cell_type": "markdown",
   "metadata": {
    "id": "_gzgK3QKIm8t"
   },
   "source": [
    "![image.png](data:image/png;base64,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)"
   ]
  },
  {
   "cell_type": "code",
   "execution_count": null,
   "metadata": {
    "id": "vGb1kGbk3CQR"
   },
   "outputs": [],
   "source": [
    "vc = VotingClassifier(estimators=estimators, voting='soft')"
   ]
  },
  {
   "cell_type": "code",
   "execution_count": null,
   "metadata": {
    "id": "LAuF7KWeS7WM"
   },
   "outputs": [],
   "source": [
    "vc.fit(X_train,y_train)"
   ]
  },
  {
   "cell_type": "code",
   "execution_count": null,
   "metadata": {
    "id": "oERZy34ZS7Sk"
   },
   "outputs": [],
   "source": [
    "y_pred_voting = vc.predict(X_test)"
   ]
  }
 ],
 "metadata": {
  "accelerator": "TPU",
  "colab": {
   "collapsed_sections": [
    "XncOYYhBFJGr",
    "CubLgGUnFb_1",
    "6XfcRfEX_tcG",
    "pmTj5NETUZ_0",
    "nmtUoJ0dUzCV",
    "6S-U84FSXHcZ",
    "s_W4d-PDewaj",
    "Q5hAZesqeesW",
    "fnkMND5JeesY",
    "Xc5Nt0XRxZez"
   ],
   "machine_shape": "hm",
   "name": "3-2_Modeling_ML_220606_2.ipynb",
   "provenance": [],
   "toc_visible": true
  },
  "kernelspec": {
   "display_name": "Python 3 (ipykernel)",
   "language": "python",
   "name": "python3"
  },
  "language_info": {
   "codemirror_mode": {
    "name": "ipython",
    "version": 3
   },
   "file_extension": ".py",
   "mimetype": "text/x-python",
   "name": "python",
   "nbconvert_exporter": "python",
   "pygments_lexer": "ipython3",
   "version": "3.9.7"
  }
 },
 "nbformat": 4,
 "nbformat_minor": 1
}
